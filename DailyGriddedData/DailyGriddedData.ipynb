{
 "cells": [
  {
   "cell_type": "code",
   "execution_count": 33,
   "metadata": {},
   "outputs": [],
   "source": [
    "import numpy as np\n",
    "import netCDF4 as nc"
   ]
  },
  {
   "cell_type": "code",
   "execution_count": 34,
   "metadata": {},
   "outputs": [
    {
     "name": "stdout",
     "output_type": "stream",
     "text": [
      ".idea\n",
      ".ipynb_checkpoints\n",
      "clim.png\n",
      "Complete_TAVG_Daily_LatLong1_1880.nc\n",
      "Complete_TAVG_Daily_LatLong1_1890.nc\n",
      "Complete_TAVG_Daily_LatLong1_1900.nc\n",
      "Complete_TAVG_Daily_LatLong1_1910.nc\n",
      "Complete_TAVG_Daily_LatLong1_1920.nc\n",
      "Complete_TAVG_Daily_LatLong1_1930.nc\n",
      "Complete_TAVG_Daily_LatLong1_1940.nc\n",
      "Complete_TAVG_Daily_LatLong1_1950.nc\n",
      "Complete_TAVG_Daily_LatLong1_1960.nc\n",
      "Complete_TAVG_Daily_LatLong1_1970.nc\n",
      "Complete_TAVG_Daily_LatLong1_1980.nc\n",
      "Complete_TAVG_Daily_LatLong1_1990.nc\n",
      "Complete_TAVG_Daily_LatLong1_2000.nc\n",
      "Complete_TAVG_Daily_LatLong1_2010.nc\n",
      "coord3.rar\n",
      "coord3Thres3.csv\n",
      "coord3Thres5.csv\n",
      "coord3Thres7.csv\n",
      "coord5.rar\n",
      "coordInterval3\n",
      "coordInterval3.zip\n",
      "corr.png\n",
      "DailyGriddedData.ipynb\n",
      "DailyGriddedDataExtraction.py\n",
      "DailyGriddedDataExtractionMultiThread.py\n",
      "DataCollection.ipynb\n",
      "decade.png\n",
      "fileName\n",
      "history.png\n",
      "p1p2.png\n",
      "p3p4.png\n",
      "readme.txt\n",
      "res\n",
      "resMonth\n",
      "Untitled.ipynb\n"
     ]
    }
   ],
   "source": [
    "# Make sure the .nc files are put in the same dir of this ipynb file\n",
    "# Example\n",
    "\n",
    "import os\n",
    "for filename in os.listdir(\"./\"):\n",
    "    print(filename)\n",
    "    \n",
    "# Expected Result    \n",
    "    \n",
    "# .ipynb_checkpoints\n",
    "# Complete_TAVG_Daily_LatLong1_1880.nc\n",
    "# Complete_TAVG_Daily_LatLong1_1890.nc\n",
    "# Complete_TAVG_Daily_LatLong1_1900.nc\n",
    "# Complete_TAVG_Daily_LatLong1_1910.nc\n",
    "# Complete_TAVG_Daily_LatLong1_1920.nc\n",
    "# Complete_TAVG_Daily_LatLong1_1930.nc\n",
    "# Complete_TAVG_Daily_LatLong1_1940.nc\n",
    "# Complete_TAVG_Daily_LatLong1_1950.nc\n",
    "# Complete_TAVG_Daily_LatLong1_1960.nc\n",
    "# Complete_TAVG_Daily_LatLong1_1970.nc\n",
    "# Complete_TAVG_Daily_LatLong1_1980.nc\n",
    "# Complete_TAVG_Daily_LatLong1_1990.nc\n",
    "# Complete_TAVG_Daily_LatLong1_2000.nc\n",
    "# Complete_TAVG_Daily_LatLong1_2010.nc\n",
    "# DailyGriddedData.ipynb\n",
    "# readme.txt\n",
    "# Other files"
   ]
  },
  {
   "cell_type": "code",
   "execution_count": 35,
   "metadata": {},
   "outputs": [],
   "source": [
    "file_obj = nc.Dataset(\"Complete_TAVG_Daily_LatLong1_2000.nc\",encoding=\"utf-8\")"
   ]
  },
  {
   "cell_type": "code",
   "execution_count": 36,
   "metadata": {},
   "outputs": [
    {
     "data": {
      "text/plain": [
       "<class 'netCDF4._netCDF4.Dataset'>\n",
       "root group (NETCDF4 data model, file format HDF5):\n",
       "    Conventions: Berkeley Earth Internal Convention (based on CF-1.5)\n",
       "    title: Gridded Berkeley Earth Surface Temperature Anomaly Field\n",
       "    history: 17-Jun-2018 21:13:13\n",
       "    institution: Berkeley Earth Surface Temperature Project\n",
       "    source_history: 17-Jun-2018 16:15:15\n",
       "    comment: This file contains surface temperature anomaly field gridded on a 1� (longitude) by 1� (latitude) grid-box basis.\n",
       "    dimensions(sizes): longitude(360), latitude(180), time(3653), day_number(365)\n",
       "    variables(dimensions): float32 longitude(longitude), float32 latitude(latitude), float64 date_number(time), float64 year(time), float64 month(time), float64 day(time), float64 day_of_year(time), float64 land_mask(latitude, longitude), float32 temperature(time, latitude, longitude), float32 climatology(day_number, latitude, longitude)\n",
       "    groups: "
      ]
     },
     "execution_count": 36,
     "metadata": {},
     "output_type": "execute_result"
    }
   ],
   "source": [
    "file_obj"
   ]
  },
  {
   "cell_type": "code",
   "execution_count": 37,
   "metadata": {},
   "outputs": [
    {
     "data": {
      "text/plain": [
       "dict_keys(['longitude', 'latitude', 'date_number', 'year', 'month', 'day', 'day_of_year', 'land_mask', 'temperature', 'climatology'])"
      ]
     },
     "execution_count": 37,
     "metadata": {},
     "output_type": "execute_result"
    }
   ],
   "source": [
    "file_obj.variables.keys()"
   ]
  },
  {
   "cell_type": "markdown",
   "metadata": {},
   "source": [
    "## Explanation of columns"
   ]
  },
  {
   "cell_type": "markdown",
   "metadata": {},
   "source": [
    "### Longitude\n",
    "\n",
    "A list of longitude values indicating grid box centers. \n",
    "Values are in degrees, with positive values used for the Eastern Hemisphere.\n"
   ]
  },
  {
   "cell_type": "code",
   "execution_count": 38,
   "metadata": {},
   "outputs": [
    {
     "data": {
      "text/plain": [
       "masked_array(data=[-179.5, -178.5, -177.5, -176.5, -175.5, -174.5, -173.5,\n",
       "                   -172.5, -171.5, -170.5, -169.5, -168.5, -167.5, -166.5,\n",
       "                   -165.5, -164.5, -163.5, -162.5, -161.5, -160.5, -159.5,\n",
       "                   -158.5, -157.5, -156.5, -155.5, -154.5, -153.5, -152.5,\n",
       "                   -151.5, -150.5, -149.5, -148.5, -147.5, -146.5, -145.5,\n",
       "                   -144.5, -143.5, -142.5, -141.5, -140.5, -139.5, -138.5,\n",
       "                   -137.5, -136.5, -135.5, -134.5, -133.5, -132.5, -131.5,\n",
       "                   -130.5, -129.5, -128.5, -127.5, -126.5, -125.5, -124.5,\n",
       "                   -123.5, -122.5, -121.5, -120.5, -119.5, -118.5, -117.5,\n",
       "                   -116.5, -115.5, -114.5, -113.5, -112.5, -111.5, -110.5,\n",
       "                   -109.5, -108.5, -107.5, -106.5, -105.5, -104.5, -103.5,\n",
       "                   -102.5, -101.5, -100.5,  -99.5,  -98.5,  -97.5,  -96.5,\n",
       "                    -95.5,  -94.5,  -93.5,  -92.5,  -91.5,  -90.5,  -89.5,\n",
       "                    -88.5,  -87.5,  -86.5,  -85.5,  -84.5,  -83.5,  -82.5,\n",
       "                    -81.5,  -80.5,  -79.5,  -78.5,  -77.5,  -76.5,  -75.5,\n",
       "                    -74.5,  -73.5,  -72.5,  -71.5,  -70.5,  -69.5,  -68.5,\n",
       "                    -67.5,  -66.5,  -65.5,  -64.5,  -63.5,  -62.5,  -61.5,\n",
       "                    -60.5,  -59.5,  -58.5,  -57.5,  -56.5,  -55.5,  -54.5,\n",
       "                    -53.5,  -52.5,  -51.5,  -50.5,  -49.5,  -48.5,  -47.5,\n",
       "                    -46.5,  -45.5,  -44.5,  -43.5,  -42.5,  -41.5,  -40.5,\n",
       "                    -39.5,  -38.5,  -37.5,  -36.5,  -35.5,  -34.5,  -33.5,\n",
       "                    -32.5,  -31.5,  -30.5,  -29.5,  -28.5,  -27.5,  -26.5,\n",
       "                    -25.5,  -24.5,  -23.5,  -22.5,  -21.5,  -20.5,  -19.5,\n",
       "                    -18.5,  -17.5,  -16.5,  -15.5,  -14.5,  -13.5,  -12.5,\n",
       "                    -11.5,  -10.5,   -9.5,   -8.5,   -7.5,   -6.5,   -5.5,\n",
       "                     -4.5,   -3.5,   -2.5,   -1.5,   -0.5,    0.5,    1.5,\n",
       "                      2.5,    3.5,    4.5,    5.5,    6.5,    7.5,    8.5,\n",
       "                      9.5,   10.5,   11.5,   12.5,   13.5,   14.5,   15.5,\n",
       "                     16.5,   17.5,   18.5,   19.5,   20.5,   21.5,   22.5,\n",
       "                     23.5,   24.5,   25.5,   26.5,   27.5,   28.5,   29.5,\n",
       "                     30.5,   31.5,   32.5,   33.5,   34.5,   35.5,   36.5,\n",
       "                     37.5,   38.5,   39.5,   40.5,   41.5,   42.5,   43.5,\n",
       "                     44.5,   45.5,   46.5,   47.5,   48.5,   49.5,   50.5,\n",
       "                     51.5,   52.5,   53.5,   54.5,   55.5,   56.5,   57.5,\n",
       "                     58.5,   59.5,   60.5,   61.5,   62.5,   63.5,   64.5,\n",
       "                     65.5,   66.5,   67.5,   68.5,   69.5,   70.5,   71.5,\n",
       "                     72.5,   73.5,   74.5,   75.5,   76.5,   77.5,   78.5,\n",
       "                     79.5,   80.5,   81.5,   82.5,   83.5,   84.5,   85.5,\n",
       "                     86.5,   87.5,   88.5,   89.5,   90.5,   91.5,   92.5,\n",
       "                     93.5,   94.5,   95.5,   96.5,   97.5,   98.5,   99.5,\n",
       "                    100.5,  101.5,  102.5,  103.5,  104.5,  105.5,  106.5,\n",
       "                    107.5,  108.5,  109.5,  110.5,  111.5,  112.5,  113.5,\n",
       "                    114.5,  115.5,  116.5,  117.5,  118.5,  119.5,  120.5,\n",
       "                    121.5,  122.5,  123.5,  124.5,  125.5,  126.5,  127.5,\n",
       "                    128.5,  129.5,  130.5,  131.5,  132.5,  133.5,  134.5,\n",
       "                    135.5,  136.5,  137.5,  138.5,  139.5,  140.5,  141.5,\n",
       "                    142.5,  143.5,  144.5,  145.5,  146.5,  147.5,  148.5,\n",
       "                    149.5,  150.5,  151.5,  152.5,  153.5,  154.5,  155.5,\n",
       "                    156.5,  157.5,  158.5,  159.5,  160.5,  161.5,  162.5,\n",
       "                    163.5,  164.5,  165.5,  166.5,  167.5,  168.5,  169.5,\n",
       "                    170.5,  171.5,  172.5,  173.5,  174.5,  175.5,  176.5,\n",
       "                    177.5,  178.5,  179.5],\n",
       "             mask=False,\n",
       "       fill_value=1e+20,\n",
       "            dtype=float32)"
      ]
     },
     "execution_count": 38,
     "metadata": {},
     "output_type": "execute_result"
    }
   ],
   "source": [
    "file_obj.variables['longitude'][:]"
   ]
  },
  {
   "cell_type": "markdown",
   "metadata": {},
   "source": [
    "### Latitude\n",
    "\n",
    "A list of latitude values indicating grid box centers. \n",
    "Values are in degrees, with positive values used for the Northern Hemisphere."
   ]
  },
  {
   "cell_type": "code",
   "execution_count": 39,
   "metadata": {},
   "outputs": [
    {
     "data": {
      "text/plain": [
       "masked_array(data=[-89.5, -88.5, -87.5, -86.5, -85.5, -84.5, -83.5, -82.5,\n",
       "                   -81.5, -80.5, -79.5, -78.5, -77.5, -76.5, -75.5, -74.5,\n",
       "                   -73.5, -72.5, -71.5, -70.5, -69.5, -68.5, -67.5, -66.5,\n",
       "                   -65.5, -64.5, -63.5, -62.5, -61.5, -60.5, -59.5, -58.5,\n",
       "                   -57.5, -56.5, -55.5, -54.5, -53.5, -52.5, -51.5, -50.5,\n",
       "                   -49.5, -48.5, -47.5, -46.5, -45.5, -44.5, -43.5, -42.5,\n",
       "                   -41.5, -40.5, -39.5, -38.5, -37.5, -36.5, -35.5, -34.5,\n",
       "                   -33.5, -32.5, -31.5, -30.5, -29.5, -28.5, -27.5, -26.5,\n",
       "                   -25.5, -24.5, -23.5, -22.5, -21.5, -20.5, -19.5, -18.5,\n",
       "                   -17.5, -16.5, -15.5, -14.5, -13.5, -12.5, -11.5, -10.5,\n",
       "                    -9.5,  -8.5,  -7.5,  -6.5,  -5.5,  -4.5,  -3.5,  -2.5,\n",
       "                    -1.5,  -0.5,   0.5,   1.5,   2.5,   3.5,   4.5,   5.5,\n",
       "                     6.5,   7.5,   8.5,   9.5,  10.5,  11.5,  12.5,  13.5,\n",
       "                    14.5,  15.5,  16.5,  17.5,  18.5,  19.5,  20.5,  21.5,\n",
       "                    22.5,  23.5,  24.5,  25.5,  26.5,  27.5,  28.5,  29.5,\n",
       "                    30.5,  31.5,  32.5,  33.5,  34.5,  35.5,  36.5,  37.5,\n",
       "                    38.5,  39.5,  40.5,  41.5,  42.5,  43.5,  44.5,  45.5,\n",
       "                    46.5,  47.5,  48.5,  49.5,  50.5,  51.5,  52.5,  53.5,\n",
       "                    54.5,  55.5,  56.5,  57.5,  58.5,  59.5,  60.5,  61.5,\n",
       "                    62.5,  63.5,  64.5,  65.5,  66.5,  67.5,  68.5,  69.5,\n",
       "                    70.5,  71.5,  72.5,  73.5,  74.5,  75.5,  76.5,  77.5,\n",
       "                    78.5,  79.5,  80.5,  81.5,  82.5,  83.5,  84.5,  85.5,\n",
       "                    86.5,  87.5,  88.5,  89.5],\n",
       "             mask=False,\n",
       "       fill_value=1e+20,\n",
       "            dtype=float32)"
      ]
     },
     "execution_count": 39,
     "metadata": {},
     "output_type": "execute_result"
    }
   ],
   "source": [
    "file_obj.variables['latitude'][:]"
   ]
  },
  {
   "cell_type": "markdown",
   "metadata": {},
   "source": [
    "### Date_number\n",
    "\n",
    "A list of dates at which data is reported.  \n",
    "Data format is decimal with year plus fraction of year reported, with each value corresponding to the midpoint of the respective day.  \n",
    "For example, 2000.0123 indicates January 5, 2000.  "
   ]
  },
  {
   "cell_type": "code",
   "execution_count": 40,
   "metadata": {},
   "outputs": [
    {
     "data": {
      "text/plain": [
       "masked_array(data=[2000.00136612, 2000.00409836, 2000.0068306 , ...,\n",
       "                   2009.99315068, 2009.99589041, 2009.99863014],\n",
       "             mask=False,\n",
       "       fill_value=1e+20)"
      ]
     },
     "execution_count": 40,
     "metadata": {},
     "output_type": "execute_result"
    }
   ],
   "source": [
    "file_obj.variables['date_number'][:]"
   ]
  },
  {
   "cell_type": "code",
   "execution_count": 41,
   "metadata": {},
   "outputs": [
    {
     "data": {
      "text/plain": [
       "(3653,)"
      ]
     },
     "execution_count": 41,
     "metadata": {},
     "output_type": "execute_result"
    }
   ],
   "source": [
    "file_obj.variables['date_number'][:].shape"
   ]
  },
  {
   "cell_type": "code",
   "execution_count": 42,
   "metadata": {},
   "outputs": [
    {
     "name": "stdout",
     "output_type": "stream",
     "text": [
      "0.4986338797755252\n",
      "1.4959016393265756\n",
      "2.493169398877626\n",
      "3.4904371584286764\n",
      "4.487704918062718\n"
     ]
    }
   ],
   "source": [
    "for i in file_obj.variables['date_number'][:].data[:5]:\n",
    "    print((i-int(i))*365)"
   ]
  },
  {
   "cell_type": "markdown",
   "metadata": {},
   "source": [
    "### Year\n",
    "\n",
    "A list of years at which data is reported. \n",
    "Combine with \"month\" and \"day\" to form a full date."
   ]
  },
  {
   "cell_type": "code",
   "execution_count": 43,
   "metadata": {},
   "outputs": [
    {
     "data": {
      "text/plain": [
       "masked_array(data=[2000., 2000., 2000., ..., 2009., 2009., 2009.],\n",
       "             mask=False,\n",
       "       fill_value=1e+20)"
      ]
     },
     "execution_count": 43,
     "metadata": {},
     "output_type": "execute_result"
    }
   ],
   "source": [
    "file_obj.variables['year'][:]"
   ]
  },
  {
   "cell_type": "markdown",
   "metadata": {},
   "source": [
    "### Month\n",
    "A list of months at which data is reported. \n",
    "Combine with \"year\" and \"day\" to form a full date."
   ]
  },
  {
   "cell_type": "code",
   "execution_count": 44,
   "metadata": {},
   "outputs": [
    {
     "data": {
      "text/plain": [
       "masked_array(data=[ 1.,  1.,  1., ..., 12., 12., 12.],\n",
       "             mask=False,\n",
       "       fill_value=1e+20)"
      ]
     },
     "execution_count": 44,
     "metadata": {},
     "output_type": "execute_result"
    }
   ],
   "source": [
    "file_obj.variables['month'][:]"
   ]
  },
  {
   "cell_type": "markdown",
   "metadata": {},
   "source": [
    "### Day\n",
    "A list of days at which data is reported. \n",
    "Combine with \"year\" and \"month\" to form a full date."
   ]
  },
  {
   "cell_type": "code",
   "execution_count": 45,
   "metadata": {},
   "outputs": [
    {
     "data": {
      "text/plain": [
       "masked_array(data=[ 1.,  2.,  3., ..., 29., 30., 31.],\n",
       "             mask=False,\n",
       "       fill_value=1e+20)"
      ]
     },
     "execution_count": 45,
     "metadata": {},
     "output_type": "execute_result"
    }
   ],
   "source": [
    "file_obj.variables['day'][:]"
   ]
  },
  {
   "cell_type": "markdown",
   "metadata": {},
   "source": [
    "### Day_of_year\n",
    "A list of the day of year (1-365) at which data is reported.  \n",
    "This can be used with the \"climatology\" to select the appropriate climatology day to use with each day of temperature anomalies."
   ]
  },
  {
   "cell_type": "code",
   "execution_count": 46,
   "metadata": {},
   "outputs": [
    {
     "data": {
      "text/plain": [
       "masked_array(data=[  1.,   2.,   3., ..., 363., 364., 365.],\n",
       "             mask=False,\n",
       "       fill_value=1e+20)"
      ]
     },
     "execution_count": 46,
     "metadata": {},
     "output_type": "execute_result"
    }
   ],
   "source": [
    "file_obj.variables['day_of_year'][:]"
   ]
  },
  {
   "cell_type": "markdown",
   "metadata": {},
   "source": [
    "During leap years, there will be one duplicated day_of_year value."
   ]
  },
  {
   "cell_type": "code",
   "execution_count": 47,
   "metadata": {},
   "outputs": [
    {
     "name": "stdout",
     "output_type": "stream",
     "text": [
      "13\n",
      "10\n"
     ]
    }
   ],
   "source": [
    "from collections import Counter\n",
    "\n",
    "print(max(Counter(file_obj.variables['day_of_year'][:].data).values()))\n",
    "print(min(Counter(file_obj.variables['day_of_year'][:].data).values()))"
   ]
  },
  {
   "cell_type": "markdown",
   "metadata": {},
   "source": [
    "### Land_mask\n",
    "\n",
    "For each grid cell, the fraction of the cell which corresponds to land (as opposed to ocean or other large water bodies).  "
   ]
  },
  {
   "cell_type": "code",
   "execution_count": 48,
   "metadata": {},
   "outputs": [
    {
     "data": {
      "text/plain": [
       "masked_array(\n",
       "  data=[[1., 1., 1., ..., 1., 1., 1.],\n",
       "        [1., 1., 1., ..., 1., 1., 1.],\n",
       "        [1., 1., 1., ..., 1., 1., 1.],\n",
       "        ...,\n",
       "        [0., 0., 0., ..., 0., 0., 0.],\n",
       "        [0., 0., 0., ..., 0., 0., 0.],\n",
       "        [0., 0., 0., ..., 0., 0., 0.]],\n",
       "  mask=False,\n",
       "  fill_value=1e+20)"
      ]
     },
     "execution_count": 48,
     "metadata": {},
     "output_type": "execute_result"
    }
   ],
   "source": [
    "file_obj.variables['land_mask'][:]"
   ]
  },
  {
   "cell_type": "markdown",
   "metadata": {},
   "source": [
    "### Temperature\n",
    "\n",
    "A surface air temperature anomaly field.  \n",
    "The dimension are latitude x longitude x date.   \n",
    "Each element measures the local temperature anomaly, in degrees C, for the corresponding location and date.  \n",
    "Missing values are reported as NaN.  \n",
    "A value is reported as missing if the grid cell is less than 5% land or if the coverage diagnostic indicates that the locally available data provides less than a 20% constraint on the anomaly."
   ]
  },
  {
   "cell_type": "code",
   "execution_count": 49,
   "metadata": {},
   "outputs": [
    {
     "name": "stderr",
     "output_type": "stream",
     "text": [
      "C:\\Users\\39402\\Anaconda3\\lib\\site-packages\\ipykernel_launcher.py:1: UserWarning: WARNING: valid_min not used since it\n",
      "cannot be safely cast to variable data type\n",
      "  \"\"\"Entry point for launching an IPython kernel.\n",
      "C:\\Users\\39402\\Anaconda3\\lib\\site-packages\\ipykernel_launcher.py:1: UserWarning: WARNING: valid_max not used since it\n",
      "cannot be safely cast to variable data type\n",
      "  \"\"\"Entry point for launching an IPython kernel.\n"
     ]
    },
    {
     "data": {
      "text/plain": [
       "masked_array(\n",
       "  data=[[[-2.614938974380493, -2.614286184310913, -2.613651752471924,\n",
       "          ..., -2.617009162902832, -2.616300582885742,\n",
       "          -2.615610361099243],\n",
       "         [-2.4770781993865967, -2.476513147354126, -2.4760098457336426,\n",
       "          ..., -2.479161024093628, -2.478400707244873,\n",
       "          -2.4777069091796875],\n",
       "         [-2.3174619674682617, -2.3183095455169678, -2.319305419921875,\n",
       "          ..., -2.3158364295959473, -2.316222906112671,\n",
       "          -2.316765546798706],\n",
       "         ...,\n",
       "         [--, --, --, ..., --, --, --],\n",
       "         [--, --, --, ..., --, --, --],\n",
       "         [--, --, --, ..., --, --, --]],\n",
       "\n",
       "        [[-1.093410611152649, -1.0945838689804077, -1.0957797765731812,\n",
       "          ..., -1.0900306701660156, -1.0911335945129395,\n",
       "          -1.0922603607177734],\n",
       "         [-0.9042283892631531, -0.9081172347068787, -0.9120954871177673,\n",
       "          ..., -0.893113911151886, -0.8967251181602478,\n",
       "          -0.90043044090271],\n",
       "         [-0.6810401082038879, -0.687728762626648, -0.6946268081665039,\n",
       "          ..., -0.6622342467308044, -0.6682927012443542,\n",
       "          -0.6745613217353821],\n",
       "         ...,\n",
       "         [--, --, --, ..., --, --, --],\n",
       "         [--, --, --, ..., --, --, --],\n",
       "         [--, --, --, ..., --, --, --]],\n",
       "\n",
       "        [[-1.4375159740447998, -1.438000202178955, -1.4385356903076172,\n",
       "          ..., -1.4363733530044556, -1.4367022514343262,\n",
       "          -1.4370832443237305],\n",
       "         [-1.1064252853393555, -1.1090465784072876, -1.1118139028549194,\n",
       "          ..., -1.0994610786437988, -1.1016303300857544,\n",
       "          -1.1039525270462036],\n",
       "         [-0.7786251306533813, -0.7846943140029907, -0.791000485420227,\n",
       "          ..., -0.7618969082832336, -0.7672207355499268,\n",
       "          -0.7727986574172974],\n",
       "         ...,\n",
       "         [--, --, --, ..., --, --, --],\n",
       "         [--, --, --, ..., --, --, --],\n",
       "         [--, --, --, ..., --, --, --]],\n",
       "\n",
       "        ...,\n",
       "\n",
       "        [[-1.9391130208969116, -1.9399547576904297, -1.9408423900604248,\n",
       "          ..., -1.936861515045166, -1.9375665187835693,\n",
       "          -1.9383169412612915],\n",
       "         [-1.6185177564620972, -1.618165373802185, -1.6179670095443726,\n",
       "          ..., -1.6204593181610107, -1.6196686029434204,\n",
       "          -1.6190201044082642],\n",
       "         [-1.3042758703231812, -1.3006597757339478, -1.2972475290298462,\n",
       "          ..., -1.316348671913147, -1.3121200799942017,\n",
       "          -1.3080958127975464],\n",
       "         ...,\n",
       "         [--, --, --, ..., --, --, --],\n",
       "         [--, --, --, ..., --, --, --],\n",
       "         [--, --, --, ..., --, --, --]],\n",
       "\n",
       "        [[-1.4613975286483765, -1.4604371786117554, -1.45955228805542,\n",
       "          ..., -1.464726448059082, -1.4635426998138428,\n",
       "          -1.462432861328125],\n",
       "         [-0.9224018454551697, -0.9180037975311279, -0.9138622283935547,\n",
       "          ..., -0.9371008276939392, -0.9319538474082947,\n",
       "          -0.9270529747009277],\n",
       "         [-0.39054763317108154, -0.38158103823661804,\n",
       "          -0.372967392206192, ..., -0.4195467233657837,\n",
       "          -0.40953218936920166, -0.3998652696609497],\n",
       "         ...,\n",
       "         [--, --, --, ..., --, --, --],\n",
       "         [--, --, --, ..., --, --, --],\n",
       "         [--, --, --, ..., --, --, --]],\n",
       "\n",
       "        [[-2.1049978733062744, -2.103978395462036, -2.1030077934265137,\n",
       "          ..., -2.108344078063965, -2.1071808338165283,\n",
       "          -2.106065273284912],\n",
       "         [-1.764774203300476, -1.7615211009979248, -1.7584271430969238,\n",
       "          ..., -1.775476336479187, -1.771753191947937,\n",
       "          -1.7681853771209717],\n",
       "         [-1.4009348154067993, -1.3954404592514038, -1.390250325202942,\n",
       "          ..., -1.4192392826080322, -1.4128350019454956,\n",
       "          -1.4067331552505493],\n",
       "         ...,\n",
       "         [--, --, --, ..., --, --, --],\n",
       "         [--, --, --, ..., --, --, --],\n",
       "         [--, --, --, ..., --, --, --]]],\n",
       "  mask=[[[False, False, False, ..., False, False, False],\n",
       "         [False, False, False, ..., False, False, False],\n",
       "         [False, False, False, ..., False, False, False],\n",
       "         ...,\n",
       "         [ True,  True,  True, ...,  True,  True,  True],\n",
       "         [ True,  True,  True, ...,  True,  True,  True],\n",
       "         [ True,  True,  True, ...,  True,  True,  True]],\n",
       "\n",
       "        [[False, False, False, ..., False, False, False],\n",
       "         [False, False, False, ..., False, False, False],\n",
       "         [False, False, False, ..., False, False, False],\n",
       "         ...,\n",
       "         [ True,  True,  True, ...,  True,  True,  True],\n",
       "         [ True,  True,  True, ...,  True,  True,  True],\n",
       "         [ True,  True,  True, ...,  True,  True,  True]],\n",
       "\n",
       "        [[False, False, False, ..., False, False, False],\n",
       "         [False, False, False, ..., False, False, False],\n",
       "         [False, False, False, ..., False, False, False],\n",
       "         ...,\n",
       "         [ True,  True,  True, ...,  True,  True,  True],\n",
       "         [ True,  True,  True, ...,  True,  True,  True],\n",
       "         [ True,  True,  True, ...,  True,  True,  True]],\n",
       "\n",
       "        ...,\n",
       "\n",
       "        [[False, False, False, ..., False, False, False],\n",
       "         [False, False, False, ..., False, False, False],\n",
       "         [False, False, False, ..., False, False, False],\n",
       "         ...,\n",
       "         [ True,  True,  True, ...,  True,  True,  True],\n",
       "         [ True,  True,  True, ...,  True,  True,  True],\n",
       "         [ True,  True,  True, ...,  True,  True,  True]],\n",
       "\n",
       "        [[False, False, False, ..., False, False, False],\n",
       "         [False, False, False, ..., False, False, False],\n",
       "         [False, False, False, ..., False, False, False],\n",
       "         ...,\n",
       "         [ True,  True,  True, ...,  True,  True,  True],\n",
       "         [ True,  True,  True, ...,  True,  True,  True],\n",
       "         [ True,  True,  True, ...,  True,  True,  True]],\n",
       "\n",
       "        [[False, False, False, ..., False, False, False],\n",
       "         [False, False, False, ..., False, False, False],\n",
       "         [False, False, False, ..., False, False, False],\n",
       "         ...,\n",
       "         [ True,  True,  True, ...,  True,  True,  True],\n",
       "         [ True,  True,  True, ...,  True,  True,  True],\n",
       "         [ True,  True,  True, ...,  True,  True,  True]]],\n",
       "  fill_value=nan,\n",
       "  dtype=float32)"
      ]
     },
     "execution_count": 49,
     "metadata": {},
     "output_type": "execute_result"
    }
   ],
   "source": [
    "file_obj.variables['temperature'][:]"
   ]
  },
  {
   "cell_type": "markdown",
   "metadata": {},
   "source": [
    "### Climatology\n",
    "For each grid cell, an estimate of the true surface temperature for each day of year (1-365) during the period January 1951 to December 1980 reported in degrees C.  \n",
    "The dimensions are latitude x longitude x day_of_year, where day_of_year has length 365.\n",
    "\n",
    "**An example can be found in the next part showing that Climatology column from different files are same.**"
   ]
  },
  {
   "cell_type": "code",
   "execution_count": 50,
   "metadata": {},
   "outputs": [
    {
     "data": {
      "text/plain": [
       "masked_array(\n",
       "  data=[[[-24.57350730895996, -24.559814453125, -24.55699348449707, ...,\n",
       "          -24.623008728027344, -24.60049057006836, -24.58745002746582],\n",
       "         [-26.85073471069336, -26.88797950744629, -26.942461013793945,\n",
       "          ..., -26.85883140563965, -26.839111328125,\n",
       "          -26.835569381713867],\n",
       "         [-26.22846794128418, -26.264320373535156, -26.259254455566406,\n",
       "          ..., -26.309627532958984, -26.278331756591797,\n",
       "          -26.231531143188477],\n",
       "         ...,\n",
       "         [--, --, --, ..., --, --, --],\n",
       "         [--, --, --, ..., --, --, --],\n",
       "         [--, --, --, ..., --, --, --]],\n",
       "\n",
       "        [[-24.640592575073242, -24.626792907714844, -24.62378692626953,\n",
       "          ..., -24.690349578857422, -24.66779327392578,\n",
       "          -24.654644012451172],\n",
       "         [-26.9128360748291, -26.949647903442383, -27.003568649291992,\n",
       "          ..., -26.92136573791504, -26.901626586914062,\n",
       "          -26.897947311401367],\n",
       "         [-26.28684425354004, -26.32185173034668, -26.31598663330078,\n",
       "          ..., -26.368515014648438, -26.3371524810791,\n",
       "          -26.290328979492188],\n",
       "         ...,\n",
       "         [--, --, --, ..., --, --, --],\n",
       "         [--, --, --, ..., --, --, --],\n",
       "         [--, --, --, ..., --, --, --]],\n",
       "\n",
       "        [[-24.724271774291992, -24.710357666015625, -24.707157135009766,\n",
       "          ..., -24.774293899536133, -24.751699447631836,\n",
       "          -24.73843765258789],\n",
       "         [-26.990394592285156, -27.0267391204834, -27.080049514770508,\n",
       "          ..., -26.999378204345703, -26.979625701904297,\n",
       "          -26.97580337524414],\n",
       "         [-26.359577178955078, -26.393665313720703, -26.386926651000977,\n",
       "          ..., -26.441791534423828, -26.41036033630371,\n",
       "          -26.363521575927734],\n",
       "         ...,\n",
       "         [--, --, --, ..., --, --, --],\n",
       "         [--, --, --, ..., --, --, --],\n",
       "         [--, --, --, ..., --, --, --]],\n",
       "\n",
       "        ...,\n",
       "\n",
       "        [[-24.472431182861328, -24.459022521972656, -24.456668853759766,\n",
       "          ..., -24.521238327026367, -24.498842239379883,\n",
       "          -24.486087799072266],\n",
       "         [-26.757719039916992, -26.796049118041992, -26.8519229888916,\n",
       "          ..., -26.76465606689453, -26.745025634765625,\n",
       "          -26.741846084594727],\n",
       "         [-26.139970779418945, -26.177888870239258, -26.174789428710938,\n",
       "          ..., -26.219806671142578, -26.188701629638672,\n",
       "          -26.141983032226562],\n",
       "         ...,\n",
       "         [--, --, --, ..., --, --, --],\n",
       "         [--, --, --, ..., --, --, --],\n",
       "         [--, --, --, ..., --, --, --]],\n",
       "\n",
       "        [[-24.4893856048584, -24.475889205932617, -24.4733943939209,\n",
       "          ..., -24.538410186767578, -24.515975952148438,\n",
       "          -24.50313377380371],\n",
       "         [-26.773141860961914, -26.811145782470703, -26.86660385131836,\n",
       "          ..., -26.780441284179688, -26.760774612426758,\n",
       "          -26.757482528686523],\n",
       "         [-26.155000686645508, -26.19230842590332, -26.188627243041992,\n",
       "          ..., -26.235240936279297, -26.204072952270508,\n",
       "          -26.157325744628906],\n",
       "         ...,\n",
       "         [--, --, --, ..., --, --, --],\n",
       "         [--, --, --, ..., --, --, --],\n",
       "         [--, --, --, ..., --, --, --]],\n",
       "\n",
       "        [[-24.523088455200195, -24.509496688842773, -24.50684356689453,\n",
       "          ..., -24.572343826293945, -24.549869537353516,\n",
       "          -24.536930084228516],\n",
       "         [-26.804153442382812, -26.841798782348633, -26.896793365478516,\n",
       "          ..., -26.81184196472168, -26.792146682739258,\n",
       "          -26.788734436035156],\n",
       "         [-26.184507369995117, -26.221126556396484, -26.21678924560547,\n",
       "          ..., -26.265188217163086, -26.233957290649414,\n",
       "          -26.187183380126953],\n",
       "         ...,\n",
       "         [--, --, --, ..., --, --, --],\n",
       "         [--, --, --, ..., --, --, --],\n",
       "         [--, --, --, ..., --, --, --]]],\n",
       "  mask=[[[False, False, False, ..., False, False, False],\n",
       "         [False, False, False, ..., False, False, False],\n",
       "         [False, False, False, ..., False, False, False],\n",
       "         ...,\n",
       "         [ True,  True,  True, ...,  True,  True,  True],\n",
       "         [ True,  True,  True, ...,  True,  True,  True],\n",
       "         [ True,  True,  True, ...,  True,  True,  True]],\n",
       "\n",
       "        [[False, False, False, ..., False, False, False],\n",
       "         [False, False, False, ..., False, False, False],\n",
       "         [False, False, False, ..., False, False, False],\n",
       "         ...,\n",
       "         [ True,  True,  True, ...,  True,  True,  True],\n",
       "         [ True,  True,  True, ...,  True,  True,  True],\n",
       "         [ True,  True,  True, ...,  True,  True,  True]],\n",
       "\n",
       "        [[False, False, False, ..., False, False, False],\n",
       "         [False, False, False, ..., False, False, False],\n",
       "         [False, False, False, ..., False, False, False],\n",
       "         ...,\n",
       "         [ True,  True,  True, ...,  True,  True,  True],\n",
       "         [ True,  True,  True, ...,  True,  True,  True],\n",
       "         [ True,  True,  True, ...,  True,  True,  True]],\n",
       "\n",
       "        ...,\n",
       "\n",
       "        [[False, False, False, ..., False, False, False],\n",
       "         [False, False, False, ..., False, False, False],\n",
       "         [False, False, False, ..., False, False, False],\n",
       "         ...,\n",
       "         [ True,  True,  True, ...,  True,  True,  True],\n",
       "         [ True,  True,  True, ...,  True,  True,  True],\n",
       "         [ True,  True,  True, ...,  True,  True,  True]],\n",
       "\n",
       "        [[False, False, False, ..., False, False, False],\n",
       "         [False, False, False, ..., False, False, False],\n",
       "         [False, False, False, ..., False, False, False],\n",
       "         ...,\n",
       "         [ True,  True,  True, ...,  True,  True,  True],\n",
       "         [ True,  True,  True, ...,  True,  True,  True],\n",
       "         [ True,  True,  True, ...,  True,  True,  True]],\n",
       "\n",
       "        [[False, False, False, ..., False, False, False],\n",
       "         [False, False, False, ..., False, False, False],\n",
       "         [False, False, False, ..., False, False, False],\n",
       "         ...,\n",
       "         [ True,  True,  True, ...,  True,  True,  True],\n",
       "         [ True,  True,  True, ...,  True,  True,  True],\n",
       "         [ True,  True,  True, ...,  True,  True,  True]]],\n",
       "  fill_value=nan,\n",
       "  dtype=float32)"
      ]
     },
     "execution_count": 50,
     "metadata": {},
     "output_type": "execute_result"
    }
   ],
   "source": [
    "file_obj.variables['climatology'][:]"
   ]
  },
  {
   "cell_type": "markdown",
   "metadata": {},
   "source": [
    "## Utility functions"
   ]
  },
  {
   "cell_type": "code",
   "execution_count": 51,
   "metadata": {},
   "outputs": [],
   "source": [
    "# global var, need initialzation\n",
    "DATASET=dict()\n",
    "\n",
    "# The org provides multiple datasets. \n",
    "# Change these global variables to accomodate new datasets.\n",
    "DATASET_PREFIX=\"Complete_TAVG_Daily_LatLong1_\"\n",
    "DATASET_BEGIN=1880\n",
    "DATASET_END=2020\n",
    "DATASET_INTERVAL=10\n",
    "\n",
    "def loadDatasets(decade=None):\n",
    "    global DATASET\n",
    "    \n",
    "    if not decade:\n",
    "        for i in range(DATASET_BEGIN,DATASET_END,DATASET_INTERVAL):\n",
    "            fileName=\"{prefix}{decd}.nc\".format(prefix = DATASET_PREFIX, decd = i)\n",
    "            DATASET[str(i)]=nc.Dataset(fileName,encoding=\"utf-8\")\n",
    "    else:\n",
    "        try:\n",
    "            fileName=\"{prefix}{decd}.nc\".format(prefix = DATASET_PREFIX, decd = decade)\n",
    "            DATASET[str(decade)]=nc.Dataset(fileName,encoding=\"utf-8\")\n",
    "        except:\n",
    "            raise NameError(\"Wrong input parameters for func loadDatasets()\")"
   ]
  },
  {
   "cell_type": "code",
   "execution_count": 52,
   "metadata": {},
   "outputs": [],
   "source": [
    "# examples\n",
    "\n",
    "# loadDatasets() # load all\n",
    "\n",
    "# loadDatasets(1990)  # load only target decades\n",
    "# loadDatasets(\"1990\") # either is ok"
   ]
  },
  {
   "cell_type": "markdown",
   "metadata": {},
   "source": [
    "Proof that all Climatology column from different files are same."
   ]
  },
  {
   "cell_type": "code",
   "execution_count": 53,
   "metadata": {},
   "outputs": [],
   "source": [
    "loadDatasets()\n",
    "\n",
    "climatology2000=DATASET[\"2000\"].variables['climatology'][:]\n",
    "for i in DATASET.values():\n",
    "    if not (i.variables['climatology'][:]==climatology2000).all():\n",
    "        raise RuntimeError(\"Difference detected\")"
   ]
  },
  {
   "cell_type": "code",
   "execution_count": null,
   "metadata": {},
   "outputs": [],
   "source": []
  },
  {
   "cell_type": "code",
   "execution_count": 54,
   "metadata": {},
   "outputs": [],
   "source": [
    "def getCoord(lat,lng):\n",
    "    # eg. Coord for New York: 40.7128° N, 74.0060° W\n",
    "    # input format: 41N, 74W\n",
    "    # output format: target indices for the fields that require lat/long, such as teperature/climatology\n",
    "    latIdx=lngIdx=0\n",
    "    \n",
    "    if lat.endswith(\"N\") or lat.endswith(\"n\"):\n",
    "        latIdx=90+int(lat[:-1])\n",
    "        if latIdx==180:\n",
    "            latIdx=179\n",
    "    elif lat.endswith(\"S\") or lat.endswith(\"s\"):\n",
    "        latIdx=90-int(lat[:-1])\n",
    "    else:\n",
    "        raise NameError(\"Wrong input parameters for func getCoord() in lat\")\n",
    "        \n",
    "    if lng.endswith(\"E\") or lng.endswith(\"e\"):\n",
    "        lngIdx=180+int(lng[:-1])\n",
    "        if lngIdx==360:\n",
    "            lngIdx=359\n",
    "    elif lng.endswith(\"W\") or lng.endswith(\"w\"):\n",
    "        lngIdx=180-int(lng[:-1])\n",
    "    else:\n",
    "        raise NameError(\"Wrong input parameters for func getCoord() in lng\")\n",
    "        \n",
    "    return latIdx,lngIdx"
   ]
  },
  {
   "cell_type": "code",
   "execution_count": null,
   "metadata": {},
   "outputs": [],
   "source": []
  },
  {
   "cell_type": "code",
   "execution_count": 55,
   "metadata": {},
   "outputs": [],
   "source": [
    "import calendar\n",
    "\n",
    "MonthDays=dict()\n",
    "for i in range(DATASET_BEGIN,DATASET_END+10,1):\n",
    "    for j in range(12):\n",
    "        MonthDays[str(i)+\"-\"+str(j+1)]=calendar.monthrange(i,j+1)[1]\n",
    "        "
   ]
  },
  {
   "cell_type": "code",
   "execution_count": 56,
   "metadata": {},
   "outputs": [],
   "source": [
    "def getHistoricalForCoord(lat,lng,freq=\"day\",interval=None):\n",
    "    # freq: enum: \"day\"/\"week\"/\"month\"\n",
    "    # returns the mean of the given freq\n",
    "    \n",
    "    # interval: time interval. eg. 1990 / 1950-2000 \n",
    "    # if None, return all records\n",
    "    \n",
    "    # lat, lng: eg. 41N, 74W\n",
    "    \n",
    "    # return: A list of float numbers\n",
    "    \n",
    "    monthInterval=False\n",
    "    numDays=0\n",
    "    if freq.lower()==\"day\":\n",
    "        numDays=1\n",
    "    elif freq.lower()==\"week\":\n",
    "        numDays=7\n",
    "    elif freq.lower()==\"month\":\n",
    "        monthInterval=True\n",
    "    elif freq.lower()==\"year\":\n",
    "        numDays=366\n",
    "    else:\n",
    "        print(\"Unrecognized freq in func getHistoricalForCoord. Proceeding with freq=day.\")\n",
    "        numDays=1\n",
    "    \n",
    "    \n",
    "    latIdx,lngIdx=getCoord(lat,lng)\n",
    "    \n",
    "    record=[]\n",
    "    timeStart,timeEnd=0,0\n",
    "    if not interval:\n",
    "        timeStart,timeEnd=DATASET_BEGIN,DATASET_END\n",
    "    else:\n",
    "        timeInterval=interval.split(\"-\")\n",
    "        if len(timeInterval)==1:\n",
    "            timeStart=int(timeInterval[0])\n",
    "            timeEnd=int(timeInterval[0])+10\n",
    "        else:\n",
    "            timeStart,timeEnd=int(timeInterval[0]),int(timeInterval[1])+10\n",
    "                \n",
    "    for i in range(timeStart,timeEnd,DATASET_INTERVAL):\n",
    "        record.append(DATASET[str(i)].variables['temperature'])\n",
    "    \n",
    "    # Store the number of days in each of the months\n",
    "    if monthInterval:\n",
    "        monthDays=MonthDays\n",
    "\n",
    "    # print(monthDays)\n",
    "    \n",
    "    ret=[]\n",
    "    for i in record:\n",
    "        if numDays==1:\n",
    "            ret.append(i[:,latIdx,lngIdx].filled(fill_value=0))\n",
    "        elif monthInterval:\n",
    "            prev=0\n",
    "            currYear=timeStart\n",
    "            currMonth=1\n",
    "            dataArray=i[:,latIdx,lngIdx].filled(fill_value=0)\n",
    "            dataLength=dataArray.shape[0]\n",
    "            while True:\n",
    "                duration=monthDays[str(currYear)+\"-\"+str(currMonth)]\n",
    "                ret.append(np.mean(dataArray[prev:prev+duration]))\n",
    "                prev+=duration\n",
    "                \n",
    "                if prev>=dataLength:\n",
    "                    break\n",
    "                \n",
    "                currMonth+=1\n",
    "                if currMonth==13:\n",
    "                    currMonth=1\n",
    "                    currYear+=1\n",
    "        else:\n",
    "            idx=0\n",
    "            dataArray=i[:,latIdx,lngIdx].filled(fill_value=0)\n",
    "            dataLength=i.shape[0]\n",
    "            while idx*numDays<dataLength:\n",
    "                # min used here to avoid index problems\n",
    "                ret.append(np.mean(dataArray[idx*numDays:min(dataLength,(idx+1)*numDays)]))\n",
    "                idx+=1\n",
    "                \n",
    "    if numDays==1:\n",
    "         ret=list(np.concatenate(ret))\n",
    "    \n",
    "    return ret\n"
   ]
  },
  {
   "cell_type": "code",
   "execution_count": 57,
   "metadata": {},
   "outputs": [],
   "source": [
    "# examples\n",
    "\n",
    "# getHistoricalForCoord(\"41n\",\"74W\",\"year\",\"1900-2010\")\n",
    "# getHistoricalForCoord(\"41n\",\"74W\",\"day\",\"2000-2010\")\n",
    "# getHistoricalForCoord(\"41n\",\"74W\",\"week\",\"2000\")\n",
    "# getHistoricalForCoord(\"41n\",\"74W\",\"Month\",\"2000\")"
   ]
  },
  {
   "cell_type": "code",
   "execution_count": 58,
   "metadata": {},
   "outputs": [],
   "source": [
    "import random\n",
    "import pickle"
   ]
  },
  {
   "cell_type": "code",
   "execution_count": 59,
   "metadata": {},
   "outputs": [],
   "source": [
    "def validate(l,num=5):\n",
    "    # Function used to validate that the results are non-zero entries\n",
    "    # To be used in future to filter out all zero entries\n",
    "    # Not used now\n",
    "    x=random.sample(l,num)\n",
    "    for i in x:\n",
    "        if i!=float(0):\n",
    "            return True\n",
    "        \n",
    "    return False"
   ]
  },
  {
   "cell_type": "code",
   "execution_count": 60,
   "metadata": {},
   "outputs": [],
   "source": [
    "def getHistoricalForAllCoord(freq=\"month\",timeInterval=None,CoordInterval=45):    \n",
    "    # Must be int\n",
    "    if type(CoordInterval)!=type(2):\n",
    "        raise ValueError(\"Wrong parameter CoordInterval in func getHistoricalForAllCoord\")\n",
    "    \n",
    "    # only output the files that are not in the dir \n",
    "    currFiles=set(os.listdir(\"./\"))\n",
    "    for lat in range(0,90,CoordInterval):\n",
    "        x=str(lat)+\"N\"\n",
    "        \n",
    "        for lng in range(0,180,CoordInterval):\n",
    "            y=str(lng)+\"E\"\n",
    "            key=x+\"-\"+y\n",
    "            \n",
    "            fileName=\"{}.pkl\".format(key)\n",
    "            if fileName not in currFiles:\n",
    "                print(\"Current Coord: \", key)\n",
    "                res=getHistoricalForCoord(x,y,freq,timeInterval)\n",
    "\n",
    "                f=open(fileName,'wb')  \n",
    "                pickle.dump(res,f,0)  \n",
    "                f.close() \n",
    "            \n",
    "        for lng in range(0,180,CoordInterval):\n",
    "            y=str(lng)+\"W\"\n",
    "            key=x+\"-\"+y\n",
    "            \n",
    "            fileName=\"{}.pkl\".format(key)\n",
    "            if fileName not in currFiles:\n",
    "                print(\"Current Coord: \", key)\n",
    "                res=getHistoricalForCoord(x,y,freq,timeInterval)\n",
    "\n",
    "                f=open(fileName,'wb')  \n",
    "                pickle.dump(res,f,0)  \n",
    "                f.close() \n",
    "            \n",
    "            \n",
    "        x=str(lat)+\"S\"\n",
    "        \n",
    "        for lng in range(0,180,CoordInterval):\n",
    "            y=str(lng)+\"E\"\n",
    "            key=x+\"-\"+y\n",
    "            \n",
    "            fileName=\"{}.pkl\".format(key)\n",
    "            if fileName not in currFiles:\n",
    "                print(\"Current Coord: \", key)\n",
    "                res=getHistoricalForCoord(x,y,freq,timeInterval)\n",
    "\n",
    "                f=open(fileName,'wb')  \n",
    "                pickle.dump(res,f,0)  \n",
    "                f.close() \n",
    "            \n",
    "        for lng in range(0,180,CoordInterval):\n",
    "            y=str(lng)+\"W\"\n",
    "            key=x+\"-\"+y\n",
    "            \n",
    "            fileName=\"{}.pkl\".format(key)\n",
    "            if fileName not in currFiles:\n",
    "                print(\"Current Coord: \", key)\n",
    "                res=getHistoricalForCoord(x,y,freq,timeInterval)\n",
    "\n",
    "                f=open(fileName,'wb')  \n",
    "                pickle.dump(res,f,0)  \n",
    "                f.close() "
   ]
  },
  {
   "cell_type": "code",
   "execution_count": 61,
   "metadata": {},
   "outputs": [],
   "source": [
    "# example\n",
    "# res=getHistoricalForCoord(\"41n\",\"74W\",\"Month\",\"2000\")\n",
    "\n",
    "# if validate(res):\n",
    "#     key=\"41N-74W\"\n",
    "#     fileName=\"./{}.txt\".format(key)\n",
    "#     f=open(fileName,'wb')  \n",
    "#     pickle.dump(res,f,0)  \n",
    "#     f.close() \n",
    "    \n",
    "# loadFile = open(fileName, 'rb')\n",
    "# l = pickle.load(loadFile)"
   ]
  },
  {
   "cell_type": "code",
   "execution_count": 62,
   "metadata": {},
   "outputs": [],
   "source": [
    "# Run this function to generate pickle data\n",
    "# getHistoricalForAllCoord(freq=\"month\",CoordInterval=5)\n",
    "# May take some time\n",
    "\n",
    "# A smaller example\n",
    "# getHistoricalForAllCoord(freq=\"month\",CoordInterval=60)"
   ]
  },
  {
   "cell_type": "code",
   "execution_count": 63,
   "metadata": {},
   "outputs": [],
   "source": [
    "# getHistoricalForAllCoord(freq=\"month\",CoordInterval=5)"
   ]
  },
  {
   "cell_type": "markdown",
   "metadata": {},
   "source": [
    "## Example 1 (plot of anomaly of different decades for a given coordinate)"
   ]
  },
  {
   "cell_type": "code",
   "execution_count": 64,
   "metadata": {},
   "outputs": [],
   "source": [
    "loadDatasets()\n",
    "tarCoord=getCoord(\"41N\",\"74W\")"
   ]
  },
  {
   "cell_type": "code",
   "execution_count": 65,
   "metadata": {},
   "outputs": [
    {
     "name": "stderr",
     "output_type": "stream",
     "text": [
      "C:\\Users\\39402\\Anaconda3\\lib\\site-packages\\ipykernel_launcher.py:53: UserWarning: WARNING: valid_min not used since it\n",
      "cannot be safely cast to variable data type\n",
      "C:\\Users\\39402\\Anaconda3\\lib\\site-packages\\ipykernel_launcher.py:53: UserWarning: WARNING: valid_max not used since it\n",
      "cannot be safely cast to variable data type\n"
     ]
    }
   ],
   "source": [
    "newYork2000=getHistoricalForCoord(\"41n\",\"74W\",\"day\",\"2000\")\n",
    "\n",
    "newYork2000Avg=[0]*365\n",
    "for i in range(10):\n",
    "    for j in range(365):\n",
    "        newYork2000Avg[j]+=newYork2000[i*365+j]\n",
    "\n",
    "newYork2000Avg=[i/10 for i in newYork2000Avg]"
   ]
  },
  {
   "cell_type": "code",
   "execution_count": 66,
   "metadata": {},
   "outputs": [
    {
     "name": "stderr",
     "output_type": "stream",
     "text": [
      "C:\\Users\\39402\\Anaconda3\\lib\\site-packages\\ipykernel_launcher.py:53: UserWarning: WARNING: valid_min not used since it\n",
      "cannot be safely cast to variable data type\n",
      "C:\\Users\\39402\\Anaconda3\\lib\\site-packages\\ipykernel_launcher.py:53: UserWarning: WARNING: valid_max not used since it\n",
      "cannot be safely cast to variable data type\n"
     ]
    }
   ],
   "source": [
    "newYork1900=getHistoricalForCoord(\"41n\",\"74W\",\"day\",\"1900\")\n",
    "\n",
    "newYork1900Avg=[0]*365\n",
    "for i in range(10):\n",
    "    for j in range(365):\n",
    "        newYork1900Avg[j]+=newYork1900[i*365+j]\n",
    "\n",
    "newYork1900Avg=[i/10 for i in newYork1900Avg]"
   ]
  },
  {
   "cell_type": "code",
   "execution_count": 67,
   "metadata": {},
   "outputs": [
    {
     "data": {
      "text/plain": [
       "<matplotlib.legend.Legend at 0x18a2e0a4da0>"
      ]
     },
     "execution_count": 67,
     "metadata": {},
     "output_type": "execute_result"
    }
   ],
   "source": [
    "import matplotlib.pyplot as plt  \n",
    "\n",
    "plt.figure(figsize=(10,10))\n",
    "\n",
    "plt.plot(newYork1900Avg,label=\"1900s\")\n",
    "plt.plot(newYork2000Avg,label=\"2000s\")\n",
    "\n",
    "plt.xlabel(\"Day of the Year\", fontsize=20) \n",
    "plt.ylabel(\"Anomaly (Celsius)\", fontsize=20)\n",
    "plt.title(\"Temperature Anomaly in 1900s Vs. in 2000s\", fontsize=20)\n",
    "plt.legend(fontsize=15)"
   ]
  },
  {
   "cell_type": "code",
   "execution_count": 68,
   "metadata": {},
   "outputs": [],
   "source": [
    "plt.show()"
   ]
  },
  {
   "cell_type": "code",
   "execution_count": null,
   "metadata": {},
   "outputs": [],
   "source": []
  },
  {
   "cell_type": "code",
   "execution_count": 69,
   "metadata": {},
   "outputs": [
    {
     "data": {
      "text/plain": [
       "-1.0053850289373956"
      ]
     },
     "execution_count": 69,
     "metadata": {},
     "output_type": "execute_result"
    }
   ],
   "source": [
    "np.mean(newYork1900Avg)"
   ]
  },
  {
   "cell_type": "code",
   "execution_count": 70,
   "metadata": {},
   "outputs": [
    {
     "data": {
      "text/plain": [
       "0.25623839832571244"
      ]
     },
     "execution_count": 70,
     "metadata": {},
     "output_type": "execute_result"
    }
   ],
   "source": [
    "np.mean(newYork2000Avg)"
   ]
  },
  {
   "cell_type": "code",
   "execution_count": null,
   "metadata": {},
   "outputs": [],
   "source": []
  },
  {
   "cell_type": "markdown",
   "metadata": {},
   "source": [
    "## Example 2 (plot of historical record for a given coordinate)"
   ]
  },
  {
   "cell_type": "code",
   "execution_count": 71,
   "metadata": {},
   "outputs": [
    {
     "name": "stderr",
     "output_type": "stream",
     "text": [
      "C:\\Users\\39402\\Anaconda3\\lib\\site-packages\\ipykernel_launcher.py:74: UserWarning: WARNING: valid_min not used since it\n",
      "cannot be safely cast to variable data type\n",
      "C:\\Users\\39402\\Anaconda3\\lib\\site-packages\\ipykernel_launcher.py:74: UserWarning: WARNING: valid_max not used since it\n",
      "cannot be safely cast to variable data type\n"
     ]
    }
   ],
   "source": [
    "newYorkHistory=getHistoricalForCoord(\"41n\",\"74W\",\"year\")"
   ]
  },
  {
   "cell_type": "code",
   "execution_count": 72,
   "metadata": {},
   "outputs": [],
   "source": [
    "rollingAvg=[]\n",
    "nYearAvg=[]\n",
    "\n",
    "for i in range(len(newYorkHistory)-1):\n",
    "    rollingAvg.append(np.mean(newYorkHistory[:i+1]))\n",
    "    \n",
    "for i in range(len(newYorkHistory)-1):\n",
    "    nYearAvg.append(np.mean(newYorkHistory[i:i+10]))"
   ]
  },
  {
   "cell_type": "code",
   "execution_count": 73,
   "metadata": {},
   "outputs": [
    {
     "data": {
      "text/plain": [
       "<matplotlib.legend.Legend at 0x18a2e545780>"
      ]
     },
     "execution_count": 73,
     "metadata": {},
     "output_type": "execute_result"
    },
    {
     "data": {
      "image/png": "[encoded data removed]",
      "text/plain": [
       "<Figure size 720x720 with 1 Axes>"
      ]
     },
     "metadata": {
      "needs_background": "light"
     },
     "output_type": "display_data"
    }
   ],
   "source": [
    "plt.figure(figsize=(10,10))\n",
    "plt.plot([i+1880 for i in range(len(newYorkHistory))],newYorkHistory,label=\"Anomaly\")\n",
    "plt.plot([i+1880 for i in range(len(rollingAvg))],rollingAvg,label=\"Rolling Avg\")\n",
    "plt.plot([i+1880 for i in range(len(rollingAvg))],nYearAvg,label=\"10 Year Avg\",color=\"purple\")\n",
    "\n",
    "plt.xlabel(\"Year\", fontsize=20) \n",
    "plt.ylabel(\"Anomaly (Celsius)\", fontsize=20)\n",
    "plt.title(\"Historical Temperature Anomaly of New York since 1880s\", fontsize=20)\n",
    "plt.legend(fontsize=15)"
   ]
  },
  {
   "cell_type": "code",
   "execution_count": null,
   "metadata": {},
   "outputs": [],
   "source": []
  },
  {
   "cell_type": "code",
   "execution_count": 74,
   "metadata": {},
   "outputs": [],
   "source": [
    "# newYorkHistoryByDay=getHistoricalForCoord(\"41n\",\"74W\",\"year\")"
   ]
  },
  {
   "cell_type": "code",
   "execution_count": 75,
   "metadata": {},
   "outputs": [],
   "source": [
    "loadDatasets()\n",
    "\n",
    "climatology2000=DATASET[\"2000\"].variables['climatology'][:]"
   ]
  },
  {
   "cell_type": "code",
   "execution_count": null,
   "metadata": {},
   "outputs": [],
   "source": []
  },
  {
   "cell_type": "code",
   "execution_count": 76,
   "metadata": {},
   "outputs": [
    {
     "data": {
      "text/plain": [
       "Text(0.5, 1.0, 'Climatology of New York')"
      ]
     },
     "execution_count": 76,
     "metadata": {},
     "output_type": "execute_result"
    },
    {
     "data": {
      "image/png": "[encoded data removed]",
      "text/plain": [
       "<Figure size 720x720 with 1 Axes>"
      ]
     },
     "metadata": {
      "needs_background": "light"
     },
     "output_type": "display_data"
    }
   ],
   "source": [
    "# latIdx,lngIdx=getCoord(\"20n\",\"10e\")\n",
    "latIdx,lngIdx=getCoord(\"41n\",\"74W\")\n",
    "newYorkClim=DATASET[\"2000\"].variables['climatology'][:,latIdx,lngIdx].filled(fill_value=0)\n",
    "\n",
    "# newYorkClim=list(newYorkClim)\n",
    "# newYorkClim.extend(newYorkClim)\n",
    "\n",
    "plt.figure(figsize=(10,10))\n",
    "plt.plot([i for i in range(len(newYorkClim))],newYorkClim)\n",
    "\n",
    "plt.xlabel(\"Day of the Year\", fontsize=20) \n",
    "plt.ylabel(\"Estimated Surface Temperatue (Celsius)\", fontsize=20)\n",
    "plt.title(\"Climatology of New York\", fontsize=20)"
   ]
  },
  {
   "cell_type": "code",
   "execution_count": null,
   "metadata": {},
   "outputs": [],
   "source": []
  },
  {
   "cell_type": "code",
   "execution_count": null,
   "metadata": {},
   "outputs": [],
   "source": []
  },
  {
   "cell_type": "code",
   "execution_count": 77,
   "metadata": {},
   "outputs": [
    {
     "name": "stderr",
     "output_type": "stream",
     "text": [
      "C:\\Users\\39402\\Anaconda3\\lib\\site-packages\\ipykernel_launcher.py:53: UserWarning: WARNING: valid_min not used since it\n",
      "cannot be safely cast to variable data type\n",
      "C:\\Users\\39402\\Anaconda3\\lib\\site-packages\\ipykernel_launcher.py:53: UserWarning: WARNING: valid_max not used since it\n",
      "cannot be safely cast to variable data type\n"
     ]
    },
    {
     "data": {
      "text/plain": [
       "array([ 3.20720822e-05, -1.15849485e+00])"
      ]
     },
     "execution_count": 77,
     "metadata": {},
     "output_type": "execute_result"
    }
   ],
   "source": [
    "# \"51n\",\"0W\" London\n",
    "# \"41n\",\"74W\" NY\n",
    "newYorkHist=getHistoricalForCoord(\"41n\",\"74W\",\"day\")\n",
    "dataLength=len(newYorkHist)\n",
    "\n",
    "idx=0\n",
    "numDays=365.25\n",
    "varList=[]\n",
    "while (idx+1)*numDays<dataLength:\n",
    "    # min used here to avoid index problems\n",
    "    varList.append(np.var(newYorkHist[int(idx*numDays):int((idx+1)*numDays)]))\n",
    "    idx+=1\n",
    "    \n",
    "np.polyfit(range(len(newYorkHist)), newYorkHist, 1)"
   ]
  },
  {
   "cell_type": "code",
   "execution_count": 78,
   "metadata": {},
   "outputs": [
    {
     "name": "stderr",
     "output_type": "stream",
     "text": [
      "C:\\Users\\39402\\Anaconda3\\lib\\site-packages\\statsmodels\\compat\\pandas.py:49: FutureWarning: The Panel class is removed from pandas. Accessing it from the top-level namespace will also be removed in the next version\n",
      "  data_klasses = (pandas.Series, pandas.DataFrame, pandas.Panel)\n"
     ]
    }
   ],
   "source": [
    "from statsmodels.graphics.tsaplots import plot_acf, plot_pacf, acf"
   ]
  },
  {
   "cell_type": "code",
   "execution_count": null,
   "metadata": {},
   "outputs": [],
   "source": []
  },
  {
   "cell_type": "code",
   "execution_count": 79,
   "metadata": {},
   "outputs": [
    {
     "name": "stderr",
     "output_type": "stream",
     "text": [
      "C:\\Users\\39402\\Anaconda3\\lib\\site-packages\\ipykernel_launcher.py:74: UserWarning: WARNING: valid_min not used since it\n",
      "cannot be safely cast to variable data type\n",
      "C:\\Users\\39402\\Anaconda3\\lib\\site-packages\\ipykernel_launcher.py:74: UserWarning: WARNING: valid_max not used since it\n",
      "cannot be safely cast to variable data type\n",
      "C:\\Users\\39402\\Anaconda3\\lib\\site-packages\\ipykernel_launcher.py:74: UserWarning: WARNING: valid_min not used since it\n",
      "cannot be safely cast to variable data type\n",
      "C:\\Users\\39402\\Anaconda3\\lib\\site-packages\\ipykernel_launcher.py:74: UserWarning: WARNING: valid_max not used since it\n",
      "cannot be safely cast to variable data type\n",
      "C:\\Users\\39402\\Anaconda3\\lib\\site-packages\\ipykernel_launcher.py:74: UserWarning: WARNING: valid_min not used since it\n",
      "cannot be safely cast to variable data type\n",
      "C:\\Users\\39402\\Anaconda3\\lib\\site-packages\\ipykernel_launcher.py:74: UserWarning: WARNING: valid_max not used since it\n",
      "cannot be safely cast to variable data type\n",
      "C:\\Users\\39402\\Anaconda3\\lib\\site-packages\\ipykernel_launcher.py:74: UserWarning: WARNING: valid_min not used since it\n",
      "cannot be safely cast to variable data type\n",
      "C:\\Users\\39402\\Anaconda3\\lib\\site-packages\\ipykernel_launcher.py:74: UserWarning: WARNING: valid_max not used since it\n",
      "cannot be safely cast to variable data type\n",
      "C:\\Users\\39402\\Anaconda3\\lib\\site-packages\\ipykernel_launcher.py:74: UserWarning: WARNING: valid_min not used since it\n",
      "cannot be safely cast to variable data type\n",
      "C:\\Users\\39402\\Anaconda3\\lib\\site-packages\\ipykernel_launcher.py:74: UserWarning: WARNING: valid_max not used since it\n",
      "cannot be safely cast to variable data type\n",
      "C:\\Users\\39402\\Anaconda3\\lib\\site-packages\\ipykernel_launcher.py:74: UserWarning: WARNING: valid_min not used since it\n",
      "cannot be safely cast to variable data type\n",
      "C:\\Users\\39402\\Anaconda3\\lib\\site-packages\\ipykernel_launcher.py:74: UserWarning: WARNING: valid_max not used since it\n",
      "cannot be safely cast to variable data type\n",
      "C:\\Users\\39402\\Anaconda3\\lib\\site-packages\\ipykernel_launcher.py:74: UserWarning: WARNING: valid_min not used since it\n",
      "cannot be safely cast to variable data type\n",
      "C:\\Users\\39402\\Anaconda3\\lib\\site-packages\\ipykernel_launcher.py:74: UserWarning: WARNING: valid_max not used since it\n",
      "cannot be safely cast to variable data type\n",
      "C:\\Users\\39402\\Anaconda3\\lib\\site-packages\\ipykernel_launcher.py:74: UserWarning: WARNING: valid_min not used since it\n",
      "cannot be safely cast to variable data type\n",
      "C:\\Users\\39402\\Anaconda3\\lib\\site-packages\\ipykernel_launcher.py:74: UserWarning: WARNING: valid_max not used since it\n",
      "cannot be safely cast to variable data type\n",
      "C:\\Users\\39402\\Anaconda3\\lib\\site-packages\\ipykernel_launcher.py:74: UserWarning: WARNING: valid_min not used since it\n",
      "cannot be safely cast to variable data type\n",
      "C:\\Users\\39402\\Anaconda3\\lib\\site-packages\\ipykernel_launcher.py:74: UserWarning: WARNING: valid_max not used since it\n",
      "cannot be safely cast to variable data type\n",
      "C:\\Users\\39402\\Anaconda3\\lib\\site-packages\\ipykernel_launcher.py:74: UserWarning: WARNING: valid_min not used since it\n",
      "cannot be safely cast to variable data type\n",
      "C:\\Users\\39402\\Anaconda3\\lib\\site-packages\\ipykernel_launcher.py:74: UserWarning: WARNING: valid_max not used since it\n",
      "cannot be safely cast to variable data type\n",
      "C:\\Users\\39402\\Anaconda3\\lib\\site-packages\\ipykernel_launcher.py:74: UserWarning: WARNING: valid_min not used since it\n",
      "cannot be safely cast to variable data type\n",
      "C:\\Users\\39402\\Anaconda3\\lib\\site-packages\\ipykernel_launcher.py:74: UserWarning: WARNING: valid_max not used since it\n",
      "cannot be safely cast to variable data type\n",
      "C:\\Users\\39402\\Anaconda3\\lib\\site-packages\\ipykernel_launcher.py:74: UserWarning: WARNING: valid_min not used since it\n",
      "cannot be safely cast to variable data type\n",
      "C:\\Users\\39402\\Anaconda3\\lib\\site-packages\\ipykernel_launcher.py:74: UserWarning: WARNING: valid_max not used since it\n",
      "cannot be safely cast to variable data type\n",
      "C:\\Users\\39402\\Anaconda3\\lib\\site-packages\\ipykernel_launcher.py:74: UserWarning: WARNING: valid_min not used since it\n",
      "cannot be safely cast to variable data type\n",
      "C:\\Users\\39402\\Anaconda3\\lib\\site-packages\\ipykernel_launcher.py:74: UserWarning: WARNING: valid_max not used since it\n",
      "cannot be safely cast to variable data type\n",
      "C:\\Users\\39402\\Anaconda3\\lib\\site-packages\\ipykernel_launcher.py:74: UserWarning: WARNING: valid_min not used since it\n",
      "cannot be safely cast to variable data type\n",
      "C:\\Users\\39402\\Anaconda3\\lib\\site-packages\\ipykernel_launcher.py:74: UserWarning: WARNING: valid_max not used since it\n",
      "cannot be safely cast to variable data type\n"
     ]
    },
    {
     "data": {
      "image/png": "[encoded data removed]",
      "text/plain": [
       "<Figure size 432x288 with 1 Axes>"
      ]
     },
     "execution_count": 79,
     "metadata": {},
     "output_type": "execute_result"
    },
    {
     "data": {
      "image/png": "[encoded data removed]",
      "text/plain": [
       "<Figure size 432x288 with 1 Axes>"
      ]
     },
     "metadata": {
      "needs_background": "light"
     },
     "output_type": "display_data"
    }
   ],
   "source": [
    "x=getHistoricalForCoord(\"41n\",\"74W\",\"year\")\n",
    "plot_acf(x)"
   ]
  },
  {
   "cell_type": "code",
   "execution_count": 80,
   "metadata": {},
   "outputs": [
    {
     "name": "stderr",
     "output_type": "stream",
     "text": [
      "C:\\Users\\39402\\Anaconda3\\lib\\site-packages\\ipykernel_launcher.py:53: UserWarning: WARNING: valid_min not used since it\n",
      "cannot be safely cast to variable data type\n",
      "C:\\Users\\39402\\Anaconda3\\lib\\site-packages\\ipykernel_launcher.py:53: UserWarning: WARNING: valid_max not used since it\n",
      "cannot be safely cast to variable data type\n"
     ]
    },
    {
     "data": {
      "text/plain": [
       "array([ 1.00000000e+00,  7.61142441e-01,  4.47585169e-01,  2.90432526e-01,\n",
       "        2.13129225e-01,  1.75885734e-01,  1.50132024e-01,  1.23179270e-01,\n",
       "        1.06405908e-01,  1.01899293e-01,  9.10325474e-02,  7.30934843e-02,\n",
       "        5.67037959e-02,  3.64656113e-02,  2.18923741e-02,  2.35398089e-02,\n",
       "        3.52988949e-02,  3.82000659e-02,  3.47225427e-02,  2.70869555e-02,\n",
       "        2.88882302e-02,  3.09385327e-02,  2.19336249e-02,  2.41461251e-02,\n",
       "        3.87898656e-02,  3.59008756e-02,  1.94908120e-02,  3.80859821e-03,\n",
       "       -5.72515467e-03, -1.26742867e-02, -1.88315537e-02, -2.49008428e-02,\n",
       "       -2.40114390e-02, -5.57829055e-03,  2.05491539e-02,  2.25109448e-02,\n",
       "        4.18627282e-03, -4.86909744e-04,  6.76167520e-03,  2.50016398e-02,\n",
       "        3.91471279e-02])"
      ]
     },
     "execution_count": 80,
     "metadata": {},
     "output_type": "execute_result"
    }
   ],
   "source": [
    "x2=getHistoricalForCoord(\"41n\",\"74W\",\"day\",\"2000-2000\")\n",
    "acf(x2)"
   ]
  },
  {
   "cell_type": "code",
   "execution_count": 81,
   "metadata": {},
   "outputs": [
    {
     "data": {
      "image/png": "[encoded data removed]",
      "text/plain": [
       "<Figure size 432x288 with 1 Axes>"
      ]
     },
     "execution_count": 81,
     "metadata": {},
     "output_type": "execute_result"
    },
    {
     "data": {
      "image/png": "[encoded data removed]",
      "text/plain": [
       "<Figure size 432x288 with 1 Axes>"
      ]
     },
     "metadata": {
      "needs_background": "light"
     },
     "output_type": "display_data"
    }
   ],
   "source": [
    "plot_acf(x2)"
   ]
  },
  {
   "cell_type": "code",
   "execution_count": 82,
   "metadata": {},
   "outputs": [
    {
     "name": "stderr",
     "output_type": "stream",
     "text": [
      "C:\\Users\\39402\\Anaconda3\\lib\\site-packages\\statsmodels\\regression\\linear_model.py:1283: RuntimeWarning: invalid value encountered in sqrt\n",
      "  return rho, np.sqrt(sigmasq)\n"
     ]
    },
    {
     "data": {
      "image/png": "[encoded data removed]",
      "text/plain": [
       "<Figure size 432x288 with 1 Axes>"
      ]
     },
     "execution_count": 82,
     "metadata": {},
     "output_type": "execute_result"
    },
    {
     "data": {
      "image/png": "[encoded data removed]",
      "text/plain": [
       "<Figure size 432x288 with 1 Axes>"
      ]
     },
     "metadata": {
      "needs_background": "light"
     },
     "output_type": "display_data"
    }
   ],
   "source": [
    "plot_pacf(x2)"
   ]
  },
  {
   "cell_type": "code",
   "execution_count": 83,
   "metadata": {},
   "outputs": [
    {
     "name": "stderr",
     "output_type": "stream",
     "text": [
      "C:\\Users\\39402\\Anaconda3\\lib\\site-packages\\ipykernel_launcher.py:74: UserWarning: WARNING: valid_min not used since it\n",
      "cannot be safely cast to variable data type\n",
      "C:\\Users\\39402\\Anaconda3\\lib\\site-packages\\ipykernel_launcher.py:74: UserWarning: WARNING: valid_max not used since it\n",
      "cannot be safely cast to variable data type\n"
     ]
    }
   ],
   "source": [
    "x3=getHistoricalForCoord(\"41n\",\"74W\",\"week\",\"2000-2000\")"
   ]
  },
  {
   "cell_type": "code",
   "execution_count": 84,
   "metadata": {},
   "outputs": [
    {
     "name": "stderr",
     "output_type": "stream",
     "text": [
      "C:\\Users\\39402\\Anaconda3\\lib\\site-packages\\ipykernel_launcher.py:74: UserWarning: WARNING: valid_min not used since it\n",
      "cannot be safely cast to variable data type\n",
      "C:\\Users\\39402\\Anaconda3\\lib\\site-packages\\ipykernel_launcher.py:74: UserWarning: WARNING: valid_max not used since it\n",
      "cannot be safely cast to variable data type\n"
     ]
    }
   ],
   "source": [
    "x4=getHistoricalForCoord(\"41n\",\"74W\",\"week\",\"1900-1900\")"
   ]
  },
  {
   "cell_type": "code",
   "execution_count": 85,
   "metadata": {},
   "outputs": [
    {
     "name": "stderr",
     "output_type": "stream",
     "text": [
      "C:\\Users\\39402\\Anaconda3\\lib\\site-packages\\ipykernel_launcher.py:58: UserWarning: WARNING: valid_min not used since it\n",
      "cannot be safely cast to variable data type\n",
      "C:\\Users\\39402\\Anaconda3\\lib\\site-packages\\ipykernel_launcher.py:58: UserWarning: WARNING: valid_max not used since it\n",
      "cannot be safely cast to variable data type\n",
      "C:\\Users\\39402\\Anaconda3\\lib\\site-packages\\ipykernel_launcher.py:58: UserWarning: WARNING: valid_min not used since it\n",
      "cannot be safely cast to variable data type\n",
      "C:\\Users\\39402\\Anaconda3\\lib\\site-packages\\ipykernel_launcher.py:58: UserWarning: WARNING: valid_max not used since it\n",
      "cannot be safely cast to variable data type\n",
      "C:\\Users\\39402\\Anaconda3\\lib\\site-packages\\ipykernel_launcher.py:58: UserWarning: WARNING: valid_min not used since it\n",
      "cannot be safely cast to variable data type\n",
      "C:\\Users\\39402\\Anaconda3\\lib\\site-packages\\ipykernel_launcher.py:58: UserWarning: WARNING: valid_max not used since it\n",
      "cannot be safely cast to variable data type\n",
      "C:\\Users\\39402\\Anaconda3\\lib\\site-packages\\ipykernel_launcher.py:58: UserWarning: WARNING: valid_min not used since it\n",
      "cannot be safely cast to variable data type\n",
      "C:\\Users\\39402\\Anaconda3\\lib\\site-packages\\ipykernel_launcher.py:58: UserWarning: WARNING: valid_max not used since it\n",
      "cannot be safely cast to variable data type\n",
      "C:\\Users\\39402\\Anaconda3\\lib\\site-packages\\ipykernel_launcher.py:58: UserWarning: WARNING: valid_min not used since it\n",
      "cannot be safely cast to variable data type\n",
      "C:\\Users\\39402\\Anaconda3\\lib\\site-packages\\ipykernel_launcher.py:58: UserWarning: WARNING: valid_max not used since it\n",
      "cannot be safely cast to variable data type\n",
      "C:\\Users\\39402\\Anaconda3\\lib\\site-packages\\ipykernel_launcher.py:58: UserWarning: WARNING: valid_min not used since it\n",
      "cannot be safely cast to variable data type\n",
      "C:\\Users\\39402\\Anaconda3\\lib\\site-packages\\ipykernel_launcher.py:58: UserWarning: WARNING: valid_max not used since it\n",
      "cannot be safely cast to variable data type\n",
      "C:\\Users\\39402\\Anaconda3\\lib\\site-packages\\ipykernel_launcher.py:58: UserWarning: WARNING: valid_min not used since it\n",
      "cannot be safely cast to variable data type\n",
      "C:\\Users\\39402\\Anaconda3\\lib\\site-packages\\ipykernel_launcher.py:58: UserWarning: WARNING: valid_max not used since it\n",
      "cannot be safely cast to variable data type\n",
      "C:\\Users\\39402\\Anaconda3\\lib\\site-packages\\ipykernel_launcher.py:58: UserWarning: WARNING: valid_min not used since it\n",
      "cannot be safely cast to variable data type\n",
      "C:\\Users\\39402\\Anaconda3\\lib\\site-packages\\ipykernel_launcher.py:58: UserWarning: WARNING: valid_max not used since it\n",
      "cannot be safely cast to variable data type\n",
      "C:\\Users\\39402\\Anaconda3\\lib\\site-packages\\ipykernel_launcher.py:58: UserWarning: WARNING: valid_min not used since it\n",
      "cannot be safely cast to variable data type\n",
      "C:\\Users\\39402\\Anaconda3\\lib\\site-packages\\ipykernel_launcher.py:58: UserWarning: WARNING: valid_max not used since it\n",
      "cannot be safely cast to variable data type\n",
      "C:\\Users\\39402\\Anaconda3\\lib\\site-packages\\ipykernel_launcher.py:58: UserWarning: WARNING: valid_min not used since it\n",
      "cannot be safely cast to variable data type\n",
      "C:\\Users\\39402\\Anaconda3\\lib\\site-packages\\ipykernel_launcher.py:58: UserWarning: WARNING: valid_max not used since it\n",
      "cannot be safely cast to variable data type\n",
      "C:\\Users\\39402\\Anaconda3\\lib\\site-packages\\ipykernel_launcher.py:58: UserWarning: WARNING: valid_min not used since it\n",
      "cannot be safely cast to variable data type\n",
      "C:\\Users\\39402\\Anaconda3\\lib\\site-packages\\ipykernel_launcher.py:58: UserWarning: WARNING: valid_max not used since it\n",
      "cannot be safely cast to variable data type\n",
      "C:\\Users\\39402\\Anaconda3\\lib\\site-packages\\ipykernel_launcher.py:58: UserWarning: WARNING: valid_min not used since it\n",
      "cannot be safely cast to variable data type\n",
      "C:\\Users\\39402\\Anaconda3\\lib\\site-packages\\ipykernel_launcher.py:58: UserWarning: WARNING: valid_max not used since it\n",
      "cannot be safely cast to variable data type\n",
      "C:\\Users\\39402\\Anaconda3\\lib\\site-packages\\ipykernel_launcher.py:58: UserWarning: WARNING: valid_min not used since it\n",
      "cannot be safely cast to variable data type\n",
      "C:\\Users\\39402\\Anaconda3\\lib\\site-packages\\ipykernel_launcher.py:58: UserWarning: WARNING: valid_max not used since it\n",
      "cannot be safely cast to variable data type\n"
     ]
    }
   ],
   "source": [
    "d={}\n",
    "\n",
    "for i in range(1880,2001,10):\n",
    "    d[str(i)]=getHistoricalForCoord(\"41n\",\"74W\",\"month\",str(i)+\"-\"+str(i))"
   ]
  },
  {
   "cell_type": "code",
   "execution_count": 86,
   "metadata": {},
   "outputs": [],
   "source": [
    "import pandas as pd\n",
    "\n",
    "# y=pd.DataFrame(x3)\n",
    "\n",
    "y=pd.DataFrame(d)"
   ]
  },
  {
   "cell_type": "code",
   "execution_count": 87,
   "metadata": {},
   "outputs": [
    {
     "data": {
      "text/html": [
       "<div>\n",
       "<style scoped>\n",
       "    .dataframe tbody tr th:only-of-type {\n",
       "        vertical-align: middle;\n",
       "    }\n",
       "\n",
       "    .dataframe tbody tr th {\n",
       "        vertical-align: top;\n",
       "    }\n",
       "\n",
       "    .dataframe thead th {\n",
       "        text-align: right;\n",
       "    }\n",
       "</style>\n",
       "<table border=\"1\" class=\"dataframe\">\n",
       "  <thead>\n",
       "    <tr style=\"text-align: right;\">\n",
       "      <th></th>\n",
       "      <th>1880</th>\n",
       "      <th>1890</th>\n",
       "      <th>1900</th>\n",
       "      <th>1910</th>\n",
       "      <th>1920</th>\n",
       "      <th>1930</th>\n",
       "      <th>1940</th>\n",
       "      <th>1950</th>\n",
       "      <th>1960</th>\n",
       "      <th>1970</th>\n",
       "      <th>1980</th>\n",
       "      <th>1990</th>\n",
       "      <th>2000</th>\n",
       "    </tr>\n",
       "  </thead>\n",
       "  <tbody>\n",
       "    <tr>\n",
       "      <th>0</th>\n",
       "      <td>4.261509</td>\n",
       "      <td>3.531085</td>\n",
       "      <td>0.689434</td>\n",
       "      <td>0.172616</td>\n",
       "      <td>-4.282623</td>\n",
       "      <td>0.911929</td>\n",
       "      <td>-3.889661</td>\n",
       "      <td>4.917003</td>\n",
       "      <td>1.012034</td>\n",
       "      <td>-4.207899</td>\n",
       "      <td>1.114136</td>\n",
       "      <td>4.821341</td>\n",
       "      <td>-0.414991</td>\n",
       "    </tr>\n",
       "    <tr>\n",
       "      <th>1</th>\n",
       "      <td>1.443314</td>\n",
       "      <td>2.421546</td>\n",
       "      <td>-1.114373</td>\n",
       "      <td>-1.583678</td>\n",
       "      <td>-2.626615</td>\n",
       "      <td>1.526110</td>\n",
       "      <td>-0.606930</td>\n",
       "      <td>-1.141285</td>\n",
       "      <td>1.872413</td>\n",
       "      <td>-0.351819</td>\n",
       "      <td>-2.179305</td>\n",
       "      <td>2.558628</td>\n",
       "      <td>1.570683</td>\n",
       "    </tr>\n",
       "    <tr>\n",
       "      <th>2</th>\n",
       "      <td>-2.249344</td>\n",
       "      <td>-3.084792</td>\n",
       "      <td>-3.588025</td>\n",
       "      <td>1.790048</td>\n",
       "      <td>-1.257227</td>\n",
       "      <td>-0.668928</td>\n",
       "      <td>-4.103720</td>\n",
       "      <td>-3.118717</td>\n",
       "      <td>-4.754314</td>\n",
       "      <td>-1.944160</td>\n",
       "      <td>-1.373596</td>\n",
       "      <td>1.193079</td>\n",
       "      <td>2.419369</td>\n",
       "    </tr>\n",
       "    <tr>\n",
       "      <th>3</th>\n",
       "      <td>-0.595870</td>\n",
       "      <td>-1.300084</td>\n",
       "      <td>-0.383050</td>\n",
       "      <td>1.319891</td>\n",
       "      <td>-2.365073</td>\n",
       "      <td>-1.689520</td>\n",
       "      <td>-3.092792</td>\n",
       "      <td>-2.100600</td>\n",
       "      <td>1.049906</td>\n",
       "      <td>-0.595600</td>\n",
       "      <td>0.090862</td>\n",
       "      <td>0.047248</td>\n",
       "      <td>-0.929308</td>\n",
       "    </tr>\n",
       "    <tr>\n",
       "      <th>4</th>\n",
       "      <td>3.197271</td>\n",
       "      <td>-0.586998</td>\n",
       "      <td>-0.493068</td>\n",
       "      <td>-0.764305</td>\n",
       "      <td>-1.834561</td>\n",
       "      <td>0.883802</td>\n",
       "      <td>-0.674281</td>\n",
       "      <td>-1.159553</td>\n",
       "      <td>0.198342</td>\n",
       "      <td>0.563151</td>\n",
       "      <td>0.946708</td>\n",
       "      <td>-1.195674</td>\n",
       "      <td>0.388472</td>\n",
       "    </tr>\n",
       "    <tr>\n",
       "      <th>...</th>\n",
       "      <td>...</td>\n",
       "      <td>...</td>\n",
       "      <td>...</td>\n",
       "      <td>...</td>\n",
       "      <td>...</td>\n",
       "      <td>...</td>\n",
       "      <td>...</td>\n",
       "      <td>...</td>\n",
       "      <td>...</td>\n",
       "      <td>...</td>\n",
       "      <td>...</td>\n",
       "      <td>...</td>\n",
       "      <td>...</td>\n",
       "    </tr>\n",
       "    <tr>\n",
       "      <th>115</th>\n",
       "      <td>-2.007107</td>\n",
       "      <td>-0.718337</td>\n",
       "      <td>-1.910961</td>\n",
       "      <td>-2.184948</td>\n",
       "      <td>-1.882680</td>\n",
       "      <td>1.235238</td>\n",
       "      <td>0.644440</td>\n",
       "      <td>1.134770</td>\n",
       "      <td>0.532414</td>\n",
       "      <td>-0.225196</td>\n",
       "      <td>-0.315794</td>\n",
       "      <td>-0.048904</td>\n",
       "      <td>0.809944</td>\n",
       "    </tr>\n",
       "    <tr>\n",
       "      <th>116</th>\n",
       "      <td>-0.442971</td>\n",
       "      <td>-0.913744</td>\n",
       "      <td>-0.815740</td>\n",
       "      <td>0.021587</td>\n",
       "      <td>0.987989</td>\n",
       "      <td>0.118893</td>\n",
       "      <td>-0.977488</td>\n",
       "      <td>2.145750</td>\n",
       "      <td>0.390582</td>\n",
       "      <td>0.049317</td>\n",
       "      <td>0.534687</td>\n",
       "      <td>1.454548</td>\n",
       "      <td>-0.368313</td>\n",
       "    </tr>\n",
       "    <tr>\n",
       "      <th>117</th>\n",
       "      <td>-3.143434</td>\n",
       "      <td>0.501068</td>\n",
       "      <td>-1.921047</td>\n",
       "      <td>1.304142</td>\n",
       "      <td>-1.526016</td>\n",
       "      <td>-0.417088</td>\n",
       "      <td>2.521849</td>\n",
       "      <td>1.145235</td>\n",
       "      <td>-0.345960</td>\n",
       "      <td>-0.431398</td>\n",
       "      <td>0.334591</td>\n",
       "      <td>-0.738785</td>\n",
       "      <td>-0.983867</td>\n",
       "    </tr>\n",
       "    <tr>\n",
       "      <th>118</th>\n",
       "      <td>-0.170117</td>\n",
       "      <td>-1.156054</td>\n",
       "      <td>0.735721</td>\n",
       "      <td>-0.856442</td>\n",
       "      <td>-0.414454</td>\n",
       "      <td>-2.302322</td>\n",
       "      <td>-0.773148</td>\n",
       "      <td>-0.244824</td>\n",
       "      <td>-0.419694</td>\n",
       "      <td>2.333641</td>\n",
       "      <td>-0.560324</td>\n",
       "      <td>2.303842</td>\n",
       "      <td>2.687517</td>\n",
       "    </tr>\n",
       "    <tr>\n",
       "      <th>119</th>\n",
       "      <td>1.984012</td>\n",
       "      <td>-0.039833</td>\n",
       "      <td>-3.089025</td>\n",
       "      <td>-4.028579</td>\n",
       "      <td>-1.298598</td>\n",
       "      <td>-0.643773</td>\n",
       "      <td>0.582515</td>\n",
       "      <td>0.501275</td>\n",
       "      <td>-2.346089</td>\n",
       "      <td>1.346359</td>\n",
       "      <td>-7.150319</td>\n",
       "      <td>1.285460</td>\n",
       "      <td>-0.583776</td>\n",
       "    </tr>\n",
       "  </tbody>\n",
       "</table>\n",
       "<p>120 rows × 13 columns</p>\n",
       "</div>"
      ],
      "text/plain": [
       "         1880      1890      1900      1910      1920      1930      1940  \\\n",
       "0    4.261509  3.531085  0.689434  0.172616 -4.282623  0.911929 -3.889661   \n",
       "1    1.443314  2.421546 -1.114373 -1.583678 -2.626615  1.526110 -0.606930   \n",
       "2   -2.249344 -3.084792 -3.588025  1.790048 -1.257227 -0.668928 -4.103720   \n",
       "3   -0.595870 -1.300084 -0.383050  1.319891 -2.365073 -1.689520 -3.092792   \n",
       "4    3.197271 -0.586998 -0.493068 -0.764305 -1.834561  0.883802 -0.674281   \n",
       "..        ...       ...       ...       ...       ...       ...       ...   \n",
       "115 -2.007107 -0.718337 -1.910961 -2.184948 -1.882680  1.235238  0.644440   \n",
       "116 -0.442971 -0.913744 -0.815740  0.021587  0.987989  0.118893 -0.977488   \n",
       "117 -3.143434  0.501068 -1.921047  1.304142 -1.526016 -0.417088  2.521849   \n",
       "118 -0.170117 -1.156054  0.735721 -0.856442 -0.414454 -2.302322 -0.773148   \n",
       "119  1.984012 -0.039833 -3.089025 -4.028579 -1.298598 -0.643773  0.582515   \n",
       "\n",
       "         1950      1960      1970      1980      1990      2000  \n",
       "0    4.917003  1.012034 -4.207899  1.114136  4.821341 -0.414991  \n",
       "1   -1.141285  1.872413 -0.351819 -2.179305  2.558628  1.570683  \n",
       "2   -3.118717 -4.754314 -1.944160 -1.373596  1.193079  2.419369  \n",
       "3   -2.100600  1.049906 -0.595600  0.090862  0.047248 -0.929308  \n",
       "4   -1.159553  0.198342  0.563151  0.946708 -1.195674  0.388472  \n",
       "..        ...       ...       ...       ...       ...       ...  \n",
       "115  1.134770  0.532414 -0.225196 -0.315794 -0.048904  0.809944  \n",
       "116  2.145750  0.390582  0.049317  0.534687  1.454548 -0.368313  \n",
       "117  1.145235 -0.345960 -0.431398  0.334591 -0.738785 -0.983867  \n",
       "118 -0.244824 -0.419694  2.333641 -0.560324  2.303842  2.687517  \n",
       "119  0.501275 -2.346089  1.346359 -7.150319  1.285460 -0.583776  \n",
       "\n",
       "[120 rows x 13 columns]"
      ]
     },
     "execution_count": 87,
     "metadata": {},
     "output_type": "execute_result"
    }
   ],
   "source": [
    "y"
   ]
  },
  {
   "cell_type": "code",
   "execution_count": 88,
   "metadata": {},
   "outputs": [],
   "source": [
    "data = y.corr()"
   ]
  },
  {
   "cell_type": "code",
   "execution_count": 89,
   "metadata": {},
   "outputs": [
    {
     "data": {
      "text/html": [
       "<div>\n",
       "<style scoped>\n",
       "    .dataframe tbody tr th:only-of-type {\n",
       "        vertical-align: middle;\n",
       "    }\n",
       "\n",
       "    .dataframe tbody tr th {\n",
       "        vertical-align: top;\n",
       "    }\n",
       "\n",
       "    .dataframe thead th {\n",
       "        text-align: right;\n",
       "    }\n",
       "</style>\n",
       "<table border=\"1\" class=\"dataframe\">\n",
       "  <thead>\n",
       "    <tr style=\"text-align: right;\">\n",
       "      <th></th>\n",
       "      <th>1880</th>\n",
       "      <th>1890</th>\n",
       "      <th>1900</th>\n",
       "      <th>1910</th>\n",
       "      <th>1920</th>\n",
       "      <th>1930</th>\n",
       "      <th>1940</th>\n",
       "      <th>1950</th>\n",
       "      <th>1960</th>\n",
       "      <th>1970</th>\n",
       "      <th>1980</th>\n",
       "      <th>1990</th>\n",
       "      <th>2000</th>\n",
       "    </tr>\n",
       "  </thead>\n",
       "  <tbody>\n",
       "    <tr>\n",
       "      <th>1880</th>\n",
       "      <td>1.000000</td>\n",
       "      <td>0.360705</td>\n",
       "      <td>0.052135</td>\n",
       "      <td>0.030606</td>\n",
       "      <td>-0.158221</td>\n",
       "      <td>0.102972</td>\n",
       "      <td>0.009433</td>\n",
       "      <td>0.016793</td>\n",
       "      <td>0.158263</td>\n",
       "      <td>0.105500</td>\n",
       "      <td>0.017235</td>\n",
       "      <td>0.002576</td>\n",
       "      <td>0.093344</td>\n",
       "    </tr>\n",
       "    <tr>\n",
       "      <th>1890</th>\n",
       "      <td>0.360705</td>\n",
       "      <td>1.000000</td>\n",
       "      <td>0.057893</td>\n",
       "      <td>-0.034804</td>\n",
       "      <td>0.000216</td>\n",
       "      <td>0.085269</td>\n",
       "      <td>-0.042447</td>\n",
       "      <td>0.014445</td>\n",
       "      <td>0.294427</td>\n",
       "      <td>-0.064521</td>\n",
       "      <td>-0.165136</td>\n",
       "      <td>0.042237</td>\n",
       "      <td>0.143368</td>\n",
       "    </tr>\n",
       "    <tr>\n",
       "      <th>1900</th>\n",
       "      <td>0.052135</td>\n",
       "      <td>0.057893</td>\n",
       "      <td>1.000000</td>\n",
       "      <td>0.258373</td>\n",
       "      <td>-0.007088</td>\n",
       "      <td>0.064244</td>\n",
       "      <td>0.050551</td>\n",
       "      <td>-0.067326</td>\n",
       "      <td>0.223629</td>\n",
       "      <td>-0.133229</td>\n",
       "      <td>0.008239</td>\n",
       "      <td>0.021583</td>\n",
       "      <td>-0.008295</td>\n",
       "    </tr>\n",
       "    <tr>\n",
       "      <th>1910</th>\n",
       "      <td>0.030606</td>\n",
       "      <td>-0.034804</td>\n",
       "      <td>0.258373</td>\n",
       "      <td>1.000000</td>\n",
       "      <td>0.078969</td>\n",
       "      <td>0.100298</td>\n",
       "      <td>0.081893</td>\n",
       "      <td>-0.027016</td>\n",
       "      <td>0.076282</td>\n",
       "      <td>-0.008603</td>\n",
       "      <td>0.197422</td>\n",
       "      <td>0.005508</td>\n",
       "      <td>-0.100685</td>\n",
       "    </tr>\n",
       "    <tr>\n",
       "      <th>1920</th>\n",
       "      <td>-0.158221</td>\n",
       "      <td>0.000216</td>\n",
       "      <td>-0.007088</td>\n",
       "      <td>0.078969</td>\n",
       "      <td>1.000000</td>\n",
       "      <td>-0.029846</td>\n",
       "      <td>0.080267</td>\n",
       "      <td>-0.030760</td>\n",
       "      <td>-0.091146</td>\n",
       "      <td>-0.008652</td>\n",
       "      <td>-0.082233</td>\n",
       "      <td>0.058960</td>\n",
       "      <td>-0.089727</td>\n",
       "    </tr>\n",
       "    <tr>\n",
       "      <th>1930</th>\n",
       "      <td>0.102972</td>\n",
       "      <td>0.085269</td>\n",
       "      <td>0.064244</td>\n",
       "      <td>0.100298</td>\n",
       "      <td>-0.029846</td>\n",
       "      <td>1.000000</td>\n",
       "      <td>0.238928</td>\n",
       "      <td>-0.064163</td>\n",
       "      <td>0.162748</td>\n",
       "      <td>-0.072283</td>\n",
       "      <td>-0.098179</td>\n",
       "      <td>0.270247</td>\n",
       "      <td>0.071568</td>\n",
       "    </tr>\n",
       "    <tr>\n",
       "      <th>1940</th>\n",
       "      <td>0.009433</td>\n",
       "      <td>-0.042447</td>\n",
       "      <td>0.050551</td>\n",
       "      <td>0.081893</td>\n",
       "      <td>0.080267</td>\n",
       "      <td>0.238928</td>\n",
       "      <td>1.000000</td>\n",
       "      <td>-0.121613</td>\n",
       "      <td>0.203301</td>\n",
       "      <td>-0.149099</td>\n",
       "      <td>0.066667</td>\n",
       "      <td>-0.186098</td>\n",
       "      <td>0.066464</td>\n",
       "    </tr>\n",
       "    <tr>\n",
       "      <th>1950</th>\n",
       "      <td>0.016793</td>\n",
       "      <td>0.014445</td>\n",
       "      <td>-0.067326</td>\n",
       "      <td>-0.027016</td>\n",
       "      <td>-0.030760</td>\n",
       "      <td>-0.064163</td>\n",
       "      <td>-0.121613</td>\n",
       "      <td>1.000000</td>\n",
       "      <td>-0.005618</td>\n",
       "      <td>0.062415</td>\n",
       "      <td>0.105682</td>\n",
       "      <td>0.099265</td>\n",
       "      <td>-0.025641</td>\n",
       "    </tr>\n",
       "    <tr>\n",
       "      <th>1960</th>\n",
       "      <td>0.158263</td>\n",
       "      <td>0.294427</td>\n",
       "      <td>0.223629</td>\n",
       "      <td>0.076282</td>\n",
       "      <td>-0.091146</td>\n",
       "      <td>0.162748</td>\n",
       "      <td>0.203301</td>\n",
       "      <td>-0.005618</td>\n",
       "      <td>1.000000</td>\n",
       "      <td>0.005702</td>\n",
       "      <td>0.000718</td>\n",
       "      <td>-0.078015</td>\n",
       "      <td>0.101445</td>\n",
       "    </tr>\n",
       "    <tr>\n",
       "      <th>1970</th>\n",
       "      <td>0.105500</td>\n",
       "      <td>-0.064521</td>\n",
       "      <td>-0.133229</td>\n",
       "      <td>-0.008603</td>\n",
       "      <td>-0.008652</td>\n",
       "      <td>-0.072283</td>\n",
       "      <td>-0.149099</td>\n",
       "      <td>0.062415</td>\n",
       "      <td>0.005702</td>\n",
       "      <td>1.000000</td>\n",
       "      <td>-0.009046</td>\n",
       "      <td>-0.138399</td>\n",
       "      <td>-0.184529</td>\n",
       "    </tr>\n",
       "    <tr>\n",
       "      <th>1980</th>\n",
       "      <td>0.017235</td>\n",
       "      <td>-0.165136</td>\n",
       "      <td>0.008239</td>\n",
       "      <td>0.197422</td>\n",
       "      <td>-0.082233</td>\n",
       "      <td>-0.098179</td>\n",
       "      <td>0.066667</td>\n",
       "      <td>0.105682</td>\n",
       "      <td>0.000718</td>\n",
       "      <td>-0.009046</td>\n",
       "      <td>1.000000</td>\n",
       "      <td>-0.093643</td>\n",
       "      <td>-0.136966</td>\n",
       "    </tr>\n",
       "    <tr>\n",
       "      <th>1990</th>\n",
       "      <td>0.002576</td>\n",
       "      <td>0.042237</td>\n",
       "      <td>0.021583</td>\n",
       "      <td>0.005508</td>\n",
       "      <td>0.058960</td>\n",
       "      <td>0.270247</td>\n",
       "      <td>-0.186098</td>\n",
       "      <td>0.099265</td>\n",
       "      <td>-0.078015</td>\n",
       "      <td>-0.138399</td>\n",
       "      <td>-0.093643</td>\n",
       "      <td>1.000000</td>\n",
       "      <td>0.060406</td>\n",
       "    </tr>\n",
       "    <tr>\n",
       "      <th>2000</th>\n",
       "      <td>0.093344</td>\n",
       "      <td>0.143368</td>\n",
       "      <td>-0.008295</td>\n",
       "      <td>-0.100685</td>\n",
       "      <td>-0.089727</td>\n",
       "      <td>0.071568</td>\n",
       "      <td>0.066464</td>\n",
       "      <td>-0.025641</td>\n",
       "      <td>0.101445</td>\n",
       "      <td>-0.184529</td>\n",
       "      <td>-0.136966</td>\n",
       "      <td>0.060406</td>\n",
       "      <td>1.000000</td>\n",
       "    </tr>\n",
       "  </tbody>\n",
       "</table>\n",
       "</div>"
      ],
      "text/plain": [
       "          1880      1890      1900      1910      1920      1930      1940  \\\n",
       "1880  1.000000  0.360705  0.052135  0.030606 -0.158221  0.102972  0.009433   \n",
       "1890  0.360705  1.000000  0.057893 -0.034804  0.000216  0.085269 -0.042447   \n",
       "1900  0.052135  0.057893  1.000000  0.258373 -0.007088  0.064244  0.050551   \n",
       "1910  0.030606 -0.034804  0.258373  1.000000  0.078969  0.100298  0.081893   \n",
       "1920 -0.158221  0.000216 -0.007088  0.078969  1.000000 -0.029846  0.080267   \n",
       "1930  0.102972  0.085269  0.064244  0.100298 -0.029846  1.000000  0.238928   \n",
       "1940  0.009433 -0.042447  0.050551  0.081893  0.080267  0.238928  1.000000   \n",
       "1950  0.016793  0.014445 -0.067326 -0.027016 -0.030760 -0.064163 -0.121613   \n",
       "1960  0.158263  0.294427  0.223629  0.076282 -0.091146  0.162748  0.203301   \n",
       "1970  0.105500 -0.064521 -0.133229 -0.008603 -0.008652 -0.072283 -0.149099   \n",
       "1980  0.017235 -0.165136  0.008239  0.197422 -0.082233 -0.098179  0.066667   \n",
       "1990  0.002576  0.042237  0.021583  0.005508  0.058960  0.270247 -0.186098   \n",
       "2000  0.093344  0.143368 -0.008295 -0.100685 -0.089727  0.071568  0.066464   \n",
       "\n",
       "          1950      1960      1970      1980      1990      2000  \n",
       "1880  0.016793  0.158263  0.105500  0.017235  0.002576  0.093344  \n",
       "1890  0.014445  0.294427 -0.064521 -0.165136  0.042237  0.143368  \n",
       "1900 -0.067326  0.223629 -0.133229  0.008239  0.021583 -0.008295  \n",
       "1910 -0.027016  0.076282 -0.008603  0.197422  0.005508 -0.100685  \n",
       "1920 -0.030760 -0.091146 -0.008652 -0.082233  0.058960 -0.089727  \n",
       "1930 -0.064163  0.162748 -0.072283 -0.098179  0.270247  0.071568  \n",
       "1940 -0.121613  0.203301 -0.149099  0.066667 -0.186098  0.066464  \n",
       "1950  1.000000 -0.005618  0.062415  0.105682  0.099265 -0.025641  \n",
       "1960 -0.005618  1.000000  0.005702  0.000718 -0.078015  0.101445  \n",
       "1970  0.062415  0.005702  1.000000 -0.009046 -0.138399 -0.184529  \n",
       "1980  0.105682  0.000718 -0.009046  1.000000 -0.093643 -0.136966  \n",
       "1990  0.099265 -0.078015 -0.138399 -0.093643  1.000000  0.060406  \n",
       "2000 -0.025641  0.101445 -0.184529 -0.136966  0.060406  1.000000  "
      ]
     },
     "execution_count": 89,
     "metadata": {},
     "output_type": "execute_result"
    }
   ],
   "source": [
    "data"
   ]
  },
  {
   "cell_type": "code",
   "execution_count": 90,
   "metadata": {},
   "outputs": [
    {
     "data": {
      "image/png": "[encoded data removed]",
      "text/plain": [
       "<Figure size 864x720 with 2 Axes>"
      ]
     },
     "metadata": {
      "needs_background": "light"
     },
     "output_type": "display_data"
    }
   ],
   "source": [
    "import seaborn as sns\n",
    "import matplotlib.pyplot as plt  \n",
    "\n",
    "data = y.corr() #test_feature => pandas.DataFrame#\n",
    "plt.figure(figsize=(12,10))\n",
    "sns.heatmap(data)\n",
    "\n",
    "# plt.xlabel(\"Day of the Year\", fontsize=20) \n",
    "# plt.ylabel(\"Estimated Surface Temperatue (Celsius)\", fontsize=20)\n",
    "\n",
    "plt.title(\"Anomaly Correlation heatmap of New York since 1880\", fontsize=20)\n",
    "plt.show()"
   ]
  },
  {
   "cell_type": "code",
   "execution_count": 95,
   "metadata": {},
   "outputs": [
    {
     "data": {
      "text/plain": [
       "0.02430977269799169"
      ]
     },
     "execution_count": 95,
     "metadata": {},
     "output_type": "execute_result"
    }
   ],
   "source": [
    "(data.sum().sum()-13)/(12*13)"
   ]
  },
  {
   "cell_type": "code",
   "execution_count": 96,
   "metadata": {},
   "outputs": [
    {
     "data": {
      "text/html": [
       "<div>\n",
       "<style scoped>\n",
       "    .dataframe tbody tr th:only-of-type {\n",
       "        vertical-align: middle;\n",
       "    }\n",
       "\n",
       "    .dataframe tbody tr th {\n",
       "        vertical-align: top;\n",
       "    }\n",
       "\n",
       "    .dataframe thead th {\n",
       "        text-align: right;\n",
       "    }\n",
       "</style>\n",
       "<table border=\"1\" class=\"dataframe\">\n",
       "  <thead>\n",
       "    <tr style=\"text-align: right;\">\n",
       "      <th></th>\n",
       "      <th>1880</th>\n",
       "      <th>1890</th>\n",
       "      <th>1900</th>\n",
       "      <th>1910</th>\n",
       "      <th>1920</th>\n",
       "      <th>1930</th>\n",
       "      <th>1940</th>\n",
       "      <th>1950</th>\n",
       "      <th>1960</th>\n",
       "      <th>1970</th>\n",
       "      <th>1980</th>\n",
       "      <th>1990</th>\n",
       "      <th>2000</th>\n",
       "    </tr>\n",
       "  </thead>\n",
       "  <tbody>\n",
       "    <tr>\n",
       "      <th>count</th>\n",
       "      <td>13.000000</td>\n",
       "      <td>13.000000</td>\n",
       "      <td>13.000000</td>\n",
       "      <td>13.000000</td>\n",
       "      <td>13.000000</td>\n",
       "      <td>13.000000</td>\n",
       "      <td>13.000000</td>\n",
       "      <td>13.000000</td>\n",
       "      <td>13.000000</td>\n",
       "      <td>13.000000</td>\n",
       "      <td>13.000000</td>\n",
       "      <td>13.000000</td>\n",
       "      <td>13.000000</td>\n",
       "    </tr>\n",
       "    <tr>\n",
       "      <th>mean</th>\n",
       "      <td>0.137795</td>\n",
       "      <td>0.130127</td>\n",
       "      <td>0.116978</td>\n",
       "      <td>0.127557</td>\n",
       "      <td>0.055441</td>\n",
       "      <td>0.140908</td>\n",
       "      <td>0.099865</td>\n",
       "      <td>0.073574</td>\n",
       "      <td>0.157826</td>\n",
       "      <td>0.031174</td>\n",
       "      <td>0.062366</td>\n",
       "      <td>0.081895</td>\n",
       "      <td>0.076212</td>\n",
       "    </tr>\n",
       "    <tr>\n",
       "      <th>std</th>\n",
       "      <td>0.284037</td>\n",
       "      <td>0.297809</td>\n",
       "      <td>0.284980</td>\n",
       "      <td>0.279307</td>\n",
       "      <td>0.292448</td>\n",
       "      <td>0.282186</td>\n",
       "      <td>0.298172</td>\n",
       "      <td>0.285897</td>\n",
       "      <td>0.279332</td>\n",
       "      <td>0.303484</td>\n",
       "      <td>0.299398</td>\n",
       "      <td>0.299131</td>\n",
       "      <td>0.295658</td>\n",
       "    </tr>\n",
       "    <tr>\n",
       "      <th>min</th>\n",
       "      <td>-0.158221</td>\n",
       "      <td>-0.165136</td>\n",
       "      <td>-0.133229</td>\n",
       "      <td>-0.100685</td>\n",
       "      <td>-0.158221</td>\n",
       "      <td>-0.098179</td>\n",
       "      <td>-0.186098</td>\n",
       "      <td>-0.121613</td>\n",
       "      <td>-0.091146</td>\n",
       "      <td>-0.184529</td>\n",
       "      <td>-0.165136</td>\n",
       "      <td>-0.186098</td>\n",
       "      <td>-0.184529</td>\n",
       "    </tr>\n",
       "    <tr>\n",
       "      <th>25%</th>\n",
       "      <td>0.016793</td>\n",
       "      <td>-0.034804</td>\n",
       "      <td>-0.007088</td>\n",
       "      <td>-0.008603</td>\n",
       "      <td>-0.082233</td>\n",
       "      <td>-0.029846</td>\n",
       "      <td>-0.042447</td>\n",
       "      <td>-0.030760</td>\n",
       "      <td>0.000718</td>\n",
       "      <td>-0.133229</td>\n",
       "      <td>-0.093643</td>\n",
       "      <td>-0.078015</td>\n",
       "      <td>-0.089727</td>\n",
       "    </tr>\n",
       "    <tr>\n",
       "      <th>50%</th>\n",
       "      <td>0.052135</td>\n",
       "      <td>0.042237</td>\n",
       "      <td>0.050551</td>\n",
       "      <td>0.076282</td>\n",
       "      <td>-0.008652</td>\n",
       "      <td>0.085269</td>\n",
       "      <td>0.066464</td>\n",
       "      <td>-0.005618</td>\n",
       "      <td>0.101445</td>\n",
       "      <td>-0.009046</td>\n",
       "      <td>0.000718</td>\n",
       "      <td>0.021583</td>\n",
       "      <td>0.060406</td>\n",
       "    </tr>\n",
       "    <tr>\n",
       "      <th>75%</th>\n",
       "      <td>0.105500</td>\n",
       "      <td>0.143368</td>\n",
       "      <td>0.064244</td>\n",
       "      <td>0.100298</td>\n",
       "      <td>0.058960</td>\n",
       "      <td>0.162748</td>\n",
       "      <td>0.081893</td>\n",
       "      <td>0.062415</td>\n",
       "      <td>0.203301</td>\n",
       "      <td>0.005702</td>\n",
       "      <td>0.066667</td>\n",
       "      <td>0.060406</td>\n",
       "      <td>0.093344</td>\n",
       "    </tr>\n",
       "    <tr>\n",
       "      <th>max</th>\n",
       "      <td>1.000000</td>\n",
       "      <td>1.000000</td>\n",
       "      <td>1.000000</td>\n",
       "      <td>1.000000</td>\n",
       "      <td>1.000000</td>\n",
       "      <td>1.000000</td>\n",
       "      <td>1.000000</td>\n",
       "      <td>1.000000</td>\n",
       "      <td>1.000000</td>\n",
       "      <td>1.000000</td>\n",
       "      <td>1.000000</td>\n",
       "      <td>1.000000</td>\n",
       "      <td>1.000000</td>\n",
       "    </tr>\n",
       "  </tbody>\n",
       "</table>\n",
       "</div>"
      ],
      "text/plain": [
       "            1880       1890       1900       1910       1920       1930  \\\n",
       "count  13.000000  13.000000  13.000000  13.000000  13.000000  13.000000   \n",
       "mean    0.137795   0.130127   0.116978   0.127557   0.055441   0.140908   \n",
       "std     0.284037   0.297809   0.284980   0.279307   0.292448   0.282186   \n",
       "min    -0.158221  -0.165136  -0.133229  -0.100685  -0.158221  -0.098179   \n",
       "25%     0.016793  -0.034804  -0.007088  -0.008603  -0.082233  -0.029846   \n",
       "50%     0.052135   0.042237   0.050551   0.076282  -0.008652   0.085269   \n",
       "75%     0.105500   0.143368   0.064244   0.100298   0.058960   0.162748   \n",
       "max     1.000000   1.000000   1.000000   1.000000   1.000000   1.000000   \n",
       "\n",
       "            1940       1950       1960       1970       1980       1990  \\\n",
       "count  13.000000  13.000000  13.000000  13.000000  13.000000  13.000000   \n",
       "mean    0.099865   0.073574   0.157826   0.031174   0.062366   0.081895   \n",
       "std     0.298172   0.285897   0.279332   0.303484   0.299398   0.299131   \n",
       "min    -0.186098  -0.121613  -0.091146  -0.184529  -0.165136  -0.186098   \n",
       "25%    -0.042447  -0.030760   0.000718  -0.133229  -0.093643  -0.078015   \n",
       "50%     0.066464  -0.005618   0.101445  -0.009046   0.000718   0.021583   \n",
       "75%     0.081893   0.062415   0.203301   0.005702   0.066667   0.060406   \n",
       "max     1.000000   1.000000   1.000000   1.000000   1.000000   1.000000   \n",
       "\n",
       "            2000  \n",
       "count  13.000000  \n",
       "mean    0.076212  \n",
       "std     0.295658  \n",
       "min    -0.184529  \n",
       "25%    -0.089727  \n",
       "50%     0.060406  \n",
       "75%     0.093344  \n",
       "max     1.000000  "
      ]
     },
     "execution_count": 96,
     "metadata": {},
     "output_type": "execute_result"
    }
   ],
   "source": [
    "data.describe()"
   ]
  },
  {
   "cell_type": "code",
   "execution_count": null,
   "metadata": {},
   "outputs": [],
   "source": []
  },
  {
   "cell_type": "code",
   "execution_count": null,
   "metadata": {},
   "outputs": [],
   "source": []
  },
  {
   "cell_type": "code",
   "execution_count": null,
   "metadata": {},
   "outputs": [],
   "source": []
  }
 ],
 "metadata": {
  "kernelspec": {
   "display_name": "Python 3",
   "language": "python",
   "name": "python3"
  },
  "language_info": {
   "codemirror_mode": {
    "name": "ipython",
    "version": 3
   },
   "file_extension": ".py",
   "mimetype": "text/x-python",
   "name": "python",
   "nbconvert_exporter": "python",
   "pygments_lexer": "ipython3",
   "version": "3.7.0"
  }
 },
 "nbformat": 4,
 "nbformat_minor": 2
}
