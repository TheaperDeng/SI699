{
 "cells": [
  {
   "cell_type": "code",
   "execution_count": 1,
   "metadata": {},
   "outputs": [],
   "source": [
    "import numpy as np\n",
    "import netCDF4 as nc"
   ]
  },
  {
   "cell_type": "code",
   "execution_count": 2,
   "metadata": {},
   "outputs": [
    {
     "name": "stdout",
     "output_type": "stream",
     "text": [
      ".ipynb_checkpoints\n",
      "clim.png\n",
      "Complete_TAVG_Daily_LatLong1_1880.nc\n",
      "Complete_TAVG_Daily_LatLong1_1890.nc\n",
      "Complete_TAVG_Daily_LatLong1_1900.nc\n",
      "Complete_TAVG_Daily_LatLong1_1910.nc\n",
      "Complete_TAVG_Daily_LatLong1_1920.nc\n",
      "Complete_TAVG_Daily_LatLong1_1930.nc\n",
      "Complete_TAVG_Daily_LatLong1_1940.nc\n",
      "Complete_TAVG_Daily_LatLong1_1950.nc\n",
      "Complete_TAVG_Daily_LatLong1_1960.nc\n",
      "Complete_TAVG_Daily_LatLong1_1970.nc\n",
      "Complete_TAVG_Daily_LatLong1_1980.nc\n",
      "Complete_TAVG_Daily_LatLong1_1990.nc\n",
      "Complete_TAVG_Daily_LatLong1_2000.nc\n",
      "Complete_TAVG_Daily_LatLong1_2010.nc\n",
      "corr.png\n",
      "DailyGriddedData.ipynb\n",
      "decade.png\n",
      "fileName\n",
      "history.png\n",
      "p1p2.png\n",
      "p3p4.png\n",
      "readme.txt\n"
     ]
    }
   ],
   "source": [
    "# Make sure the .nc files are put in the same dir of this ipynb file\n",
    "# Example\n",
    "\n",
    "import os\n",
    "for filename in os.listdir(\"./\"):\n",
    "    print(filename)\n",
    "    \n",
    "# Expected Result    \n",
    "    \n",
    "# .ipynb_checkpoints\n",
    "# Complete_TAVG_Daily_LatLong1_1880.nc\n",
    "# Complete_TAVG_Daily_LatLong1_1890.nc\n",
    "# Complete_TAVG_Daily_LatLong1_1900.nc\n",
    "# Complete_TAVG_Daily_LatLong1_1910.nc\n",
    "# Complete_TAVG_Daily_LatLong1_1920.nc\n",
    "# Complete_TAVG_Daily_LatLong1_1930.nc\n",
    "# Complete_TAVG_Daily_LatLong1_1940.nc\n",
    "# Complete_TAVG_Daily_LatLong1_1950.nc\n",
    "# Complete_TAVG_Daily_LatLong1_1960.nc\n",
    "# Complete_TAVG_Daily_LatLong1_1970.nc\n",
    "# Complete_TAVG_Daily_LatLong1_1980.nc\n",
    "# Complete_TAVG_Daily_LatLong1_1990.nc\n",
    "# Complete_TAVG_Daily_LatLong1_2000.nc\n",
    "# Complete_TAVG_Daily_LatLong1_2010.nc\n",
    "# DailyGriddedData.ipynb\n",
    "# readme.txt\n",
    "# Other files"
   ]
  },
  {
   "cell_type": "code",
   "execution_count": 3,
   "metadata": {},
   "outputs": [],
   "source": [
    "file_obj = nc.Dataset(\"Complete_TAVG_Daily_LatLong1_2000.nc\",encoding=\"utf-8\")"
   ]
  },
  {
   "cell_type": "code",
   "execution_count": 4,
   "metadata": {},
   "outputs": [
    {
     "data": {
      "text/plain": [
       "<class 'netCDF4._netCDF4.Dataset'>\n",
       "root group (NETCDF4 data model, file format HDF5):\n",
       "    Conventions: Berkeley Earth Internal Convention (based on CF-1.5)\n",
       "    title: Gridded Berkeley Earth Surface Temperature Anomaly Field\n",
       "    history: 17-Jun-2018 21:13:13\n",
       "    institution: Berkeley Earth Surface Temperature Project\n",
       "    source_history: 17-Jun-2018 16:15:15\n",
       "    comment: This file contains surface temperature anomaly field gridded on a 1� (longitude) by 1� (latitude) grid-box basis.\n",
       "    dimensions(sizes): longitude(360), latitude(180), time(3653), day_number(365)\n",
       "    variables(dimensions): float32 longitude(longitude), float32 latitude(latitude), float64 date_number(time), float64 year(time), float64 month(time), float64 day(time), float64 day_of_year(time), float64 land_mask(latitude, longitude), float32 temperature(time, latitude, longitude), float32 climatology(day_number, latitude, longitude)\n",
       "    groups: "
      ]
     },
     "execution_count": 4,
     "metadata": {},
     "output_type": "execute_result"
    }
   ],
   "source": [
    "file_obj"
   ]
  },
  {
   "cell_type": "code",
   "execution_count": 5,
   "metadata": {},
   "outputs": [
    {
     "data": {
      "text/plain": [
       "dict_keys(['longitude', 'latitude', 'date_number', 'year', 'month', 'day', 'day_of_year', 'land_mask', 'temperature', 'climatology'])"
      ]
     },
     "execution_count": 5,
     "metadata": {},
     "output_type": "execute_result"
    }
   ],
   "source": [
    "file_obj.variables.keys()"
   ]
  },
  {
   "cell_type": "markdown",
   "metadata": {},
   "source": [
    "## Explanation of columns"
   ]
  },
  {
   "cell_type": "markdown",
   "metadata": {},
   "source": [
    "### Longitude\n",
    "\n",
    "A list of longitude values indicating grid box centers. \n",
    "Values are in degrees, with positive values used for the Eastern Hemisphere.\n"
   ]
  },
  {
   "cell_type": "code",
   "execution_count": 6,
   "metadata": {},
   "outputs": [
    {
     "data": {
      "text/plain": [
       "masked_array(data=[-179.5, -178.5, -177.5, -176.5, -175.5, -174.5, -173.5,\n",
       "                   -172.5, -171.5, -170.5, -169.5, -168.5, -167.5, -166.5,\n",
       "                   -165.5, -164.5, -163.5, -162.5, -161.5, -160.5, -159.5,\n",
       "                   -158.5, -157.5, -156.5, -155.5, -154.5, -153.5, -152.5,\n",
       "                   -151.5, -150.5, -149.5, -148.5, -147.5, -146.5, -145.5,\n",
       "                   -144.5, -143.5, -142.5, -141.5, -140.5, -139.5, -138.5,\n",
       "                   -137.5, -136.5, -135.5, -134.5, -133.5, -132.5, -131.5,\n",
       "                   -130.5, -129.5, -128.5, -127.5, -126.5, -125.5, -124.5,\n",
       "                   -123.5, -122.5, -121.5, -120.5, -119.5, -118.5, -117.5,\n",
       "                   -116.5, -115.5, -114.5, -113.5, -112.5, -111.5, -110.5,\n",
       "                   -109.5, -108.5, -107.5, -106.5, -105.5, -104.5, -103.5,\n",
       "                   -102.5, -101.5, -100.5,  -99.5,  -98.5,  -97.5,  -96.5,\n",
       "                    -95.5,  -94.5,  -93.5,  -92.5,  -91.5,  -90.5,  -89.5,\n",
       "                    -88.5,  -87.5,  -86.5,  -85.5,  -84.5,  -83.5,  -82.5,\n",
       "                    -81.5,  -80.5,  -79.5,  -78.5,  -77.5,  -76.5,  -75.5,\n",
       "                    -74.5,  -73.5,  -72.5,  -71.5,  -70.5,  -69.5,  -68.5,\n",
       "                    -67.5,  -66.5,  -65.5,  -64.5,  -63.5,  -62.5,  -61.5,\n",
       "                    -60.5,  -59.5,  -58.5,  -57.5,  -56.5,  -55.5,  -54.5,\n",
       "                    -53.5,  -52.5,  -51.5,  -50.5,  -49.5,  -48.5,  -47.5,\n",
       "                    -46.5,  -45.5,  -44.5,  -43.5,  -42.5,  -41.5,  -40.5,\n",
       "                    -39.5,  -38.5,  -37.5,  -36.5,  -35.5,  -34.5,  -33.5,\n",
       "                    -32.5,  -31.5,  -30.5,  -29.5,  -28.5,  -27.5,  -26.5,\n",
       "                    -25.5,  -24.5,  -23.5,  -22.5,  -21.5,  -20.5,  -19.5,\n",
       "                    -18.5,  -17.5,  -16.5,  -15.5,  -14.5,  -13.5,  -12.5,\n",
       "                    -11.5,  -10.5,   -9.5,   -8.5,   -7.5,   -6.5,   -5.5,\n",
       "                     -4.5,   -3.5,   -2.5,   -1.5,   -0.5,    0.5,    1.5,\n",
       "                      2.5,    3.5,    4.5,    5.5,    6.5,    7.5,    8.5,\n",
       "                      9.5,   10.5,   11.5,   12.5,   13.5,   14.5,   15.5,\n",
       "                     16.5,   17.5,   18.5,   19.5,   20.5,   21.5,   22.5,\n",
       "                     23.5,   24.5,   25.5,   26.5,   27.5,   28.5,   29.5,\n",
       "                     30.5,   31.5,   32.5,   33.5,   34.5,   35.5,   36.5,\n",
       "                     37.5,   38.5,   39.5,   40.5,   41.5,   42.5,   43.5,\n",
       "                     44.5,   45.5,   46.5,   47.5,   48.5,   49.5,   50.5,\n",
       "                     51.5,   52.5,   53.5,   54.5,   55.5,   56.5,   57.5,\n",
       "                     58.5,   59.5,   60.5,   61.5,   62.5,   63.5,   64.5,\n",
       "                     65.5,   66.5,   67.5,   68.5,   69.5,   70.5,   71.5,\n",
       "                     72.5,   73.5,   74.5,   75.5,   76.5,   77.5,   78.5,\n",
       "                     79.5,   80.5,   81.5,   82.5,   83.5,   84.5,   85.5,\n",
       "                     86.5,   87.5,   88.5,   89.5,   90.5,   91.5,   92.5,\n",
       "                     93.5,   94.5,   95.5,   96.5,   97.5,   98.5,   99.5,\n",
       "                    100.5,  101.5,  102.5,  103.5,  104.5,  105.5,  106.5,\n",
       "                    107.5,  108.5,  109.5,  110.5,  111.5,  112.5,  113.5,\n",
       "                    114.5,  115.5,  116.5,  117.5,  118.5,  119.5,  120.5,\n",
       "                    121.5,  122.5,  123.5,  124.5,  125.5,  126.5,  127.5,\n",
       "                    128.5,  129.5,  130.5,  131.5,  132.5,  133.5,  134.5,\n",
       "                    135.5,  136.5,  137.5,  138.5,  139.5,  140.5,  141.5,\n",
       "                    142.5,  143.5,  144.5,  145.5,  146.5,  147.5,  148.5,\n",
       "                    149.5,  150.5,  151.5,  152.5,  153.5,  154.5,  155.5,\n",
       "                    156.5,  157.5,  158.5,  159.5,  160.5,  161.5,  162.5,\n",
       "                    163.5,  164.5,  165.5,  166.5,  167.5,  168.5,  169.5,\n",
       "                    170.5,  171.5,  172.5,  173.5,  174.5,  175.5,  176.5,\n",
       "                    177.5,  178.5,  179.5],\n",
       "             mask=False,\n",
       "       fill_value=1e+20,\n",
       "            dtype=float32)"
      ]
     },
     "execution_count": 6,
     "metadata": {},
     "output_type": "execute_result"
    }
   ],
   "source": [
    "file_obj.variables['longitude'][:]"
   ]
  },
  {
   "cell_type": "markdown",
   "metadata": {},
   "source": [
    "### Latitude\n",
    "\n",
    "A list of latitude values indicating grid box centers. \n",
    "Values are in degrees, with positive values used for the Northern Hemisphere."
   ]
  },
  {
   "cell_type": "code",
   "execution_count": 7,
   "metadata": {},
   "outputs": [
    {
     "data": {
      "text/plain": [
       "masked_array(data=[-89.5, -88.5, -87.5, -86.5, -85.5, -84.5, -83.5, -82.5,\n",
       "                   -81.5, -80.5, -79.5, -78.5, -77.5, -76.5, -75.5, -74.5,\n",
       "                   -73.5, -72.5, -71.5, -70.5, -69.5, -68.5, -67.5, -66.5,\n",
       "                   -65.5, -64.5, -63.5, -62.5, -61.5, -60.5, -59.5, -58.5,\n",
       "                   -57.5, -56.5, -55.5, -54.5, -53.5, -52.5, -51.5, -50.5,\n",
       "                   -49.5, -48.5, -47.5, -46.5, -45.5, -44.5, -43.5, -42.5,\n",
       "                   -41.5, -40.5, -39.5, -38.5, -37.5, -36.5, -35.5, -34.5,\n",
       "                   -33.5, -32.5, -31.5, -30.5, -29.5, -28.5, -27.5, -26.5,\n",
       "                   -25.5, -24.5, -23.5, -22.5, -21.5, -20.5, -19.5, -18.5,\n",
       "                   -17.5, -16.5, -15.5, -14.5, -13.5, -12.5, -11.5, -10.5,\n",
       "                    -9.5,  -8.5,  -7.5,  -6.5,  -5.5,  -4.5,  -3.5,  -2.5,\n",
       "                    -1.5,  -0.5,   0.5,   1.5,   2.5,   3.5,   4.5,   5.5,\n",
       "                     6.5,   7.5,   8.5,   9.5,  10.5,  11.5,  12.5,  13.5,\n",
       "                    14.5,  15.5,  16.5,  17.5,  18.5,  19.5,  20.5,  21.5,\n",
       "                    22.5,  23.5,  24.5,  25.5,  26.5,  27.5,  28.5,  29.5,\n",
       "                    30.5,  31.5,  32.5,  33.5,  34.5,  35.5,  36.5,  37.5,\n",
       "                    38.5,  39.5,  40.5,  41.5,  42.5,  43.5,  44.5,  45.5,\n",
       "                    46.5,  47.5,  48.5,  49.5,  50.5,  51.5,  52.5,  53.5,\n",
       "                    54.5,  55.5,  56.5,  57.5,  58.5,  59.5,  60.5,  61.5,\n",
       "                    62.5,  63.5,  64.5,  65.5,  66.5,  67.5,  68.5,  69.5,\n",
       "                    70.5,  71.5,  72.5,  73.5,  74.5,  75.5,  76.5,  77.5,\n",
       "                    78.5,  79.5,  80.5,  81.5,  82.5,  83.5,  84.5,  85.5,\n",
       "                    86.5,  87.5,  88.5,  89.5],\n",
       "             mask=False,\n",
       "       fill_value=1e+20,\n",
       "            dtype=float32)"
      ]
     },
     "execution_count": 7,
     "metadata": {},
     "output_type": "execute_result"
    }
   ],
   "source": [
    "file_obj.variables['latitude'][:]"
   ]
  },
  {
   "cell_type": "markdown",
   "metadata": {},
   "source": [
    "### Date_number\n",
    "\n",
    "A list of dates at which data is reported.  \n",
    "Data format is decimal with year plus fraction of year reported, with each value corresponding to the midpoint of the respective day.  \n",
    "For example, 2000.0123 indicates January 5, 2000.  "
   ]
  },
  {
   "cell_type": "code",
   "execution_count": 8,
   "metadata": {},
   "outputs": [
    {
     "data": {
      "text/plain": [
       "masked_array(data=[2000.00136612, 2000.00409836, 2000.0068306 , ...,\n",
       "                   2009.99315068, 2009.99589041, 2009.99863014],\n",
       "             mask=False,\n",
       "       fill_value=1e+20)"
      ]
     },
     "execution_count": 8,
     "metadata": {},
     "output_type": "execute_result"
    }
   ],
   "source": [
    "file_obj.variables['date_number'][:]"
   ]
  },
  {
   "cell_type": "code",
   "execution_count": 9,
   "metadata": {},
   "outputs": [
    {
     "data": {
      "text/plain": [
       "(3653,)"
      ]
     },
     "execution_count": 9,
     "metadata": {},
     "output_type": "execute_result"
    }
   ],
   "source": [
    "file_obj.variables['date_number'][:].shape"
   ]
  },
  {
   "cell_type": "code",
   "execution_count": 10,
   "metadata": {},
   "outputs": [
    {
     "name": "stdout",
     "output_type": "stream",
     "text": [
      "0.4986338797755252\n",
      "1.4959016393265756\n",
      "2.493169398877626\n",
      "3.4904371584286764\n",
      "4.487704918062718\n"
     ]
    }
   ],
   "source": [
    "for i in file_obj.variables['date_number'][:].data[:5]:\n",
    "    print((i-int(i))*365)"
   ]
  },
  {
   "cell_type": "markdown",
   "metadata": {},
   "source": [
    "### Year\n",
    "\n",
    "A list of years at which data is reported. \n",
    "Combine with \"month\" and \"day\" to form a full date."
   ]
  },
  {
   "cell_type": "code",
   "execution_count": 11,
   "metadata": {},
   "outputs": [
    {
     "data": {
      "text/plain": [
       "masked_array(data=[2000., 2000., 2000., ..., 2009., 2009., 2009.],\n",
       "             mask=False,\n",
       "       fill_value=1e+20)"
      ]
     },
     "execution_count": 11,
     "metadata": {},
     "output_type": "execute_result"
    }
   ],
   "source": [
    "file_obj.variables['year'][:]"
   ]
  },
  {
   "cell_type": "markdown",
   "metadata": {},
   "source": [
    "### Month\n",
    "A list of months at which data is reported. \n",
    "Combine with \"year\" and \"day\" to form a full date."
   ]
  },
  {
   "cell_type": "code",
   "execution_count": 12,
   "metadata": {},
   "outputs": [
    {
     "data": {
      "text/plain": [
       "masked_array(data=[ 1.,  1.,  1., ..., 12., 12., 12.],\n",
       "             mask=False,\n",
       "       fill_value=1e+20)"
      ]
     },
     "execution_count": 12,
     "metadata": {},
     "output_type": "execute_result"
    }
   ],
   "source": [
    "file_obj.variables['month'][:]"
   ]
  },
  {
   "cell_type": "markdown",
   "metadata": {},
   "source": [
    "### Day\n",
    "A list of days at which data is reported. \n",
    "Combine with \"year\" and \"month\" to form a full date."
   ]
  },
  {
   "cell_type": "code",
   "execution_count": 13,
   "metadata": {},
   "outputs": [
    {
     "data": {
      "text/plain": [
       "masked_array(data=[ 1.,  2.,  3., ..., 29., 30., 31.],\n",
       "             mask=False,\n",
       "       fill_value=1e+20)"
      ]
     },
     "execution_count": 13,
     "metadata": {},
     "output_type": "execute_result"
    }
   ],
   "source": [
    "file_obj.variables['day'][:]"
   ]
  },
  {
   "cell_type": "markdown",
   "metadata": {},
   "source": [
    "### Day_of_year\n",
    "A list of the day of year (1-365) at which data is reported.  \n",
    "This can be used with the \"climatology\" to select the appropriate climatology day to use with each day of temperature anomalies."
   ]
  },
  {
   "cell_type": "code",
   "execution_count": 14,
   "metadata": {},
   "outputs": [
    {
     "data": {
      "text/plain": [
       "masked_array(data=[  1.,   2.,   3., ..., 363., 364., 365.],\n",
       "             mask=False,\n",
       "       fill_value=1e+20)"
      ]
     },
     "execution_count": 14,
     "metadata": {},
     "output_type": "execute_result"
    }
   ],
   "source": [
    "file_obj.variables['day_of_year'][:]"
   ]
  },
  {
   "cell_type": "markdown",
   "metadata": {},
   "source": [
    "During leap years, there will be one duplicated day_of_year value."
   ]
  },
  {
   "cell_type": "code",
   "execution_count": 15,
   "metadata": {},
   "outputs": [
    {
     "name": "stdout",
     "output_type": "stream",
     "text": [
      "13\n",
      "10\n"
     ]
    }
   ],
   "source": [
    "from collections import Counter\n",
    "\n",
    "print(max(Counter(file_obj.variables['day_of_year'][:].data).values()))\n",
    "print(min(Counter(file_obj.variables['day_of_year'][:].data).values()))"
   ]
  },
  {
   "cell_type": "markdown",
   "metadata": {},
   "source": [
    "### Land_mask\n",
    "\n",
    "For each grid cell, the fraction of the cell which corresponds to land (as opposed to ocean or other large water bodies).  "
   ]
  },
  {
   "cell_type": "code",
   "execution_count": 16,
   "metadata": {},
   "outputs": [
    {
     "data": {
      "text/plain": [
       "masked_array(\n",
       "  data=[[1., 1., 1., ..., 1., 1., 1.],\n",
       "        [1., 1., 1., ..., 1., 1., 1.],\n",
       "        [1., 1., 1., ..., 1., 1., 1.],\n",
       "        ...,\n",
       "        [0., 0., 0., ..., 0., 0., 0.],\n",
       "        [0., 0., 0., ..., 0., 0., 0.],\n",
       "        [0., 0., 0., ..., 0., 0., 0.]],\n",
       "  mask=False,\n",
       "  fill_value=1e+20)"
      ]
     },
     "execution_count": 16,
     "metadata": {},
     "output_type": "execute_result"
    }
   ],
   "source": [
    "file_obj.variables['land_mask'][:]"
   ]
  },
  {
   "cell_type": "markdown",
   "metadata": {},
   "source": [
    "### Temperature\n",
    "\n",
    "A surface air temperature anomaly field.  \n",
    "The dimension are latitude x longitude x date.   \n",
    "Each element measures the local temperature anomaly, in degrees C, for the corresponding location and date.  \n",
    "Missing values are reported as NaN.  \n",
    "A value is reported as missing if the grid cell is less than 5% land or if the coverage diagnostic indicates that the locally available data provides less than a 20% constraint on the anomaly."
   ]
  },
  {
   "cell_type": "code",
   "execution_count": 17,
   "metadata": {},
   "outputs": [
    {
     "name": "stderr",
     "output_type": "stream",
     "text": [
      "C:\\Users\\39402\\Anaconda3\\lib\\site-packages\\ipykernel_launcher.py:1: UserWarning: WARNING: valid_min not used since it\n",
      "cannot be safely cast to variable data type\n",
      "  \"\"\"Entry point for launching an IPython kernel.\n",
      "C:\\Users\\39402\\Anaconda3\\lib\\site-packages\\ipykernel_launcher.py:1: UserWarning: WARNING: valid_max not used since it\n",
      "cannot be safely cast to variable data type\n",
      "  \"\"\"Entry point for launching an IPython kernel.\n"
     ]
    },
    {
     "data": {
      "text/plain": [
       "masked_array(\n",
       "  data=[[[-2.614938974380493, -2.614286184310913, -2.613651752471924,\n",
       "          ..., -2.617009162902832, -2.616300582885742,\n",
       "          -2.615610361099243],\n",
       "         [-2.4770781993865967, -2.476513147354126, -2.4760098457336426,\n",
       "          ..., -2.479161024093628, -2.478400707244873,\n",
       "          -2.4777069091796875],\n",
       "         [-2.3174619674682617, -2.3183095455169678, -2.319305419921875,\n",
       "          ..., -2.3158364295959473, -2.316222906112671,\n",
       "          -2.316765546798706],\n",
       "         ...,\n",
       "         [--, --, --, ..., --, --, --],\n",
       "         [--, --, --, ..., --, --, --],\n",
       "         [--, --, --, ..., --, --, --]],\n",
       "\n",
       "        [[-1.093410611152649, -1.0945838689804077, -1.0957797765731812,\n",
       "          ..., -1.0900306701660156, -1.0911335945129395,\n",
       "          -1.0922603607177734],\n",
       "         [-0.9042283892631531, -0.9081172347068787, -0.9120954871177673,\n",
       "          ..., -0.893113911151886, -0.8967251181602478,\n",
       "          -0.90043044090271],\n",
       "         [-0.6810401082038879, -0.687728762626648, -0.6946268081665039,\n",
       "          ..., -0.6622342467308044, -0.6682927012443542,\n",
       "          -0.6745613217353821],\n",
       "         ...,\n",
       "         [--, --, --, ..., --, --, --],\n",
       "         [--, --, --, ..., --, --, --],\n",
       "         [--, --, --, ..., --, --, --]],\n",
       "\n",
       "        [[-1.4375159740447998, -1.438000202178955, -1.4385356903076172,\n",
       "          ..., -1.4363733530044556, -1.4367022514343262,\n",
       "          -1.4370832443237305],\n",
       "         [-1.1064252853393555, -1.1090465784072876, -1.1118139028549194,\n",
       "          ..., -1.0994610786437988, -1.1016303300857544,\n",
       "          -1.1039525270462036],\n",
       "         [-0.7786251306533813, -0.7846943140029907, -0.791000485420227,\n",
       "          ..., -0.7618969082832336, -0.7672207355499268,\n",
       "          -0.7727986574172974],\n",
       "         ...,\n",
       "         [--, --, --, ..., --, --, --],\n",
       "         [--, --, --, ..., --, --, --],\n",
       "         [--, --, --, ..., --, --, --]],\n",
       "\n",
       "        ...,\n",
       "\n",
       "        [[-1.9391130208969116, -1.9399547576904297, -1.9408423900604248,\n",
       "          ..., -1.936861515045166, -1.9375665187835693,\n",
       "          -1.9383169412612915],\n",
       "         [-1.6185177564620972, -1.618165373802185, -1.6179670095443726,\n",
       "          ..., -1.6204593181610107, -1.6196686029434204,\n",
       "          -1.6190201044082642],\n",
       "         [-1.3042758703231812, -1.3006597757339478, -1.2972475290298462,\n",
       "          ..., -1.316348671913147, -1.3121200799942017,\n",
       "          -1.3080958127975464],\n",
       "         ...,\n",
       "         [--, --, --, ..., --, --, --],\n",
       "         [--, --, --, ..., --, --, --],\n",
       "         [--, --, --, ..., --, --, --]],\n",
       "\n",
       "        [[-1.4613975286483765, -1.4604371786117554, -1.45955228805542,\n",
       "          ..., -1.464726448059082, -1.4635426998138428,\n",
       "          -1.462432861328125],\n",
       "         [-0.9224018454551697, -0.9180037975311279, -0.9138622283935547,\n",
       "          ..., -0.9371008276939392, -0.9319538474082947,\n",
       "          -0.9270529747009277],\n",
       "         [-0.39054763317108154, -0.38158103823661804,\n",
       "          -0.372967392206192, ..., -0.4195467233657837,\n",
       "          -0.40953218936920166, -0.3998652696609497],\n",
       "         ...,\n",
       "         [--, --, --, ..., --, --, --],\n",
       "         [--, --, --, ..., --, --, --],\n",
       "         [--, --, --, ..., --, --, --]],\n",
       "\n",
       "        [[-2.1049978733062744, -2.103978395462036, -2.1030077934265137,\n",
       "          ..., -2.108344078063965, -2.1071808338165283,\n",
       "          -2.106065273284912],\n",
       "         [-1.764774203300476, -1.7615211009979248, -1.7584271430969238,\n",
       "          ..., -1.775476336479187, -1.771753191947937,\n",
       "          -1.7681853771209717],\n",
       "         [-1.4009348154067993, -1.3954404592514038, -1.390250325202942,\n",
       "          ..., -1.4192392826080322, -1.4128350019454956,\n",
       "          -1.4067331552505493],\n",
       "         ...,\n",
       "         [--, --, --, ..., --, --, --],\n",
       "         [--, --, --, ..., --, --, --],\n",
       "         [--, --, --, ..., --, --, --]]],\n",
       "  mask=[[[False, False, False, ..., False, False, False],\n",
       "         [False, False, False, ..., False, False, False],\n",
       "         [False, False, False, ..., False, False, False],\n",
       "         ...,\n",
       "         [ True,  True,  True, ...,  True,  True,  True],\n",
       "         [ True,  True,  True, ...,  True,  True,  True],\n",
       "         [ True,  True,  True, ...,  True,  True,  True]],\n",
       "\n",
       "        [[False, False, False, ..., False, False, False],\n",
       "         [False, False, False, ..., False, False, False],\n",
       "         [False, False, False, ..., False, False, False],\n",
       "         ...,\n",
       "         [ True,  True,  True, ...,  True,  True,  True],\n",
       "         [ True,  True,  True, ...,  True,  True,  True],\n",
       "         [ True,  True,  True, ...,  True,  True,  True]],\n",
       "\n",
       "        [[False, False, False, ..., False, False, False],\n",
       "         [False, False, False, ..., False, False, False],\n",
       "         [False, False, False, ..., False, False, False],\n",
       "         ...,\n",
       "         [ True,  True,  True, ...,  True,  True,  True],\n",
       "         [ True,  True,  True, ...,  True,  True,  True],\n",
       "         [ True,  True,  True, ...,  True,  True,  True]],\n",
       "\n",
       "        ...,\n",
       "\n",
       "        [[False, False, False, ..., False, False, False],\n",
       "         [False, False, False, ..., False, False, False],\n",
       "         [False, False, False, ..., False, False, False],\n",
       "         ...,\n",
       "         [ True,  True,  True, ...,  True,  True,  True],\n",
       "         [ True,  True,  True, ...,  True,  True,  True],\n",
       "         [ True,  True,  True, ...,  True,  True,  True]],\n",
       "\n",
       "        [[False, False, False, ..., False, False, False],\n",
       "         [False, False, False, ..., False, False, False],\n",
       "         [False, False, False, ..., False, False, False],\n",
       "         ...,\n",
       "         [ True,  True,  True, ...,  True,  True,  True],\n",
       "         [ True,  True,  True, ...,  True,  True,  True],\n",
       "         [ True,  True,  True, ...,  True,  True,  True]],\n",
       "\n",
       "        [[False, False, False, ..., False, False, False],\n",
       "         [False, False, False, ..., False, False, False],\n",
       "         [False, False, False, ..., False, False, False],\n",
       "         ...,\n",
       "         [ True,  True,  True, ...,  True,  True,  True],\n",
       "         [ True,  True,  True, ...,  True,  True,  True],\n",
       "         [ True,  True,  True, ...,  True,  True,  True]]],\n",
       "  fill_value=nan,\n",
       "  dtype=float32)"
      ]
     },
     "execution_count": 17,
     "metadata": {},
     "output_type": "execute_result"
    }
   ],
   "source": [
    "file_obj.variables['temperature'][:]"
   ]
  },
  {
   "cell_type": "markdown",
   "metadata": {},
   "source": [
    "### Climatology\n",
    "For each grid cell, an estimate of the true surface temperature for each day of year (1-365) during the period January 1951 to December 1980 reported in degrees C.  \n",
    "The dimensions are latitude x longitude x day_of_year, where day_of_year has length 365.\n",
    "\n",
    "**An example can be found in the next part showing that Climatology column from different files are same.**"
   ]
  },
  {
   "cell_type": "code",
   "execution_count": 18,
   "metadata": {},
   "outputs": [
    {
     "data": {
      "text/plain": [
       "masked_array(\n",
       "  data=[[[-24.57350730895996, -24.559814453125, -24.55699348449707, ...,\n",
       "          -24.623008728027344, -24.60049057006836, -24.58745002746582],\n",
       "         [-26.85073471069336, -26.88797950744629, -26.942461013793945,\n",
       "          ..., -26.85883140563965, -26.839111328125,\n",
       "          -26.835569381713867],\n",
       "         [-26.22846794128418, -26.264320373535156, -26.259254455566406,\n",
       "          ..., -26.309627532958984, -26.278331756591797,\n",
       "          -26.231531143188477],\n",
       "         ...,\n",
       "         [--, --, --, ..., --, --, --],\n",
       "         [--, --, --, ..., --, --, --],\n",
       "         [--, --, --, ..., --, --, --]],\n",
       "\n",
       "        [[-24.640592575073242, -24.626792907714844, -24.62378692626953,\n",
       "          ..., -24.690349578857422, -24.66779327392578,\n",
       "          -24.654644012451172],\n",
       "         [-26.9128360748291, -26.949647903442383, -27.003568649291992,\n",
       "          ..., -26.92136573791504, -26.901626586914062,\n",
       "          -26.897947311401367],\n",
       "         [-26.28684425354004, -26.32185173034668, -26.31598663330078,\n",
       "          ..., -26.368515014648438, -26.3371524810791,\n",
       "          -26.290328979492188],\n",
       "         ...,\n",
       "         [--, --, --, ..., --, --, --],\n",
       "         [--, --, --, ..., --, --, --],\n",
       "         [--, --, --, ..., --, --, --]],\n",
       "\n",
       "        [[-24.724271774291992, -24.710357666015625, -24.707157135009766,\n",
       "          ..., -24.774293899536133, -24.751699447631836,\n",
       "          -24.73843765258789],\n",
       "         [-26.990394592285156, -27.0267391204834, -27.080049514770508,\n",
       "          ..., -26.999378204345703, -26.979625701904297,\n",
       "          -26.97580337524414],\n",
       "         [-26.359577178955078, -26.393665313720703, -26.386926651000977,\n",
       "          ..., -26.441791534423828, -26.41036033630371,\n",
       "          -26.363521575927734],\n",
       "         ...,\n",
       "         [--, --, --, ..., --, --, --],\n",
       "         [--, --, --, ..., --, --, --],\n",
       "         [--, --, --, ..., --, --, --]],\n",
       "\n",
       "        ...,\n",
       "\n",
       "        [[-24.472431182861328, -24.459022521972656, -24.456668853759766,\n",
       "          ..., -24.521238327026367, -24.498842239379883,\n",
       "          -24.486087799072266],\n",
       "         [-26.757719039916992, -26.796049118041992, -26.8519229888916,\n",
       "          ..., -26.76465606689453, -26.745025634765625,\n",
       "          -26.741846084594727],\n",
       "         [-26.139970779418945, -26.177888870239258, -26.174789428710938,\n",
       "          ..., -26.219806671142578, -26.188701629638672,\n",
       "          -26.141983032226562],\n",
       "         ...,\n",
       "         [--, --, --, ..., --, --, --],\n",
       "         [--, --, --, ..., --, --, --],\n",
       "         [--, --, --, ..., --, --, --]],\n",
       "\n",
       "        [[-24.4893856048584, -24.475889205932617, -24.4733943939209,\n",
       "          ..., -24.538410186767578, -24.515975952148438,\n",
       "          -24.50313377380371],\n",
       "         [-26.773141860961914, -26.811145782470703, -26.86660385131836,\n",
       "          ..., -26.780441284179688, -26.760774612426758,\n",
       "          -26.757482528686523],\n",
       "         [-26.155000686645508, -26.19230842590332, -26.188627243041992,\n",
       "          ..., -26.235240936279297, -26.204072952270508,\n",
       "          -26.157325744628906],\n",
       "         ...,\n",
       "         [--, --, --, ..., --, --, --],\n",
       "         [--, --, --, ..., --, --, --],\n",
       "         [--, --, --, ..., --, --, --]],\n",
       "\n",
       "        [[-24.523088455200195, -24.509496688842773, -24.50684356689453,\n",
       "          ..., -24.572343826293945, -24.549869537353516,\n",
       "          -24.536930084228516],\n",
       "         [-26.804153442382812, -26.841798782348633, -26.896793365478516,\n",
       "          ..., -26.81184196472168, -26.792146682739258,\n",
       "          -26.788734436035156],\n",
       "         [-26.184507369995117, -26.221126556396484, -26.21678924560547,\n",
       "          ..., -26.265188217163086, -26.233957290649414,\n",
       "          -26.187183380126953],\n",
       "         ...,\n",
       "         [--, --, --, ..., --, --, --],\n",
       "         [--, --, --, ..., --, --, --],\n",
       "         [--, --, --, ..., --, --, --]]],\n",
       "  mask=[[[False, False, False, ..., False, False, False],\n",
       "         [False, False, False, ..., False, False, False],\n",
       "         [False, False, False, ..., False, False, False],\n",
       "         ...,\n",
       "         [ True,  True,  True, ...,  True,  True,  True],\n",
       "         [ True,  True,  True, ...,  True,  True,  True],\n",
       "         [ True,  True,  True, ...,  True,  True,  True]],\n",
       "\n",
       "        [[False, False, False, ..., False, False, False],\n",
       "         [False, False, False, ..., False, False, False],\n",
       "         [False, False, False, ..., False, False, False],\n",
       "         ...,\n",
       "         [ True,  True,  True, ...,  True,  True,  True],\n",
       "         [ True,  True,  True, ...,  True,  True,  True],\n",
       "         [ True,  True,  True, ...,  True,  True,  True]],\n",
       "\n",
       "        [[False, False, False, ..., False, False, False],\n",
       "         [False, False, False, ..., False, False, False],\n",
       "         [False, False, False, ..., False, False, False],\n",
       "         ...,\n",
       "         [ True,  True,  True, ...,  True,  True,  True],\n",
       "         [ True,  True,  True, ...,  True,  True,  True],\n",
       "         [ True,  True,  True, ...,  True,  True,  True]],\n",
       "\n",
       "        ...,\n",
       "\n",
       "        [[False, False, False, ..., False, False, False],\n",
       "         [False, False, False, ..., False, False, False],\n",
       "         [False, False, False, ..., False, False, False],\n",
       "         ...,\n",
       "         [ True,  True,  True, ...,  True,  True,  True],\n",
       "         [ True,  True,  True, ...,  True,  True,  True],\n",
       "         [ True,  True,  True, ...,  True,  True,  True]],\n",
       "\n",
       "        [[False, False, False, ..., False, False, False],\n",
       "         [False, False, False, ..., False, False, False],\n",
       "         [False, False, False, ..., False, False, False],\n",
       "         ...,\n",
       "         [ True,  True,  True, ...,  True,  True,  True],\n",
       "         [ True,  True,  True, ...,  True,  True,  True],\n",
       "         [ True,  True,  True, ...,  True,  True,  True]],\n",
       "\n",
       "        [[False, False, False, ..., False, False, False],\n",
       "         [False, False, False, ..., False, False, False],\n",
       "         [False, False, False, ..., False, False, False],\n",
       "         ...,\n",
       "         [ True,  True,  True, ...,  True,  True,  True],\n",
       "         [ True,  True,  True, ...,  True,  True,  True],\n",
       "         [ True,  True,  True, ...,  True,  True,  True]]],\n",
       "  fill_value=nan,\n",
       "  dtype=float32)"
      ]
     },
     "execution_count": 18,
     "metadata": {},
     "output_type": "execute_result"
    }
   ],
   "source": [
    "file_obj.variables['climatology'][:]"
   ]
  },
  {
   "cell_type": "markdown",
   "metadata": {},
   "source": [
    "## Utility functions"
   ]
  },
  {
   "cell_type": "code",
   "execution_count": 19,
   "metadata": {},
   "outputs": [],
   "source": [
    "# global var, need initialzation\n",
    "DATASET=dict()\n",
    "\n",
    "# The org provides multiple datasets. \n",
    "# Change these global variables to accomodate new datasets.\n",
    "DATASET_PREFIX=\"Complete_TAVG_Daily_LatLong1_\"\n",
    "DATASET_BEGIN=1880\n",
    "DATASET_END=2020\n",
    "DATASET_INTERVAL=10\n",
    "\n",
    "def loadDatasets(decade=None):\n",
    "    global DATASET\n",
    "    \n",
    "    if not decade:\n",
    "        for i in range(DATASET_BEGIN,DATASET_END,DATASET_INTERVAL):\n",
    "            fileName=\"{prefix}{decd}.nc\".format(prefix = DATASET_PREFIX, decd = i)\n",
    "            DATASET[str(i)]=nc.Dataset(fileName,encoding=\"utf-8\")\n",
    "    else:\n",
    "        try:\n",
    "            fileName=\"{prefix}{decd}.nc\".format(prefix = DATASET_PREFIX, decd = decade)\n",
    "            DATASET[str(decade)]=nc.Dataset(fileName,encoding=\"utf-8\")\n",
    "        except:\n",
    "            raise NameError(\"Wrong input parameters for func loadDatasets()\")"
   ]
  },
  {
   "cell_type": "code",
   "execution_count": 20,
   "metadata": {},
   "outputs": [],
   "source": [
    "# examples\n",
    "\n",
    "# loadDatasets() # load all\n",
    "\n",
    "# loadDatasets(1990)  # load only target decades\n",
    "# loadDatasets(\"1990\") # either is ok"
   ]
  },
  {
   "cell_type": "markdown",
   "metadata": {},
   "source": [
    "Proof that all Climatology column from different files are same."
   ]
  },
  {
   "cell_type": "code",
   "execution_count": 21,
   "metadata": {},
   "outputs": [],
   "source": [
    "loadDatasets()\n",
    "\n",
    "climatology2000=DATASET[\"2000\"].variables['climatology'][:]\n",
    "for i in DATASET.values():\n",
    "    if not (i.variables['climatology'][:]==climatology2000).all():\n",
    "        raise RuntimeError(\"Difference detected\")"
   ]
  },
  {
   "cell_type": "code",
   "execution_count": null,
   "metadata": {},
   "outputs": [],
   "source": []
  },
  {
   "cell_type": "code",
   "execution_count": 22,
   "metadata": {},
   "outputs": [],
   "source": [
    "def getCoord(lat,lng):\n",
    "    # eg. Coord for New York: 40.7128° N, 74.0060° W\n",
    "    # input format: 41N, 74W\n",
    "    # output format: target indices for the fields that require lat/long, such as teperature/climatology\n",
    "    latIdx=lngIdx=0\n",
    "    \n",
    "    if lat.endswith(\"N\") or lat.endswith(\"n\"):\n",
    "        latIdx=90+int(lat[:-1])\n",
    "        if latIdx==180:\n",
    "            latIdx=179\n",
    "    elif lat.endswith(\"S\") or lat.endswith(\"s\"):\n",
    "        latIdx=90-int(lat[:-1])\n",
    "    else:\n",
    "        raise NameError(\"Wrong input parameters for func getCoord() in lat\")\n",
    "        \n",
    "    if lng.endswith(\"E\") or lng.endswith(\"e\"):\n",
    "        lngIdx=180+int(lng[:-1])\n",
    "        if lngIdx==360:\n",
    "            lngIdx=359\n",
    "    elif lng.endswith(\"W\") or lng.endswith(\"w\"):\n",
    "        lngIdx=180-int(lng[:-1])\n",
    "    else:\n",
    "        raise NameError(\"Wrong input parameters for func getCoord() in lng\")\n",
    "        \n",
    "    return latIdx,lngIdx"
   ]
  },
  {
   "cell_type": "code",
   "execution_count": null,
   "metadata": {},
   "outputs": [],
   "source": []
  },
  {
   "cell_type": "code",
   "execution_count": 23,
   "metadata": {},
   "outputs": [],
   "source": [
    "import calendar\n",
    "\n",
    "MonthDays=dict()\n",
    "for i in range(DATASET_BEGIN,DATASET_END+10,1):\n",
    "    for j in range(12):\n",
    "        MonthDays[str(i)+\"-\"+str(j+1)]=calendar.monthrange(i,j+1)[1]\n",
    "        "
   ]
  },
  {
   "cell_type": "code",
   "execution_count": 24,
   "metadata": {},
   "outputs": [],
   "source": [
    "def getHistoricalForCoord(lat,lng,freq=\"day\",interval=None):\n",
    "    # freq: enum: \"day\"/\"week\"/\"month\"\n",
    "    # returns the mean of the given freq\n",
    "    \n",
    "    # interval: time interval. eg. 1990 / 1950-2000 \n",
    "    # if None, return all records\n",
    "    \n",
    "    # lat, lng: eg. 41N, 74W\n",
    "    \n",
    "    # return: A list of float numbers\n",
    "    \n",
    "    numDays=0\n",
    "    if freq.lower()==\"day\":\n",
    "        numDays=1\n",
    "    elif freq.lower()==\"week\":\n",
    "        numDays=7\n",
    "    elif freq.lower()==\"month\":\n",
    "        monthInterval=True\n",
    "    elif freq.lower()==\"year\":\n",
    "        numDays=366\n",
    "    else:\n",
    "        print(\"Unrecognized freq in func getHistoricalForCoord. Proceeding with freq=day.\")\n",
    "        numDays=1\n",
    "    \n",
    "    \n",
    "    latIdx,lngIdx=getCoord(lat,lng)\n",
    "    \n",
    "    record=[]\n",
    "    timeStart,timeEnd=0,0\n",
    "    if not interval:\n",
    "        timeStart,timeEnd=DATASET_BEGIN,DATASET_END\n",
    "    else:\n",
    "        timeInterval=interval.split(\"-\")\n",
    "        if len(timeInterval)==1:\n",
    "            timeStart=int(timeInterval[0])\n",
    "            timeEnd=int(timeInterval[0])+10\n",
    "        else:\n",
    "            timeStart,timeEnd=int(timeInterval[0]),int(timeInterval[1])+10\n",
    "                \n",
    "    for i in range(timeStart,timeEnd,DATASET_INTERVAL):\n",
    "        record.append(DATASET[str(i)].variables['temperature'])\n",
    "    \n",
    "    # Store the number of days in each of the months\n",
    "    if monthInterval:\n",
    "        monthDays=MonthDays\n",
    "\n",
    "    # print(monthDays)\n",
    "    \n",
    "    ret=[]\n",
    "    for i in record:\n",
    "        if numDays==1:\n",
    "            ret.append(i[:,latIdx,lngIdx].filled(fill_value=0))\n",
    "        elif monthInterval:\n",
    "            prev=0\n",
    "            currYear=timeStart\n",
    "            currMonth=1\n",
    "            dataArray=i[:,latIdx,lngIdx].filled(fill_value=0)\n",
    "            dataLength=dataArray.shape[0]\n",
    "            while True:\n",
    "                duration=monthDays[str(currYear)+\"-\"+str(currMonth)]\n",
    "                ret.append(np.mean(dataArray[prev:prev+duration]))\n",
    "                prev+=duration\n",
    "                \n",
    "                if prev>=dataLength:\n",
    "                    break\n",
    "                \n",
    "                currMonth+=1\n",
    "                if currMonth==13:\n",
    "                    currMonth=1\n",
    "                    currYear+=1\n",
    "        else:\n",
    "            idx=0\n",
    "            dataArray=i[:,latIdx,lngIdx].filled(fill_value=0)\n",
    "            dataLength=i.shape[0]\n",
    "            while idx*numDays<dataLength:\n",
    "                # min used here to avoid index problems\n",
    "                ret.append(np.mean(dataArray[idx*numDays:min(dataLength,(idx+1)*numDays)]))\n",
    "                idx+=1\n",
    "                \n",
    "    if numDays==1:\n",
    "         ret=list(np.concatenate(ret))\n",
    "    \n",
    "    return ret\n"
   ]
  },
  {
   "cell_type": "code",
   "execution_count": 25,
   "metadata": {},
   "outputs": [],
   "source": [
    "# examples\n",
    "\n",
    "# getHistoricalForCoord(\"41n\",\"74W\",\"year\",\"1900-2010\")\n",
    "# getHistoricalForCoord(\"41n\",\"74W\",\"day\",\"2000-2010\")\n",
    "# getHistoricalForCoord(\"41n\",\"74W\",\"week\",\"2000\")\n",
    "# getHistoricalForCoord(\"41n\",\"74W\",\"Month\",\"2000\")"
   ]
  },
  {
   "cell_type": "code",
   "execution_count": 27,
   "metadata": {},
   "outputs": [],
   "source": [
    "import random\n",
    "import pickle"
   ]
  },
  {
   "cell_type": "code",
   "execution_count": 28,
   "metadata": {},
   "outputs": [],
   "source": [
    "def validate(l,num=5):\n",
    "    # Function used to validate that the results are non-zero entries\n",
    "    # To be used in future to filter out all zero entries\n",
    "    # Not used now\n",
    "    x=random.sample(l,num)\n",
    "    for i in x:\n",
    "        if i!=float(0):\n",
    "            return True\n",
    "        \n",
    "    return False"
   ]
  },
  {
   "cell_type": "code",
   "execution_count": 36,
   "metadata": {},
   "outputs": [],
   "source": [
    "def getHistoricalForAllCoord(freq=\"month\",timeInterval=None,CoordInterval=45):    \n",
    "    # Must be int\n",
    "    if type(CoordInterval)!=type(2):\n",
    "        raise ValueError(\"Wrong parameter CoordInterval in func getHistoricalForAllCoord\")\n",
    "    \n",
    "    # only output the files that are not in the dir \n",
    "    currFiles=set(os.listdir(\"./\"))\n",
    "    for lat in range(0,90,CoordInterval):\n",
    "        x=str(lat)+\"N\"\n",
    "        \n",
    "        for lng in range(0,180,CoordInterval):\n",
    "            y=str(lng)+\"E\"\n",
    "            key=x+\"-\"+y\n",
    "            \n",
    "            fileName=\"./{}.pkl\".format(key)\n",
    "            if fileName not in currFiles:\n",
    "                print(\"Current Coord: \", key)\n",
    "                res=getHistoricalForCoord(x,y,freq,timeInterval)\n",
    "\n",
    "                f=open(fileName,'wb')  \n",
    "                pickle.dump(res,f,0)  \n",
    "                f.close() \n",
    "            \n",
    "        for lng in range(0,180,CoordInterval):\n",
    "            y=str(lng)+\"W\"\n",
    "            key=x+\"-\"+y\n",
    "            \n",
    "            fileName=\"./{}.pkl\".format(key)\n",
    "            if fileName not in currFiles:\n",
    "                print(\"Current Coord: \", key)\n",
    "                res=getHistoricalForCoord(x,y,freq,timeInterval)\n",
    "\n",
    "                f=open(fileName,'wb')  \n",
    "                pickle.dump(res,f,0)  \n",
    "                f.close() \n",
    "            \n",
    "            \n",
    "        x=str(lat)+\"S\"\n",
    "        \n",
    "        for lng in range(0,180,CoordInterval):\n",
    "            y=str(lng)+\"E\"\n",
    "            key=x+\"-\"+y\n",
    "            if fileName not in currFiles:\n",
    "                print(\"Current Coord: \", key)\n",
    "                res=getHistoricalForCoord(x,y,freq,timeInterval)\n",
    "\n",
    "                f=open(fileName,'wb')  \n",
    "                pickle.dump(res,f,0)  \n",
    "                f.close() \n",
    "            \n",
    "        for lng in range(0,180,CoordInterval):\n",
    "            y=str(lng)+\"W\"\n",
    "            key=x+\"-\"+y\n",
    "            if fileName not in currFiles:\n",
    "                print(\"Current Coord: \", key)\n",
    "                res=getHistoricalForCoord(x,y,freq,timeInterval)\n",
    "\n",
    "                f=open(fileName,'wb')  \n",
    "                pickle.dump(res,f,0)  \n",
    "                f.close() "
   ]
  },
  {
   "cell_type": "code",
   "execution_count": 33,
   "metadata": {},
   "outputs": [
    {
     "name": "stderr",
     "output_type": "stream",
     "text": [
      "C:\\Users\\39402\\Anaconda3\\lib\\site-packages\\ipykernel_launcher.py:57: UserWarning: WARNING: valid_min not used since it\n",
      "cannot be safely cast to variable data type\n",
      "C:\\Users\\39402\\Anaconda3\\lib\\site-packages\\ipykernel_launcher.py:57: UserWarning: WARNING: valid_max not used since it\n",
      "cannot be safely cast to variable data type\n"
     ]
    }
   ],
   "source": [
    "# example\n",
    "# res=getHistoricalForCoord(\"41n\",\"74W\",\"Month\",\"2000\")\n",
    "\n",
    "# if validate(res):\n",
    "#     key=\"41N-74W\"\n",
    "#     fileName=\"./{}.txt\".format(key)\n",
    "#     f=open(fileName,'wb')  \n",
    "#     pickle.dump(res,f,0)  \n",
    "#     f.close() \n",
    "    \n",
    "# loadFile = open(fileName, 'rb')\n",
    "# l = pickle.load(loadFile)"
   ]
  },
  {
   "cell_type": "code",
   "execution_count": 37,
   "metadata": {},
   "outputs": [
    {
     "name": "stdout",
     "output_type": "stream",
     "text": [
      "Current Coord:  0N-0E\n"
     ]
    },
    {
     "name": "stderr",
     "output_type": "stream",
     "text": [
      "C:\\Users\\39402\\Anaconda3\\lib\\site-packages\\ipykernel_launcher.py:57: UserWarning: WARNING: valid_min not used since it\n",
      "cannot be safely cast to variable data type\n",
      "C:\\Users\\39402\\Anaconda3\\lib\\site-packages\\ipykernel_launcher.py:57: UserWarning: WARNING: valid_max not used since it\n",
      "cannot be safely cast to variable data type\n"
     ]
    },
    {
     "name": "stdout",
     "output_type": "stream",
     "text": [
      "Current Coord:  0N-60E\n",
      "Current Coord:  0N-120E\n",
      "Current Coord:  0N-0W\n",
      "Current Coord:  0N-60W\n",
      "Current Coord:  0N-120W\n",
      "Current Coord:  0S-0E\n",
      "Current Coord:  0S-60E\n",
      "Current Coord:  0S-120E\n",
      "Current Coord:  0S-0W\n",
      "Current Coord:  0S-60W\n",
      "Current Coord:  0S-120W\n",
      "Current Coord:  60N-0E\n",
      "Current Coord:  60N-60E\n",
      "Current Coord:  60N-120E\n",
      "Current Coord:  60N-0W\n",
      "Current Coord:  60N-60W\n",
      "Current Coord:  60N-120W\n",
      "Current Coord:  60S-0E\n",
      "Current Coord:  60S-60E\n",
      "Current Coord:  60S-120E\n",
      "Current Coord:  60S-0W\n",
      "Current Coord:  60S-60W\n",
      "Current Coord:  60S-120W\n"
     ]
    },
    {
     "data": {
      "text/plain": [
       "{}"
      ]
     },
     "execution_count": 37,
     "metadata": {},
     "output_type": "execute_result"
    }
   ],
   "source": [
    "# Run this function to generate pickle data\n",
    "# getHistoricalForAllCoord(freq=\"month\",CoordInterval=5)\n",
    "# May take some time\n",
    "\n",
    "# A smaller example\n",
    "getHistoricalForAllCoord(freq=\"month\",CoordInterval=60)"
   ]
  },
  {
   "cell_type": "code",
   "execution_count": null,
   "metadata": {},
   "outputs": [],
   "source": []
  },
  {
   "cell_type": "markdown",
   "metadata": {},
   "source": [
    "## Example 1 (plot of anomaly of different decades for a given coordinate)"
   ]
  },
  {
   "cell_type": "code",
   "execution_count": 26,
   "metadata": {},
   "outputs": [],
   "source": [
    "loadDatasets()\n",
    "tarCoord=getCoord(\"41N\",\"74W\")"
   ]
  },
  {
   "cell_type": "code",
   "execution_count": 27,
   "metadata": {},
   "outputs": [
    {
     "name": "stderr",
     "output_type": "stream",
     "text": [
      "C:\\Users\\39402\\Anaconda3\\lib\\site-packages\\ipykernel_launcher.py:42: UserWarning: WARNING: valid_min not used since it\n",
      "cannot be safely cast to variable data type\n",
      "C:\\Users\\39402\\Anaconda3\\lib\\site-packages\\ipykernel_launcher.py:42: UserWarning: WARNING: valid_max not used since it\n",
      "cannot be safely cast to variable data type\n"
     ]
    }
   ],
   "source": [
    "newYork2000=getHistoricalForCoord(\"41n\",\"74W\",\"day\",\"2000\")\n",
    "\n",
    "newYork2000Avg=[0]*365\n",
    "for i in range(10):\n",
    "    for j in range(365):\n",
    "        newYork2000Avg[j]+=newYork2000[i*365+j]\n",
    "\n",
    "newYork2000Avg=[i/10 for i in newYork2000Avg]"
   ]
  },
  {
   "cell_type": "code",
   "execution_count": 28,
   "metadata": {},
   "outputs": [
    {
     "name": "stderr",
     "output_type": "stream",
     "text": [
      "C:\\Users\\39402\\Anaconda3\\lib\\site-packages\\ipykernel_launcher.py:42: UserWarning: WARNING: valid_min not used since it\n",
      "cannot be safely cast to variable data type\n",
      "C:\\Users\\39402\\Anaconda3\\lib\\site-packages\\ipykernel_launcher.py:42: UserWarning: WARNING: valid_max not used since it\n",
      "cannot be safely cast to variable data type\n"
     ]
    }
   ],
   "source": [
    "newYork1900=getHistoricalForCoord(\"41n\",\"74W\",\"day\",\"1900\")\n",
    "\n",
    "newYork1900Avg=[0]*365\n",
    "for i in range(10):\n",
    "    for j in range(365):\n",
    "        newYork1900Avg[j]+=newYork1900[i*365+j]\n",
    "\n",
    "newYork1900Avg=[i/10 for i in newYork1900Avg]"
   ]
  },
  {
   "cell_type": "code",
   "execution_count": 31,
   "metadata": {},
   "outputs": [
    {
     "data": {
      "text/plain": [
       "<matplotlib.legend.Legend at 0x17ad78885c0>"
      ]
     },
     "execution_count": 31,
     "metadata": {},
     "output_type": "execute_result"
    },
    {
     "data": {
      "image/png": "[encoded data removed]",
      "text/plain": [
       "<Figure size 720x720 with 1 Axes>"
      ]
     },
     "metadata": {
      "needs_background": "light"
     },
     "output_type": "display_data"
    }
   ],
   "source": [
    "import matplotlib.pyplot as plt  \n",
    "\n",
    "plt.figure(figsize=(10,10))\n",
    "\n",
    "plt.plot(newYork1900Avg,label=\"1900s\")\n",
    "plt.plot(newYork2000Avg,label=\"2000s\")\n",
    "\n",
    "plt.xlabel(\"Day of the Year\", fontsize=20) \n",
    "plt.ylabel(\"Anomaly (Celsius)\", fontsize=20)\n",
    "plt.title(\"Temperature Anomaly in 1900s Vs. in 2000s\", fontsize=20)\n",
    "plt.legend(fontsize=15)"
   ]
  },
  {
   "cell_type": "code",
   "execution_count": 30,
   "metadata": {},
   "outputs": [],
   "source": [
    "plt.show()"
   ]
  },
  {
   "cell_type": "code",
   "execution_count": null,
   "metadata": {},
   "outputs": [],
   "source": []
  },
  {
   "cell_type": "code",
   "execution_count": 87,
   "metadata": {},
   "outputs": [
    {
     "data": {
      "text/plain": [
       "-1.0053850289373956"
      ]
     },
     "execution_count": 87,
     "metadata": {},
     "output_type": "execute_result"
    }
   ],
   "source": [
    "np.mean(newYork1900Avg)"
   ]
  },
  {
   "cell_type": "code",
   "execution_count": 88,
   "metadata": {},
   "outputs": [
    {
     "data": {
      "text/plain": [
       "0.25623839832571244"
      ]
     },
     "execution_count": 88,
     "metadata": {},
     "output_type": "execute_result"
    }
   ],
   "source": [
    "np.mean(newYork2000Avg)"
   ]
  },
  {
   "cell_type": "code",
   "execution_count": null,
   "metadata": {},
   "outputs": [],
   "source": []
  },
  {
   "cell_type": "markdown",
   "metadata": {},
   "source": [
    "## Example 2 (plot of historical record for a given coordinate)"
   ]
  },
  {
   "cell_type": "code",
   "execution_count": 119,
   "metadata": {},
   "outputs": [
    {
     "name": "stderr",
     "output_type": "stream",
     "text": [
      "C:\\Users\\39402\\Anaconda3\\lib\\site-packages\\ipykernel_launcher.py:45: UserWarning: WARNING: valid_min not used since it\n",
      "cannot be safely cast to variable data type\n",
      "C:\\Users\\39402\\Anaconda3\\lib\\site-packages\\ipykernel_launcher.py:45: UserWarning: WARNING: valid_max not used since it\n",
      "cannot be safely cast to variable data type\n"
     ]
    }
   ],
   "source": [
    "newYorkHistory=getHistoricalForCoord(\"41n\",\"74W\",\"year\")"
   ]
  },
  {
   "cell_type": "code",
   "execution_count": 135,
   "metadata": {},
   "outputs": [],
   "source": [
    "rollingAvg=[]\n",
    "nYearAvg=[]\n",
    "\n",
    "for i in range(len(newYorkHistory)-1):\n",
    "    rollingAvg.append(np.mean(newYorkHistory[:i+1]))\n",
    "    \n",
    "for i in range(len(newYorkHistory)-1):\n",
    "    nYearAvg.append(np.mean(newYorkHistory[i:i+10]))"
   ]
  },
  {
   "cell_type": "code",
   "execution_count": 140,
   "metadata": {},
   "outputs": [
    {
     "data": {
      "text/plain": [
       "<matplotlib.legend.Legend at 0x17af2454390>"
      ]
     },
     "execution_count": 140,
     "metadata": {},
     "output_type": "execute_result"
    },
    {
     "data": {
      "image/png": "[encoded data removed]",
      "text/plain": [
       "<Figure size 720x720 with 1 Axes>"
      ]
     },
     "metadata": {
      "needs_background": "light"
     },
     "output_type": "display_data"
    }
   ],
   "source": [
    "plt.figure(figsize=(10,10))\n",
    "plt.plot([i+1880 for i in range(len(newYorkHistory))],newYorkHistory,label=\"Anomaly\")\n",
    "plt.plot([i+1880 for i in range(len(rollingAvg))],rollingAvg,label=\"Rolling Avg\")\n",
    "plt.plot([i+1880 for i in range(len(rollingAvg))],nYearAvg,label=\"10 Year Avg\",color=\"purple\")\n",
    "\n",
    "plt.xlabel(\"Year\", fontsize=20) \n",
    "plt.ylabel(\"Anomaly (Celsius)\", fontsize=20)\n",
    "plt.title(\"Historical Temperature Anomaly of New York since 1880s\", fontsize=20)\n",
    "plt.legend(fontsize=15)"
   ]
  },
  {
   "cell_type": "code",
   "execution_count": 32,
   "metadata": {},
   "outputs": [
    {
     "data": {
      "text/plain": [
       "(131, 106)"
      ]
     },
     "execution_count": 32,
     "metadata": {},
     "output_type": "execute_result"
    }
   ],
   "source": []
  },
  {
   "cell_type": "code",
   "execution_count": null,
   "metadata": {},
   "outputs": [],
   "source": [
    "# newYorkHistoryByDay=getHistoricalForCoord(\"41n\",\"74W\",\"year\")"
   ]
  },
  {
   "cell_type": "code",
   "execution_count": 33,
   "metadata": {},
   "outputs": [],
   "source": [
    "loadDatasets()\n",
    "\n",
    "climatology2000=DATASET[\"2000\"].variables['climatology'][:]"
   ]
  },
  {
   "cell_type": "code",
   "execution_count": 39,
   "metadata": {},
   "outputs": [],
   "source": []
  },
  {
   "cell_type": "code",
   "execution_count": 77,
   "metadata": {},
   "outputs": [
    {
     "data": {
      "text/plain": [
       "Text(0.5, 1.0, 'Climatology of New York')"
      ]
     },
     "execution_count": 77,
     "metadata": {},
     "output_type": "execute_result"
    },
    {
     "data": {
      "image/png": "[encoded data removed]",
      "text/plain": [
       "<Figure size 720x720 with 1 Axes>"
      ]
     },
     "metadata": {
      "needs_background": "light"
     },
     "output_type": "display_data"
    }
   ],
   "source": [
    "# latIdx,lngIdx=getCoord(\"20n\",\"10e\")\n",
    "latIdx,lngIdx=getCoord(\"41n\",\"74W\")\n",
    "newYorkClim=DATASET[\"2000\"].variables['climatology'][:,latIdx,lngIdx].filled(fill_value=0)\n",
    "\n",
    "# newYorkClim=list(newYorkClim)\n",
    "# newYorkClim.extend(newYorkClim)\n",
    "\n",
    "plt.figure(figsize=(10,10))\n",
    "plt.plot([i for i in range(len(newYorkClim))],newYorkClim)\n",
    "\n",
    "plt.xlabel(\"Day of the Year\", fontsize=20) \n",
    "plt.ylabel(\"Estimated Surface Temperatue (Celsius)\", fontsize=20)\n",
    "plt.title(\"Climatology of New York\", fontsize=20)"
   ]
  },
  {
   "cell_type": "code",
   "execution_count": 79,
   "metadata": {},
   "outputs": [
    {
     "name": "stderr",
     "output_type": "stream",
     "text": [
      "C:\\Users\\39402\\Anaconda3\\lib\\site-packages\\ipykernel_launcher.py:42: UserWarning: WARNING: valid_min not used since it\n",
      "cannot be safely cast to variable data type\n",
      "C:\\Users\\39402\\Anaconda3\\lib\\site-packages\\ipykernel_launcher.py:42: UserWarning: WARNING: valid_max not used since it\n",
      "cannot be safely cast to variable data type\n"
     ]
    }
   ],
   "source": []
  },
  {
   "cell_type": "code",
   "execution_count": 84,
   "metadata": {},
   "outputs": [],
   "source": []
  },
  {
   "cell_type": "code",
   "execution_count": 106,
   "metadata": {},
   "outputs": [
    {
     "name": "stderr",
     "output_type": "stream",
     "text": [
      "C:\\Users\\39402\\Anaconda3\\lib\\site-packages\\ipykernel_launcher.py:42: UserWarning: WARNING: valid_min not used since it\n",
      "cannot be safely cast to variable data type\n",
      "C:\\Users\\39402\\Anaconda3\\lib\\site-packages\\ipykernel_launcher.py:42: UserWarning: WARNING: valid_max not used since it\n",
      "cannot be safely cast to variable data type\n"
     ]
    },
    {
     "data": {
      "text/plain": [
       "array([ 3.20720822e-05, -1.15849485e+00])"
      ]
     },
     "execution_count": 106,
     "metadata": {},
     "output_type": "execute_result"
    }
   ],
   "source": [
    "# \"51n\",\"0W\" London\n",
    "# \"41n\",\"74W\" NY\n",
    "newYorkHist=getHistoricalForCoord(\"41n\",\"74W\",\"day\")\n",
    "dataLength=len(newYorkHist)\n",
    "\n",
    "idx=0\n",
    "numDays=365.25\n",
    "varList=[]\n",
    "while (idx+1)*numDays<dataLength:\n",
    "    # min used here to avoid index problems\n",
    "    varList.append(np.var(newYorkHist[int(idx*numDays):int((idx+1)*numDays)]))\n",
    "    idx+=1\n",
    "    \n",
    "np.polyfit(range(len(newYorkHist)), newYorkHist, 1)"
   ]
  },
  {
   "cell_type": "code",
   "execution_count": 150,
   "metadata": {},
   "outputs": [],
   "source": [
    "from statsmodels.graphics.tsaplots import plot_acf, plot_pacf, acf"
   ]
  },
  {
   "cell_type": "code",
   "execution_count": null,
   "metadata": {},
   "outputs": [],
   "source": []
  },
  {
   "cell_type": "code",
   "execution_count": 143,
   "metadata": {},
   "outputs": [
    {
     "name": "stderr",
     "output_type": "stream",
     "text": [
      "C:\\Users\\39402\\Anaconda3\\lib\\site-packages\\ipykernel_launcher.py:45: UserWarning: WARNING: valid_min not used since it\n",
      "cannot be safely cast to variable data type\n",
      "C:\\Users\\39402\\Anaconda3\\lib\\site-packages\\ipykernel_launcher.py:45: UserWarning: WARNING: valid_max not used since it\n",
      "cannot be safely cast to variable data type\n",
      "C:\\Users\\39402\\Anaconda3\\lib\\site-packages\\ipykernel_launcher.py:45: UserWarning: WARNING: valid_min not used since it\n",
      "cannot be safely cast to variable data type\n",
      "C:\\Users\\39402\\Anaconda3\\lib\\site-packages\\ipykernel_launcher.py:45: UserWarning: WARNING: valid_max not used since it\n",
      "cannot be safely cast to variable data type\n",
      "C:\\Users\\39402\\Anaconda3\\lib\\site-packages\\ipykernel_launcher.py:45: UserWarning: WARNING: valid_min not used since it\n",
      "cannot be safely cast to variable data type\n",
      "C:\\Users\\39402\\Anaconda3\\lib\\site-packages\\ipykernel_launcher.py:45: UserWarning: WARNING: valid_max not used since it\n",
      "cannot be safely cast to variable data type\n",
      "C:\\Users\\39402\\Anaconda3\\lib\\site-packages\\ipykernel_launcher.py:45: UserWarning: WARNING: valid_min not used since it\n",
      "cannot be safely cast to variable data type\n",
      "C:\\Users\\39402\\Anaconda3\\lib\\site-packages\\ipykernel_launcher.py:45: UserWarning: WARNING: valid_max not used since it\n",
      "cannot be safely cast to variable data type\n",
      "C:\\Users\\39402\\Anaconda3\\lib\\site-packages\\ipykernel_launcher.py:45: UserWarning: WARNING: valid_min not used since it\n",
      "cannot be safely cast to variable data type\n",
      "C:\\Users\\39402\\Anaconda3\\lib\\site-packages\\ipykernel_launcher.py:45: UserWarning: WARNING: valid_max not used since it\n",
      "cannot be safely cast to variable data type\n",
      "C:\\Users\\39402\\Anaconda3\\lib\\site-packages\\ipykernel_launcher.py:45: UserWarning: WARNING: valid_min not used since it\n",
      "cannot be safely cast to variable data type\n",
      "C:\\Users\\39402\\Anaconda3\\lib\\site-packages\\ipykernel_launcher.py:45: UserWarning: WARNING: valid_max not used since it\n",
      "cannot be safely cast to variable data type\n",
      "C:\\Users\\39402\\Anaconda3\\lib\\site-packages\\ipykernel_launcher.py:45: UserWarning: WARNING: valid_min not used since it\n",
      "cannot be safely cast to variable data type\n",
      "C:\\Users\\39402\\Anaconda3\\lib\\site-packages\\ipykernel_launcher.py:45: UserWarning: WARNING: valid_max not used since it\n",
      "cannot be safely cast to variable data type\n",
      "C:\\Users\\39402\\Anaconda3\\lib\\site-packages\\ipykernel_launcher.py:45: UserWarning: WARNING: valid_min not used since it\n",
      "cannot be safely cast to variable data type\n",
      "C:\\Users\\39402\\Anaconda3\\lib\\site-packages\\ipykernel_launcher.py:45: UserWarning: WARNING: valid_max not used since it\n",
      "cannot be safely cast to variable data type\n",
      "C:\\Users\\39402\\Anaconda3\\lib\\site-packages\\ipykernel_launcher.py:45: UserWarning: WARNING: valid_min not used since it\n",
      "cannot be safely cast to variable data type\n",
      "C:\\Users\\39402\\Anaconda3\\lib\\site-packages\\ipykernel_launcher.py:45: UserWarning: WARNING: valid_max not used since it\n",
      "cannot be safely cast to variable data type\n",
      "C:\\Users\\39402\\Anaconda3\\lib\\site-packages\\ipykernel_launcher.py:45: UserWarning: WARNING: valid_min not used since it\n",
      "cannot be safely cast to variable data type\n",
      "C:\\Users\\39402\\Anaconda3\\lib\\site-packages\\ipykernel_launcher.py:45: UserWarning: WARNING: valid_max not used since it\n",
      "cannot be safely cast to variable data type\n",
      "C:\\Users\\39402\\Anaconda3\\lib\\site-packages\\ipykernel_launcher.py:45: UserWarning: WARNING: valid_min not used since it\n",
      "cannot be safely cast to variable data type\n",
      "C:\\Users\\39402\\Anaconda3\\lib\\site-packages\\ipykernel_launcher.py:45: UserWarning: WARNING: valid_max not used since it\n",
      "cannot be safely cast to variable data type\n",
      "C:\\Users\\39402\\Anaconda3\\lib\\site-packages\\ipykernel_launcher.py:45: UserWarning: WARNING: valid_min not used since it\n",
      "cannot be safely cast to variable data type\n",
      "C:\\Users\\39402\\Anaconda3\\lib\\site-packages\\ipykernel_launcher.py:45: UserWarning: WARNING: valid_max not used since it\n",
      "cannot be safely cast to variable data type\n",
      "C:\\Users\\39402\\Anaconda3\\lib\\site-packages\\ipykernel_launcher.py:45: UserWarning: WARNING: valid_min not used since it\n",
      "cannot be safely cast to variable data type\n",
      "C:\\Users\\39402\\Anaconda3\\lib\\site-packages\\ipykernel_launcher.py:45: UserWarning: WARNING: valid_max not used since it\n",
      "cannot be safely cast to variable data type\n",
      "C:\\Users\\39402\\Anaconda3\\lib\\site-packages\\ipykernel_launcher.py:45: UserWarning: WARNING: valid_min not used since it\n",
      "cannot be safely cast to variable data type\n",
      "C:\\Users\\39402\\Anaconda3\\lib\\site-packages\\ipykernel_launcher.py:45: UserWarning: WARNING: valid_max not used since it\n",
      "cannot be safely cast to variable data type\n"
     ]
    },
    {
     "data": {
      "image/png": "[encoded data removed]",
      "text/plain": [
       "<Figure size 432x288 with 1 Axes>"
      ]
     },
     "execution_count": 143,
     "metadata": {},
     "output_type": "execute_result"
    },
    {
     "data": {
      "image/png": "[encoded data removed]",
      "text/plain": [
       "<Figure size 432x288 with 1 Axes>"
      ]
     },
     "metadata": {
      "needs_background": "light"
     },
     "output_type": "display_data"
    }
   ],
   "source": [
    "x=getHistoricalForCoord(\"41n\",\"74W\",\"year\")\n",
    "plot_acf(x)"
   ]
  },
  {
   "cell_type": "code",
   "execution_count": 163,
   "metadata": {},
   "outputs": [
    {
     "name": "stderr",
     "output_type": "stream",
     "text": [
      "C:\\Users\\39402\\Anaconda3\\lib\\site-packages\\ipykernel_launcher.py:42: UserWarning: WARNING: valid_min not used since it\n",
      "cannot be safely cast to variable data type\n",
      "C:\\Users\\39402\\Anaconda3\\lib\\site-packages\\ipykernel_launcher.py:42: UserWarning: WARNING: valid_max not used since it\n",
      "cannot be safely cast to variable data type\n"
     ]
    },
    {
     "data": {
      "text/plain": [
       "array([ 1.00000000e+00,  7.61142441e-01,  4.47585169e-01,  2.90432526e-01,\n",
       "        2.13129225e-01,  1.75885734e-01,  1.50132024e-01,  1.23179270e-01,\n",
       "        1.06405908e-01,  1.01899293e-01,  9.10325474e-02,  7.30934843e-02,\n",
       "        5.67037959e-02,  3.64656113e-02,  2.18923741e-02,  2.35398089e-02,\n",
       "        3.52988949e-02,  3.82000659e-02,  3.47225427e-02,  2.70869555e-02,\n",
       "        2.88882302e-02,  3.09385327e-02,  2.19336249e-02,  2.41461251e-02,\n",
       "        3.87898656e-02,  3.59008756e-02,  1.94908120e-02,  3.80859821e-03,\n",
       "       -5.72515467e-03, -1.26742867e-02, -1.88315537e-02, -2.49008428e-02,\n",
       "       -2.40114390e-02, -5.57829055e-03,  2.05491539e-02,  2.25109448e-02,\n",
       "        4.18627282e-03, -4.86909744e-04,  6.76167520e-03,  2.50016398e-02,\n",
       "        3.91471279e-02])"
      ]
     },
     "execution_count": 163,
     "metadata": {},
     "output_type": "execute_result"
    }
   ],
   "source": [
    "x2=getHistoricalForCoord(\"41n\",\"74W\",\"day\",\"2000-2000\")\n",
    "acf(x2)"
   ]
  },
  {
   "cell_type": "code",
   "execution_count": 170,
   "metadata": {},
   "outputs": [
    {
     "data": {
      "image/png": "[encoded data removed]",
      "text/plain": [
       "<Figure size 432x288 with 1 Axes>"
      ]
     },
     "execution_count": 170,
     "metadata": {},
     "output_type": "execute_result"
    },
    {
     "data": {
      "image/png": "[encoded data removed]",
      "text/plain": [
       "<Figure size 432x288 with 1 Axes>"
      ]
     },
     "metadata": {
      "needs_background": "light"
     },
     "output_type": "display_data"
    }
   ],
   "source": [
    "plot_acf(x2)"
   ]
  },
  {
   "cell_type": "code",
   "execution_count": 171,
   "metadata": {},
   "outputs": [
    {
     "name": "stderr",
     "output_type": "stream",
     "text": [
      "C:\\Users\\39402\\Anaconda3\\lib\\site-packages\\statsmodels\\regression\\linear_model.py:1283: RuntimeWarning: invalid value encountered in sqrt\n",
      "  return rho, np.sqrt(sigmasq)\n"
     ]
    },
    {
     "data": {
      "image/png": "[encoded data removed]",
      "text/plain": [
       "<Figure size 432x288 with 1 Axes>"
      ]
     },
     "execution_count": 171,
     "metadata": {},
     "output_type": "execute_result"
    },
    {
     "data": {
      "image/png": "[encoded data removed]",
      "text/plain": [
       "<Figure size 432x288 with 1 Axes>"
      ]
     },
     "metadata": {
      "needs_background": "light"
     },
     "output_type": "display_data"
    }
   ],
   "source": [
    "plot_pacf(x2)"
   ]
  },
  {
   "cell_type": "code",
   "execution_count": 211,
   "metadata": {},
   "outputs": [
    {
     "name": "stderr",
     "output_type": "stream",
     "text": [
      "C:\\Users\\39402\\Anaconda3\\lib\\site-packages\\ipykernel_launcher.py:45: UserWarning: WARNING: valid_min not used since it\n",
      "cannot be safely cast to variable data type\n",
      "C:\\Users\\39402\\Anaconda3\\lib\\site-packages\\ipykernel_launcher.py:45: UserWarning: WARNING: valid_max not used since it\n",
      "cannot be safely cast to variable data type\n"
     ]
    }
   ],
   "source": [
    "x3=getHistoricalForCoord(\"41n\",\"74W\",\"week\",\"2000-2000\")"
   ]
  },
  {
   "cell_type": "code",
   "execution_count": 210,
   "metadata": {},
   "outputs": [
    {
     "name": "stderr",
     "output_type": "stream",
     "text": [
      "C:\\Users\\39402\\Anaconda3\\lib\\site-packages\\ipykernel_launcher.py:45: UserWarning: WARNING: valid_min not used since it\n",
      "cannot be safely cast to variable data type\n",
      "C:\\Users\\39402\\Anaconda3\\lib\\site-packages\\ipykernel_launcher.py:45: UserWarning: WARNING: valid_max not used since it\n",
      "cannot be safely cast to variable data type\n"
     ]
    }
   ],
   "source": [
    "x4=getHistoricalForCoord(\"41n\",\"74W\",\"week\",\"1900-1900\")"
   ]
  },
  {
   "cell_type": "code",
   "execution_count": 94,
   "metadata": {},
   "outputs": [
    {
     "name": "stdout",
     "output_type": "stream",
     "text": [
      "{'1880-1': 31, '1880-2': 29, '1880-3': 31, '1880-4': 30, '1880-5': 31, '1880-6': 30, '1880-7': 31, '1880-8': 31, '1880-9': 30, '1880-10': 31, '1880-11': 30, '1880-12': 31, '1881-1': 31, '1881-2': 28, '1881-3': 31, '1881-4': 30, '1881-5': 31, '1881-6': 30, '1881-7': 31, '1881-8': 31, '1881-9': 30, '1881-10': 31, '1881-11': 30, '1881-12': 31, '1882-1': 31, '1882-2': 28, '1882-3': 31, '1882-4': 30, '1882-5': 31, '1882-6': 30, '1882-7': 31, '1882-8': 31, '1882-9': 30, '1882-10': 31, '1882-11': 30, '1882-12': 31, '1883-1': 31, '1883-2': 28, '1883-3': 31, '1883-4': 30, '1883-5': 31, '1883-6': 30, '1883-7': 31, '1883-8': 31, '1883-9': 30, '1883-10': 31, '1883-11': 30, '1883-12': 31, '1884-1': 31, '1884-2': 29, '1884-3': 31, '1884-4': 30, '1884-5': 31, '1884-6': 30, '1884-7': 31, '1884-8': 31, '1884-9': 30, '1884-10': 31, '1884-11': 30, '1884-12': 31, '1885-1': 31, '1885-2': 28, '1885-3': 31, '1885-4': 30, '1885-5': 31, '1885-6': 30, '1885-7': 31, '1885-8': 31, '1885-9': 30, '1885-10': 31, '1885-11': 30, '1885-12': 31, '1886-1': 31, '1886-2': 28, '1886-3': 31, '1886-4': 30, '1886-5': 31, '1886-6': 30, '1886-7': 31, '1886-8': 31, '1886-9': 30, '1886-10': 31, '1886-11': 30, '1886-12': 31, '1887-1': 31, '1887-2': 28, '1887-3': 31, '1887-4': 30, '1887-5': 31, '1887-6': 30, '1887-7': 31, '1887-8': 31, '1887-9': 30, '1887-10': 31, '1887-11': 30, '1887-12': 31, '1888-1': 31, '1888-2': 29, '1888-3': 31, '1888-4': 30, '1888-5': 31, '1888-6': 30, '1888-7': 31, '1888-8': 31, '1888-9': 30, '1888-10': 31, '1888-11': 30, '1888-12': 31, '1889-1': 31, '1889-2': 28, '1889-3': 31, '1889-4': 30, '1889-5': 31, '1889-6': 30, '1889-7': 31, '1889-8': 31, '1889-9': 30, '1889-10': 31, '1889-11': 30, '1889-12': 31}\n"
     ]
    },
    {
     "name": "stderr",
     "output_type": "stream",
     "text": [
      "C:\\Users\\39402\\Anaconda3\\lib\\site-packages\\ipykernel_launcher.py:59: UserWarning: WARNING: valid_min not used since it\n",
      "cannot be safely cast to variable data type\n",
      "C:\\Users\\39402\\Anaconda3\\lib\\site-packages\\ipykernel_launcher.py:59: UserWarning: WARNING: valid_max not used since it\n",
      "cannot be safely cast to variable data type\n"
     ]
    },
    {
     "name": "stdout",
     "output_type": "stream",
     "text": [
      "{'1890-1': 31, '1890-2': 28, '1890-3': 31, '1890-4': 30, '1890-5': 31, '1890-6': 30, '1890-7': 31, '1890-8': 31, '1890-9': 30, '1890-10': 31, '1890-11': 30, '1890-12': 31, '1891-1': 31, '1891-2': 28, '1891-3': 31, '1891-4': 30, '1891-5': 31, '1891-6': 30, '1891-7': 31, '1891-8': 31, '1891-9': 30, '1891-10': 31, '1891-11': 30, '1891-12': 31, '1892-1': 31, '1892-2': 29, '1892-3': 31, '1892-4': 30, '1892-5': 31, '1892-6': 30, '1892-7': 31, '1892-8': 31, '1892-9': 30, '1892-10': 31, '1892-11': 30, '1892-12': 31, '1893-1': 31, '1893-2': 28, '1893-3': 31, '1893-4': 30, '1893-5': 31, '1893-6': 30, '1893-7': 31, '1893-8': 31, '1893-9': 30, '1893-10': 31, '1893-11': 30, '1893-12': 31, '1894-1': 31, '1894-2': 28, '1894-3': 31, '1894-4': 30, '1894-5': 31, '1894-6': 30, '1894-7': 31, '1894-8': 31, '1894-9': 30, '1894-10': 31, '1894-11': 30, '1894-12': 31, '1895-1': 31, '1895-2': 28, '1895-3': 31, '1895-4': 30, '1895-5': 31, '1895-6': 30, '1895-7': 31, '1895-8': 31, '1895-9': 30, '1895-10': 31, '1895-11': 30, '1895-12': 31, '1896-1': 31, '1896-2': 29, '1896-3': 31, '1896-4': 30, '1896-5': 31, '1896-6': 30, '1896-7': 31, '1896-8': 31, '1896-9': 30, '1896-10': 31, '1896-11': 30, '1896-12': 31, '1897-1': 31, '1897-2': 28, '1897-3': 31, '1897-4': 30, '1897-5': 31, '1897-6': 30, '1897-7': 31, '1897-8': 31, '1897-9': 30, '1897-10': 31, '1897-11': 30, '1897-12': 31, '1898-1': 31, '1898-2': 28, '1898-3': 31, '1898-4': 30, '1898-5': 31, '1898-6': 30, '1898-7': 31, '1898-8': 31, '1898-9': 30, '1898-10': 31, '1898-11': 30, '1898-12': 31, '1899-1': 31, '1899-2': 28, '1899-3': 31, '1899-4': 30, '1899-5': 31, '1899-6': 30, '1899-7': 31, '1899-8': 31, '1899-9': 30, '1899-10': 31, '1899-11': 30, '1899-12': 31}\n"
     ]
    },
    {
     "name": "stderr",
     "output_type": "stream",
     "text": [
      "C:\\Users\\39402\\Anaconda3\\lib\\site-packages\\ipykernel_launcher.py:59: UserWarning: WARNING: valid_min not used since it\n",
      "cannot be safely cast to variable data type\n",
      "C:\\Users\\39402\\Anaconda3\\lib\\site-packages\\ipykernel_launcher.py:59: UserWarning: WARNING: valid_max not used since it\n",
      "cannot be safely cast to variable data type\n"
     ]
    },
    {
     "name": "stdout",
     "output_type": "stream",
     "text": [
      "{'1900-1': 31, '1900-2': 28, '1900-3': 31, '1900-4': 30, '1900-5': 31, '1900-6': 30, '1900-7': 31, '1900-8': 31, '1900-9': 30, '1900-10': 31, '1900-11': 30, '1900-12': 31, '1901-1': 31, '1901-2': 28, '1901-3': 31, '1901-4': 30, '1901-5': 31, '1901-6': 30, '1901-7': 31, '1901-8': 31, '1901-9': 30, '1901-10': 31, '1901-11': 30, '1901-12': 31, '1902-1': 31, '1902-2': 28, '1902-3': 31, '1902-4': 30, '1902-5': 31, '1902-6': 30, '1902-7': 31, '1902-8': 31, '1902-9': 30, '1902-10': 31, '1902-11': 30, '1902-12': 31, '1903-1': 31, '1903-2': 28, '1903-3': 31, '1903-4': 30, '1903-5': 31, '1903-6': 30, '1903-7': 31, '1903-8': 31, '1903-9': 30, '1903-10': 31, '1903-11': 30, '1903-12': 31, '1904-1': 31, '1904-2': 29, '1904-3': 31, '1904-4': 30, '1904-5': 31, '1904-6': 30, '1904-7': 31, '1904-8': 31, '1904-9': 30, '1904-10': 31, '1904-11': 30, '1904-12': 31, '1905-1': 31, '1905-2': 28, '1905-3': 31, '1905-4': 30, '1905-5': 31, '1905-6': 30, '1905-7': 31, '1905-8': 31, '1905-9': 30, '1905-10': 31, '1905-11': 30, '1905-12': 31, '1906-1': 31, '1906-2': 28, '1906-3': 31, '1906-4': 30, '1906-5': 31, '1906-6': 30, '1906-7': 31, '1906-8': 31, '1906-9': 30, '1906-10': 31, '1906-11': 30, '1906-12': 31, '1907-1': 31, '1907-2': 28, '1907-3': 31, '1907-4': 30, '1907-5': 31, '1907-6': 30, '1907-7': 31, '1907-8': 31, '1907-9': 30, '1907-10': 31, '1907-11': 30, '1907-12': 31, '1908-1': 31, '1908-2': 29, '1908-3': 31, '1908-4': 30, '1908-5': 31, '1908-6': 30, '1908-7': 31, '1908-8': 31, '1908-9': 30, '1908-10': 31, '1908-11': 30, '1908-12': 31, '1909-1': 31, '1909-2': 28, '1909-3': 31, '1909-4': 30, '1909-5': 31, '1909-6': 30, '1909-7': 31, '1909-8': 31, '1909-9': 30, '1909-10': 31, '1909-11': 30, '1909-12': 31}\n"
     ]
    },
    {
     "name": "stderr",
     "output_type": "stream",
     "text": [
      "C:\\Users\\39402\\Anaconda3\\lib\\site-packages\\ipykernel_launcher.py:59: UserWarning: WARNING: valid_min not used since it\n",
      "cannot be safely cast to variable data type\n",
      "C:\\Users\\39402\\Anaconda3\\lib\\site-packages\\ipykernel_launcher.py:59: UserWarning: WARNING: valid_max not used since it\n",
      "cannot be safely cast to variable data type\n"
     ]
    },
    {
     "name": "stdout",
     "output_type": "stream",
     "text": [
      "{'1910-1': 31, '1910-2': 28, '1910-3': 31, '1910-4': 30, '1910-5': 31, '1910-6': 30, '1910-7': 31, '1910-8': 31, '1910-9': 30, '1910-10': 31, '1910-11': 30, '1910-12': 31, '1911-1': 31, '1911-2': 28, '1911-3': 31, '1911-4': 30, '1911-5': 31, '1911-6': 30, '1911-7': 31, '1911-8': 31, '1911-9': 30, '1911-10': 31, '1911-11': 30, '1911-12': 31, '1912-1': 31, '1912-2': 29, '1912-3': 31, '1912-4': 30, '1912-5': 31, '1912-6': 30, '1912-7': 31, '1912-8': 31, '1912-9': 30, '1912-10': 31, '1912-11': 30, '1912-12': 31, '1913-1': 31, '1913-2': 28, '1913-3': 31, '1913-4': 30, '1913-5': 31, '1913-6': 30, '1913-7': 31, '1913-8': 31, '1913-9': 30, '1913-10': 31, '1913-11': 30, '1913-12': 31, '1914-1': 31, '1914-2': 28, '1914-3': 31, '1914-4': 30, '1914-5': 31, '1914-6': 30, '1914-7': 31, '1914-8': 31, '1914-9': 30, '1914-10': 31, '1914-11': 30, '1914-12': 31, '1915-1': 31, '1915-2': 28, '1915-3': 31, '1915-4': 30, '1915-5': 31, '1915-6': 30, '1915-7': 31, '1915-8': 31, '1915-9': 30, '1915-10': 31, '1915-11': 30, '1915-12': 31, '1916-1': 31, '1916-2': 29, '1916-3': 31, '1916-4': 30, '1916-5': 31, '1916-6': 30, '1916-7': 31, '1916-8': 31, '1916-9': 30, '1916-10': 31, '1916-11': 30, '1916-12': 31, '1917-1': 31, '1917-2': 28, '1917-3': 31, '1917-4': 30, '1917-5': 31, '1917-6': 30, '1917-7': 31, '1917-8': 31, '1917-9': 30, '1917-10': 31, '1917-11': 30, '1917-12': 31, '1918-1': 31, '1918-2': 28, '1918-3': 31, '1918-4': 30, '1918-5': 31, '1918-6': 30, '1918-7': 31, '1918-8': 31, '1918-9': 30, '1918-10': 31, '1918-11': 30, '1918-12': 31, '1919-1': 31, '1919-2': 28, '1919-3': 31, '1919-4': 30, '1919-5': 31, '1919-6': 30, '1919-7': 31, '1919-8': 31, '1919-9': 30, '1919-10': 31, '1919-11': 30, '1919-12': 31}\n"
     ]
    },
    {
     "name": "stderr",
     "output_type": "stream",
     "text": [
      "C:\\Users\\39402\\Anaconda3\\lib\\site-packages\\ipykernel_launcher.py:59: UserWarning: WARNING: valid_min not used since it\n",
      "cannot be safely cast to variable data type\n",
      "C:\\Users\\39402\\Anaconda3\\lib\\site-packages\\ipykernel_launcher.py:59: UserWarning: WARNING: valid_max not used since it\n",
      "cannot be safely cast to variable data type\n"
     ]
    },
    {
     "name": "stdout",
     "output_type": "stream",
     "text": [
      "{'1920-1': 31, '1920-2': 29, '1920-3': 31, '1920-4': 30, '1920-5': 31, '1920-6': 30, '1920-7': 31, '1920-8': 31, '1920-9': 30, '1920-10': 31, '1920-11': 30, '1920-12': 31, '1921-1': 31, '1921-2': 28, '1921-3': 31, '1921-4': 30, '1921-5': 31, '1921-6': 30, '1921-7': 31, '1921-8': 31, '1921-9': 30, '1921-10': 31, '1921-11': 30, '1921-12': 31, '1922-1': 31, '1922-2': 28, '1922-3': 31, '1922-4': 30, '1922-5': 31, '1922-6': 30, '1922-7': 31, '1922-8': 31, '1922-9': 30, '1922-10': 31, '1922-11': 30, '1922-12': 31, '1923-1': 31, '1923-2': 28, '1923-3': 31, '1923-4': 30, '1923-5': 31, '1923-6': 30, '1923-7': 31, '1923-8': 31, '1923-9': 30, '1923-10': 31, '1923-11': 30, '1923-12': 31, '1924-1': 31, '1924-2': 29, '1924-3': 31, '1924-4': 30, '1924-5': 31, '1924-6': 30, '1924-7': 31, '1924-8': 31, '1924-9': 30, '1924-10': 31, '1924-11': 30, '1924-12': 31, '1925-1': 31, '1925-2': 28, '1925-3': 31, '1925-4': 30, '1925-5': 31, '1925-6': 30, '1925-7': 31, '1925-8': 31, '1925-9': 30, '1925-10': 31, '1925-11': 30, '1925-12': 31, '1926-1': 31, '1926-2': 28, '1926-3': 31, '1926-4': 30, '1926-5': 31, '1926-6': 30, '1926-7': 31, '1926-8': 31, '1926-9': 30, '1926-10': 31, '1926-11': 30, '1926-12': 31, '1927-1': 31, '1927-2': 28, '1927-3': 31, '1927-4': 30, '1927-5': 31, '1927-6': 30, '1927-7': 31, '1927-8': 31, '1927-9': 30, '1927-10': 31, '1927-11': 30, '1927-12': 31, '1928-1': 31, '1928-2': 29, '1928-3': 31, '1928-4': 30, '1928-5': 31, '1928-6': 30, '1928-7': 31, '1928-8': 31, '1928-9': 30, '1928-10': 31, '1928-11': 30, '1928-12': 31, '1929-1': 31, '1929-2': 28, '1929-3': 31, '1929-4': 30, '1929-5': 31, '1929-6': 30, '1929-7': 31, '1929-8': 31, '1929-9': 30, '1929-10': 31, '1929-11': 30, '1929-12': 31}\n"
     ]
    },
    {
     "name": "stderr",
     "output_type": "stream",
     "text": [
      "C:\\Users\\39402\\Anaconda3\\lib\\site-packages\\ipykernel_launcher.py:59: UserWarning: WARNING: valid_min not used since it\n",
      "cannot be safely cast to variable data type\n",
      "C:\\Users\\39402\\Anaconda3\\lib\\site-packages\\ipykernel_launcher.py:59: UserWarning: WARNING: valid_max not used since it\n",
      "cannot be safely cast to variable data type\n"
     ]
    },
    {
     "name": "stdout",
     "output_type": "stream",
     "text": [
      "{'1930-1': 31, '1930-2': 28, '1930-3': 31, '1930-4': 30, '1930-5': 31, '1930-6': 30, '1930-7': 31, '1930-8': 31, '1930-9': 30, '1930-10': 31, '1930-11': 30, '1930-12': 31, '1931-1': 31, '1931-2': 28, '1931-3': 31, '1931-4': 30, '1931-5': 31, '1931-6': 30, '1931-7': 31, '1931-8': 31, '1931-9': 30, '1931-10': 31, '1931-11': 30, '1931-12': 31, '1932-1': 31, '1932-2': 29, '1932-3': 31, '1932-4': 30, '1932-5': 31, '1932-6': 30, '1932-7': 31, '1932-8': 31, '1932-9': 30, '1932-10': 31, '1932-11': 30, '1932-12': 31, '1933-1': 31, '1933-2': 28, '1933-3': 31, '1933-4': 30, '1933-5': 31, '1933-6': 30, '1933-7': 31, '1933-8': 31, '1933-9': 30, '1933-10': 31, '1933-11': 30, '1933-12': 31, '1934-1': 31, '1934-2': 28, '1934-3': 31, '1934-4': 30, '1934-5': 31, '1934-6': 30, '1934-7': 31, '1934-8': 31, '1934-9': 30, '1934-10': 31, '1934-11': 30, '1934-12': 31, '1935-1': 31, '1935-2': 28, '1935-3': 31, '1935-4': 30, '1935-5': 31, '1935-6': 30, '1935-7': 31, '1935-8': 31, '1935-9': 30, '1935-10': 31, '1935-11': 30, '1935-12': 31, '1936-1': 31, '1936-2': 29, '1936-3': 31, '1936-4': 30, '1936-5': 31, '1936-6': 30, '1936-7': 31, '1936-8': 31, '1936-9': 30, '1936-10': 31, '1936-11': 30, '1936-12': 31, '1937-1': 31, '1937-2': 28, '1937-3': 31, '1937-4': 30, '1937-5': 31, '1937-6': 30, '1937-7': 31, '1937-8': 31, '1937-9': 30, '1937-10': 31, '1937-11': 30, '1937-12': 31, '1938-1': 31, '1938-2': 28, '1938-3': 31, '1938-4': 30, '1938-5': 31, '1938-6': 30, '1938-7': 31, '1938-8': 31, '1938-9': 30, '1938-10': 31, '1938-11': 30, '1938-12': 31, '1939-1': 31, '1939-2': 28, '1939-3': 31, '1939-4': 30, '1939-5': 31, '1939-6': 30, '1939-7': 31, '1939-8': 31, '1939-9': 30, '1939-10': 31, '1939-11': 30, '1939-12': 31}\n"
     ]
    },
    {
     "name": "stderr",
     "output_type": "stream",
     "text": [
      "C:\\Users\\39402\\Anaconda3\\lib\\site-packages\\ipykernel_launcher.py:59: UserWarning: WARNING: valid_min not used since it\n",
      "cannot be safely cast to variable data type\n",
      "C:\\Users\\39402\\Anaconda3\\lib\\site-packages\\ipykernel_launcher.py:59: UserWarning: WARNING: valid_max not used since it\n",
      "cannot be safely cast to variable data type\n"
     ]
    },
    {
     "name": "stdout",
     "output_type": "stream",
     "text": [
      "{'1940-1': 31, '1940-2': 29, '1940-3': 31, '1940-4': 30, '1940-5': 31, '1940-6': 30, '1940-7': 31, '1940-8': 31, '1940-9': 30, '1940-10': 31, '1940-11': 30, '1940-12': 31, '1941-1': 31, '1941-2': 28, '1941-3': 31, '1941-4': 30, '1941-5': 31, '1941-6': 30, '1941-7': 31, '1941-8': 31, '1941-9': 30, '1941-10': 31, '1941-11': 30, '1941-12': 31, '1942-1': 31, '1942-2': 28, '1942-3': 31, '1942-4': 30, '1942-5': 31, '1942-6': 30, '1942-7': 31, '1942-8': 31, '1942-9': 30, '1942-10': 31, '1942-11': 30, '1942-12': 31, '1943-1': 31, '1943-2': 28, '1943-3': 31, '1943-4': 30, '1943-5': 31, '1943-6': 30, '1943-7': 31, '1943-8': 31, '1943-9': 30, '1943-10': 31, '1943-11': 30, '1943-12': 31, '1944-1': 31, '1944-2': 29, '1944-3': 31, '1944-4': 30, '1944-5': 31, '1944-6': 30, '1944-7': 31, '1944-8': 31, '1944-9': 30, '1944-10': 31, '1944-11': 30, '1944-12': 31, '1945-1': 31, '1945-2': 28, '1945-3': 31, '1945-4': 30, '1945-5': 31, '1945-6': 30, '1945-7': 31, '1945-8': 31, '1945-9': 30, '1945-10': 31, '1945-11': 30, '1945-12': 31, '1946-1': 31, '1946-2': 28, '1946-3': 31, '1946-4': 30, '1946-5': 31, '1946-6': 30, '1946-7': 31, '1946-8': 31, '1946-9': 30, '1946-10': 31, '1946-11': 30, '1946-12': 31, '1947-1': 31, '1947-2': 28, '1947-3': 31, '1947-4': 30, '1947-5': 31, '1947-6': 30, '1947-7': 31, '1947-8': 31, '1947-9': 30, '1947-10': 31, '1947-11': 30, '1947-12': 31, '1948-1': 31, '1948-2': 29, '1948-3': 31, '1948-4': 30, '1948-5': 31, '1948-6': 30, '1948-7': 31, '1948-8': 31, '1948-9': 30, '1948-10': 31, '1948-11': 30, '1948-12': 31, '1949-1': 31, '1949-2': 28, '1949-3': 31, '1949-4': 30, '1949-5': 31, '1949-6': 30, '1949-7': 31, '1949-8': 31, '1949-9': 30, '1949-10': 31, '1949-11': 30, '1949-12': 31}\n"
     ]
    },
    {
     "name": "stderr",
     "output_type": "stream",
     "text": [
      "C:\\Users\\39402\\Anaconda3\\lib\\site-packages\\ipykernel_launcher.py:59: UserWarning: WARNING: valid_min not used since it\n",
      "cannot be safely cast to variable data type\n",
      "C:\\Users\\39402\\Anaconda3\\lib\\site-packages\\ipykernel_launcher.py:59: UserWarning: WARNING: valid_max not used since it\n",
      "cannot be safely cast to variable data type\n"
     ]
    },
    {
     "name": "stdout",
     "output_type": "stream",
     "text": [
      "{'1950-1': 31, '1950-2': 28, '1950-3': 31, '1950-4': 30, '1950-5': 31, '1950-6': 30, '1950-7': 31, '1950-8': 31, '1950-9': 30, '1950-10': 31, '1950-11': 30, '1950-12': 31, '1951-1': 31, '1951-2': 28, '1951-3': 31, '1951-4': 30, '1951-5': 31, '1951-6': 30, '1951-7': 31, '1951-8': 31, '1951-9': 30, '1951-10': 31, '1951-11': 30, '1951-12': 31, '1952-1': 31, '1952-2': 29, '1952-3': 31, '1952-4': 30, '1952-5': 31, '1952-6': 30, '1952-7': 31, '1952-8': 31, '1952-9': 30, '1952-10': 31, '1952-11': 30, '1952-12': 31, '1953-1': 31, '1953-2': 28, '1953-3': 31, '1953-4': 30, '1953-5': 31, '1953-6': 30, '1953-7': 31, '1953-8': 31, '1953-9': 30, '1953-10': 31, '1953-11': 30, '1953-12': 31, '1954-1': 31, '1954-2': 28, '1954-3': 31, '1954-4': 30, '1954-5': 31, '1954-6': 30, '1954-7': 31, '1954-8': 31, '1954-9': 30, '1954-10': 31, '1954-11': 30, '1954-12': 31, '1955-1': 31, '1955-2': 28, '1955-3': 31, '1955-4': 30, '1955-5': 31, '1955-6': 30, '1955-7': 31, '1955-8': 31, '1955-9': 30, '1955-10': 31, '1955-11': 30, '1955-12': 31, '1956-1': 31, '1956-2': 29, '1956-3': 31, '1956-4': 30, '1956-5': 31, '1956-6': 30, '1956-7': 31, '1956-8': 31, '1956-9': 30, '1956-10': 31, '1956-11': 30, '1956-12': 31, '1957-1': 31, '1957-2': 28, '1957-3': 31, '1957-4': 30, '1957-5': 31, '1957-6': 30, '1957-7': 31, '1957-8': 31, '1957-9': 30, '1957-10': 31, '1957-11': 30, '1957-12': 31, '1958-1': 31, '1958-2': 28, '1958-3': 31, '1958-4': 30, '1958-5': 31, '1958-6': 30, '1958-7': 31, '1958-8': 31, '1958-9': 30, '1958-10': 31, '1958-11': 30, '1958-12': 31, '1959-1': 31, '1959-2': 28, '1959-3': 31, '1959-4': 30, '1959-5': 31, '1959-6': 30, '1959-7': 31, '1959-8': 31, '1959-9': 30, '1959-10': 31, '1959-11': 30, '1959-12': 31}\n"
     ]
    },
    {
     "name": "stderr",
     "output_type": "stream",
     "text": [
      "C:\\Users\\39402\\Anaconda3\\lib\\site-packages\\ipykernel_launcher.py:59: UserWarning: WARNING: valid_min not used since it\n",
      "cannot be safely cast to variable data type\n",
      "C:\\Users\\39402\\Anaconda3\\lib\\site-packages\\ipykernel_launcher.py:59: UserWarning: WARNING: valid_max not used since it\n",
      "cannot be safely cast to variable data type\n"
     ]
    },
    {
     "name": "stdout",
     "output_type": "stream",
     "text": [
      "{'1960-1': 31, '1960-2': 29, '1960-3': 31, '1960-4': 30, '1960-5': 31, '1960-6': 30, '1960-7': 31, '1960-8': 31, '1960-9': 30, '1960-10': 31, '1960-11': 30, '1960-12': 31, '1961-1': 31, '1961-2': 28, '1961-3': 31, '1961-4': 30, '1961-5': 31, '1961-6': 30, '1961-7': 31, '1961-8': 31, '1961-9': 30, '1961-10': 31, '1961-11': 30, '1961-12': 31, '1962-1': 31, '1962-2': 28, '1962-3': 31, '1962-4': 30, '1962-5': 31, '1962-6': 30, '1962-7': 31, '1962-8': 31, '1962-9': 30, '1962-10': 31, '1962-11': 30, '1962-12': 31, '1963-1': 31, '1963-2': 28, '1963-3': 31, '1963-4': 30, '1963-5': 31, '1963-6': 30, '1963-7': 31, '1963-8': 31, '1963-9': 30, '1963-10': 31, '1963-11': 30, '1963-12': 31, '1964-1': 31, '1964-2': 29, '1964-3': 31, '1964-4': 30, '1964-5': 31, '1964-6': 30, '1964-7': 31, '1964-8': 31, '1964-9': 30, '1964-10': 31, '1964-11': 30, '1964-12': 31, '1965-1': 31, '1965-2': 28, '1965-3': 31, '1965-4': 30, '1965-5': 31, '1965-6': 30, '1965-7': 31, '1965-8': 31, '1965-9': 30, '1965-10': 31, '1965-11': 30, '1965-12': 31, '1966-1': 31, '1966-2': 28, '1966-3': 31, '1966-4': 30, '1966-5': 31, '1966-6': 30, '1966-7': 31, '1966-8': 31, '1966-9': 30, '1966-10': 31, '1966-11': 30, '1966-12': 31, '1967-1': 31, '1967-2': 28, '1967-3': 31, '1967-4': 30, '1967-5': 31, '1967-6': 30, '1967-7': 31, '1967-8': 31, '1967-9': 30, '1967-10': 31, '1967-11': 30, '1967-12': 31, '1968-1': 31, '1968-2': 29, '1968-3': 31, '1968-4': 30, '1968-5': 31, '1968-6': 30, '1968-7': 31, '1968-8': 31, '1968-9': 30, '1968-10': 31, '1968-11': 30, '1968-12': 31, '1969-1': 31, '1969-2': 28, '1969-3': 31, '1969-4': 30, '1969-5': 31, '1969-6': 30, '1969-7': 31, '1969-8': 31, '1969-9': 30, '1969-10': 31, '1969-11': 30, '1969-12': 31}\n"
     ]
    },
    {
     "name": "stderr",
     "output_type": "stream",
     "text": [
      "C:\\Users\\39402\\Anaconda3\\lib\\site-packages\\ipykernel_launcher.py:59: UserWarning: WARNING: valid_min not used since it\n",
      "cannot be safely cast to variable data type\n",
      "C:\\Users\\39402\\Anaconda3\\lib\\site-packages\\ipykernel_launcher.py:59: UserWarning: WARNING: valid_max not used since it\n",
      "cannot be safely cast to variable data type\n"
     ]
    },
    {
     "name": "stdout",
     "output_type": "stream",
     "text": [
      "{'1970-1': 31, '1970-2': 28, '1970-3': 31, '1970-4': 30, '1970-5': 31, '1970-6': 30, '1970-7': 31, '1970-8': 31, '1970-9': 30, '1970-10': 31, '1970-11': 30, '1970-12': 31, '1971-1': 31, '1971-2': 28, '1971-3': 31, '1971-4': 30, '1971-5': 31, '1971-6': 30, '1971-7': 31, '1971-8': 31, '1971-9': 30, '1971-10': 31, '1971-11': 30, '1971-12': 31, '1972-1': 31, '1972-2': 29, '1972-3': 31, '1972-4': 30, '1972-5': 31, '1972-6': 30, '1972-7': 31, '1972-8': 31, '1972-9': 30, '1972-10': 31, '1972-11': 30, '1972-12': 31, '1973-1': 31, '1973-2': 28, '1973-3': 31, '1973-4': 30, '1973-5': 31, '1973-6': 30, '1973-7': 31, '1973-8': 31, '1973-9': 30, '1973-10': 31, '1973-11': 30, '1973-12': 31, '1974-1': 31, '1974-2': 28, '1974-3': 31, '1974-4': 30, '1974-5': 31, '1974-6': 30, '1974-7': 31, '1974-8': 31, '1974-9': 30, '1974-10': 31, '1974-11': 30, '1974-12': 31, '1975-1': 31, '1975-2': 28, '1975-3': 31, '1975-4': 30, '1975-5': 31, '1975-6': 30, '1975-7': 31, '1975-8': 31, '1975-9': 30, '1975-10': 31, '1975-11': 30, '1975-12': 31, '1976-1': 31, '1976-2': 29, '1976-3': 31, '1976-4': 30, '1976-5': 31, '1976-6': 30, '1976-7': 31, '1976-8': 31, '1976-9': 30, '1976-10': 31, '1976-11': 30, '1976-12': 31, '1977-1': 31, '1977-2': 28, '1977-3': 31, '1977-4': 30, '1977-5': 31, '1977-6': 30, '1977-7': 31, '1977-8': 31, '1977-9': 30, '1977-10': 31, '1977-11': 30, '1977-12': 31, '1978-1': 31, '1978-2': 28, '1978-3': 31, '1978-4': 30, '1978-5': 31, '1978-6': 30, '1978-7': 31, '1978-8': 31, '1978-9': 30, '1978-10': 31, '1978-11': 30, '1978-12': 31, '1979-1': 31, '1979-2': 28, '1979-3': 31, '1979-4': 30, '1979-5': 31, '1979-6': 30, '1979-7': 31, '1979-8': 31, '1979-9': 30, '1979-10': 31, '1979-11': 30, '1979-12': 31}\n"
     ]
    },
    {
     "name": "stderr",
     "output_type": "stream",
     "text": [
      "C:\\Users\\39402\\Anaconda3\\lib\\site-packages\\ipykernel_launcher.py:59: UserWarning: WARNING: valid_min not used since it\n",
      "cannot be safely cast to variable data type\n",
      "C:\\Users\\39402\\Anaconda3\\lib\\site-packages\\ipykernel_launcher.py:59: UserWarning: WARNING: valid_max not used since it\n",
      "cannot be safely cast to variable data type\n"
     ]
    },
    {
     "name": "stdout",
     "output_type": "stream",
     "text": [
      "{'1980-1': 31, '1980-2': 29, '1980-3': 31, '1980-4': 30, '1980-5': 31, '1980-6': 30, '1980-7': 31, '1980-8': 31, '1980-9': 30, '1980-10': 31, '1980-11': 30, '1980-12': 31, '1981-1': 31, '1981-2': 28, '1981-3': 31, '1981-4': 30, '1981-5': 31, '1981-6': 30, '1981-7': 31, '1981-8': 31, '1981-9': 30, '1981-10': 31, '1981-11': 30, '1981-12': 31, '1982-1': 31, '1982-2': 28, '1982-3': 31, '1982-4': 30, '1982-5': 31, '1982-6': 30, '1982-7': 31, '1982-8': 31, '1982-9': 30, '1982-10': 31, '1982-11': 30, '1982-12': 31, '1983-1': 31, '1983-2': 28, '1983-3': 31, '1983-4': 30, '1983-5': 31, '1983-6': 30, '1983-7': 31, '1983-8': 31, '1983-9': 30, '1983-10': 31, '1983-11': 30, '1983-12': 31, '1984-1': 31, '1984-2': 29, '1984-3': 31, '1984-4': 30, '1984-5': 31, '1984-6': 30, '1984-7': 31, '1984-8': 31, '1984-9': 30, '1984-10': 31, '1984-11': 30, '1984-12': 31, '1985-1': 31, '1985-2': 28, '1985-3': 31, '1985-4': 30, '1985-5': 31, '1985-6': 30, '1985-7': 31, '1985-8': 31, '1985-9': 30, '1985-10': 31, '1985-11': 30, '1985-12': 31, '1986-1': 31, '1986-2': 28, '1986-3': 31, '1986-4': 30, '1986-5': 31, '1986-6': 30, '1986-7': 31, '1986-8': 31, '1986-9': 30, '1986-10': 31, '1986-11': 30, '1986-12': 31, '1987-1': 31, '1987-2': 28, '1987-3': 31, '1987-4': 30, '1987-5': 31, '1987-6': 30, '1987-7': 31, '1987-8': 31, '1987-9': 30, '1987-10': 31, '1987-11': 30, '1987-12': 31, '1988-1': 31, '1988-2': 29, '1988-3': 31, '1988-4': 30, '1988-5': 31, '1988-6': 30, '1988-7': 31, '1988-8': 31, '1988-9': 30, '1988-10': 31, '1988-11': 30, '1988-12': 31, '1989-1': 31, '1989-2': 28, '1989-3': 31, '1989-4': 30, '1989-5': 31, '1989-6': 30, '1989-7': 31, '1989-8': 31, '1989-9': 30, '1989-10': 31, '1989-11': 30, '1989-12': 31}\n"
     ]
    },
    {
     "name": "stderr",
     "output_type": "stream",
     "text": [
      "C:\\Users\\39402\\Anaconda3\\lib\\site-packages\\ipykernel_launcher.py:59: UserWarning: WARNING: valid_min not used since it\n",
      "cannot be safely cast to variable data type\n",
      "C:\\Users\\39402\\Anaconda3\\lib\\site-packages\\ipykernel_launcher.py:59: UserWarning: WARNING: valid_max not used since it\n",
      "cannot be safely cast to variable data type\n"
     ]
    },
    {
     "name": "stdout",
     "output_type": "stream",
     "text": [
      "{'1990-1': 31, '1990-2': 28, '1990-3': 31, '1990-4': 30, '1990-5': 31, '1990-6': 30, '1990-7': 31, '1990-8': 31, '1990-9': 30, '1990-10': 31, '1990-11': 30, '1990-12': 31, '1991-1': 31, '1991-2': 28, '1991-3': 31, '1991-4': 30, '1991-5': 31, '1991-6': 30, '1991-7': 31, '1991-8': 31, '1991-9': 30, '1991-10': 31, '1991-11': 30, '1991-12': 31, '1992-1': 31, '1992-2': 29, '1992-3': 31, '1992-4': 30, '1992-5': 31, '1992-6': 30, '1992-7': 31, '1992-8': 31, '1992-9': 30, '1992-10': 31, '1992-11': 30, '1992-12': 31, '1993-1': 31, '1993-2': 28, '1993-3': 31, '1993-4': 30, '1993-5': 31, '1993-6': 30, '1993-7': 31, '1993-8': 31, '1993-9': 30, '1993-10': 31, '1993-11': 30, '1993-12': 31, '1994-1': 31, '1994-2': 28, '1994-3': 31, '1994-4': 30, '1994-5': 31, '1994-6': 30, '1994-7': 31, '1994-8': 31, '1994-9': 30, '1994-10': 31, '1994-11': 30, '1994-12': 31, '1995-1': 31, '1995-2': 28, '1995-3': 31, '1995-4': 30, '1995-5': 31, '1995-6': 30, '1995-7': 31, '1995-8': 31, '1995-9': 30, '1995-10': 31, '1995-11': 30, '1995-12': 31, '1996-1': 31, '1996-2': 29, '1996-3': 31, '1996-4': 30, '1996-5': 31, '1996-6': 30, '1996-7': 31, '1996-8': 31, '1996-9': 30, '1996-10': 31, '1996-11': 30, '1996-12': 31, '1997-1': 31, '1997-2': 28, '1997-3': 31, '1997-4': 30, '1997-5': 31, '1997-6': 30, '1997-7': 31, '1997-8': 31, '1997-9': 30, '1997-10': 31, '1997-11': 30, '1997-12': 31, '1998-1': 31, '1998-2': 28, '1998-3': 31, '1998-4': 30, '1998-5': 31, '1998-6': 30, '1998-7': 31, '1998-8': 31, '1998-9': 30, '1998-10': 31, '1998-11': 30, '1998-12': 31, '1999-1': 31, '1999-2': 28, '1999-3': 31, '1999-4': 30, '1999-5': 31, '1999-6': 30, '1999-7': 31, '1999-8': 31, '1999-9': 30, '1999-10': 31, '1999-11': 30, '1999-12': 31}\n"
     ]
    },
    {
     "name": "stderr",
     "output_type": "stream",
     "text": [
      "C:\\Users\\39402\\Anaconda3\\lib\\site-packages\\ipykernel_launcher.py:59: UserWarning: WARNING: valid_min not used since it\n",
      "cannot be safely cast to variable data type\n",
      "C:\\Users\\39402\\Anaconda3\\lib\\site-packages\\ipykernel_launcher.py:59: UserWarning: WARNING: valid_max not used since it\n",
      "cannot be safely cast to variable data type\n"
     ]
    },
    {
     "name": "stdout",
     "output_type": "stream",
     "text": [
      "{'2000-1': 31, '2000-2': 29, '2000-3': 31, '2000-4': 30, '2000-5': 31, '2000-6': 30, '2000-7': 31, '2000-8': 31, '2000-9': 30, '2000-10': 31, '2000-11': 30, '2000-12': 31, '2001-1': 31, '2001-2': 28, '2001-3': 31, '2001-4': 30, '2001-5': 31, '2001-6': 30, '2001-7': 31, '2001-8': 31, '2001-9': 30, '2001-10': 31, '2001-11': 30, '2001-12': 31, '2002-1': 31, '2002-2': 28, '2002-3': 31, '2002-4': 30, '2002-5': 31, '2002-6': 30, '2002-7': 31, '2002-8': 31, '2002-9': 30, '2002-10': 31, '2002-11': 30, '2002-12': 31, '2003-1': 31, '2003-2': 28, '2003-3': 31, '2003-4': 30, '2003-5': 31, '2003-6': 30, '2003-7': 31, '2003-8': 31, '2003-9': 30, '2003-10': 31, '2003-11': 30, '2003-12': 31, '2004-1': 31, '2004-2': 29, '2004-3': 31, '2004-4': 30, '2004-5': 31, '2004-6': 30, '2004-7': 31, '2004-8': 31, '2004-9': 30, '2004-10': 31, '2004-11': 30, '2004-12': 31, '2005-1': 31, '2005-2': 28, '2005-3': 31, '2005-4': 30, '2005-5': 31, '2005-6': 30, '2005-7': 31, '2005-8': 31, '2005-9': 30, '2005-10': 31, '2005-11': 30, '2005-12': 31, '2006-1': 31, '2006-2': 28, '2006-3': 31, '2006-4': 30, '2006-5': 31, '2006-6': 30, '2006-7': 31, '2006-8': 31, '2006-9': 30, '2006-10': 31, '2006-11': 30, '2006-12': 31, '2007-1': 31, '2007-2': 28, '2007-3': 31, '2007-4': 30, '2007-5': 31, '2007-6': 30, '2007-7': 31, '2007-8': 31, '2007-9': 30, '2007-10': 31, '2007-11': 30, '2007-12': 31, '2008-1': 31, '2008-2': 29, '2008-3': 31, '2008-4': 30, '2008-5': 31, '2008-6': 30, '2008-7': 31, '2008-8': 31, '2008-9': 30, '2008-10': 31, '2008-11': 30, '2008-12': 31, '2009-1': 31, '2009-2': 28, '2009-3': 31, '2009-4': 30, '2009-5': 31, '2009-6': 30, '2009-7': 31, '2009-8': 31, '2009-9': 30, '2009-10': 31, '2009-11': 30, '2009-12': 31}\n"
     ]
    },
    {
     "name": "stderr",
     "output_type": "stream",
     "text": [
      "C:\\Users\\39402\\Anaconda3\\lib\\site-packages\\ipykernel_launcher.py:59: UserWarning: WARNING: valid_min not used since it\n",
      "cannot be safely cast to variable data type\n",
      "C:\\Users\\39402\\Anaconda3\\lib\\site-packages\\ipykernel_launcher.py:59: UserWarning: WARNING: valid_max not used since it\n",
      "cannot be safely cast to variable data type\n"
     ]
    }
   ],
   "source": [
    "d={}\n",
    "\n",
    "for i in range(1880,2001,10):\n",
    "    d[str(i)]=getHistoricalForCoord(\"41n\",\"74W\",\"month\",str(i)+\"-\"+str(i))"
   ]
  },
  {
   "cell_type": "code",
   "execution_count": 95,
   "metadata": {},
   "outputs": [],
   "source": [
    "import pandas as pd\n",
    "\n",
    "# y=pd.DataFrame(x3)\n",
    "\n",
    "y=pd.DataFrame(d)"
   ]
  },
  {
   "cell_type": "code",
   "execution_count": 88,
   "metadata": {},
   "outputs": [
    {
     "data": {
      "text/html": [
       "<div>\n",
       "<style scoped>\n",
       "    .dataframe tbody tr th:only-of-type {\n",
       "        vertical-align: middle;\n",
       "    }\n",
       "\n",
       "    .dataframe tbody tr th {\n",
       "        vertical-align: top;\n",
       "    }\n",
       "\n",
       "    .dataframe thead th {\n",
       "        text-align: right;\n",
       "    }\n",
       "</style>\n",
       "<table border=\"1\" class=\"dataframe\">\n",
       "  <thead>\n",
       "    <tr style=\"text-align: right;\">\n",
       "      <th></th>\n",
       "      <th>1880</th>\n",
       "      <th>1890</th>\n",
       "      <th>1900</th>\n",
       "      <th>1910</th>\n",
       "      <th>1920</th>\n",
       "      <th>1930</th>\n",
       "      <th>1940</th>\n",
       "      <th>1950</th>\n",
       "      <th>1960</th>\n",
       "      <th>1970</th>\n",
       "      <th>1980</th>\n",
       "      <th>1990</th>\n",
       "      <th>2000</th>\n",
       "    </tr>\n",
       "  </thead>\n",
       "  <tbody>\n",
       "    <tr>\n",
       "      <th>0</th>\n",
       "      <td>4.261509</td>\n",
       "      <td>3.531085</td>\n",
       "      <td>0.689434</td>\n",
       "      <td>0.172616</td>\n",
       "      <td>-4.282623</td>\n",
       "      <td>0.911929</td>\n",
       "      <td>-3.889661</td>\n",
       "      <td>4.917003</td>\n",
       "      <td>1.012034</td>\n",
       "      <td>-4.207899</td>\n",
       "      <td>1.114136</td>\n",
       "      <td>4.821341</td>\n",
       "      <td>-0.414991</td>\n",
       "    </tr>\n",
       "    <tr>\n",
       "      <th>1</th>\n",
       "      <td>1.443314</td>\n",
       "      <td>2.421546</td>\n",
       "      <td>-1.114373</td>\n",
       "      <td>-1.583678</td>\n",
       "      <td>-2.626615</td>\n",
       "      <td>1.526110</td>\n",
       "      <td>-0.606930</td>\n",
       "      <td>-1.141285</td>\n",
       "      <td>1.872413</td>\n",
       "      <td>-0.351819</td>\n",
       "      <td>-2.179305</td>\n",
       "      <td>2.558628</td>\n",
       "      <td>1.570683</td>\n",
       "    </tr>\n",
       "    <tr>\n",
       "      <th>2</th>\n",
       "      <td>-2.249344</td>\n",
       "      <td>-3.084792</td>\n",
       "      <td>-3.588025</td>\n",
       "      <td>1.790048</td>\n",
       "      <td>-1.257227</td>\n",
       "      <td>-0.668928</td>\n",
       "      <td>-4.103720</td>\n",
       "      <td>-3.118717</td>\n",
       "      <td>-4.754314</td>\n",
       "      <td>-1.944160</td>\n",
       "      <td>-1.373596</td>\n",
       "      <td>1.193079</td>\n",
       "      <td>2.419369</td>\n",
       "    </tr>\n",
       "    <tr>\n",
       "      <th>3</th>\n",
       "      <td>-0.595870</td>\n",
       "      <td>-1.300084</td>\n",
       "      <td>-0.383050</td>\n",
       "      <td>1.319891</td>\n",
       "      <td>-2.365073</td>\n",
       "      <td>-1.689520</td>\n",
       "      <td>-3.092792</td>\n",
       "      <td>-2.100600</td>\n",
       "      <td>1.049906</td>\n",
       "      <td>-0.595600</td>\n",
       "      <td>0.090862</td>\n",
       "      <td>0.047248</td>\n",
       "      <td>-0.929308</td>\n",
       "    </tr>\n",
       "    <tr>\n",
       "      <th>4</th>\n",
       "      <td>3.197271</td>\n",
       "      <td>-0.586998</td>\n",
       "      <td>-0.493068</td>\n",
       "      <td>-0.764305</td>\n",
       "      <td>-1.834561</td>\n",
       "      <td>0.883802</td>\n",
       "      <td>-0.674281</td>\n",
       "      <td>-1.159553</td>\n",
       "      <td>0.198342</td>\n",
       "      <td>0.563151</td>\n",
       "      <td>0.946708</td>\n",
       "      <td>-1.195674</td>\n",
       "      <td>0.388472</td>\n",
       "    </tr>\n",
       "    <tr>\n",
       "      <th>...</th>\n",
       "      <td>...</td>\n",
       "      <td>...</td>\n",
       "      <td>...</td>\n",
       "      <td>...</td>\n",
       "      <td>...</td>\n",
       "      <td>...</td>\n",
       "      <td>...</td>\n",
       "      <td>...</td>\n",
       "      <td>...</td>\n",
       "      <td>...</td>\n",
       "      <td>...</td>\n",
       "      <td>...</td>\n",
       "      <td>...</td>\n",
       "    </tr>\n",
       "    <tr>\n",
       "      <th>115</th>\n",
       "      <td>-2.007107</td>\n",
       "      <td>-0.718337</td>\n",
       "      <td>-1.910961</td>\n",
       "      <td>-2.184948</td>\n",
       "      <td>-1.882680</td>\n",
       "      <td>1.235238</td>\n",
       "      <td>0.644440</td>\n",
       "      <td>1.134770</td>\n",
       "      <td>0.532414</td>\n",
       "      <td>-0.225196</td>\n",
       "      <td>-0.315794</td>\n",
       "      <td>-0.048904</td>\n",
       "      <td>0.809944</td>\n",
       "    </tr>\n",
       "    <tr>\n",
       "      <th>116</th>\n",
       "      <td>-0.442971</td>\n",
       "      <td>-0.913744</td>\n",
       "      <td>-0.815740</td>\n",
       "      <td>0.021587</td>\n",
       "      <td>0.987989</td>\n",
       "      <td>0.118893</td>\n",
       "      <td>-0.977488</td>\n",
       "      <td>2.145750</td>\n",
       "      <td>0.390582</td>\n",
       "      <td>0.049317</td>\n",
       "      <td>0.534687</td>\n",
       "      <td>1.454548</td>\n",
       "      <td>-0.368313</td>\n",
       "    </tr>\n",
       "    <tr>\n",
       "      <th>117</th>\n",
       "      <td>-3.143434</td>\n",
       "      <td>0.501068</td>\n",
       "      <td>-1.921047</td>\n",
       "      <td>1.304142</td>\n",
       "      <td>-1.526016</td>\n",
       "      <td>-0.417088</td>\n",
       "      <td>2.521849</td>\n",
       "      <td>1.145235</td>\n",
       "      <td>-0.345960</td>\n",
       "      <td>-0.431398</td>\n",
       "      <td>0.334591</td>\n",
       "      <td>-0.738785</td>\n",
       "      <td>-0.983867</td>\n",
       "    </tr>\n",
       "    <tr>\n",
       "      <th>118</th>\n",
       "      <td>-0.170117</td>\n",
       "      <td>-1.156054</td>\n",
       "      <td>0.735721</td>\n",
       "      <td>-0.856442</td>\n",
       "      <td>-0.414454</td>\n",
       "      <td>-2.302322</td>\n",
       "      <td>-0.773148</td>\n",
       "      <td>-0.244824</td>\n",
       "      <td>-0.419694</td>\n",
       "      <td>2.333641</td>\n",
       "      <td>-0.560324</td>\n",
       "      <td>2.303842</td>\n",
       "      <td>2.687517</td>\n",
       "    </tr>\n",
       "    <tr>\n",
       "      <th>119</th>\n",
       "      <td>1.984012</td>\n",
       "      <td>-0.039833</td>\n",
       "      <td>-3.089025</td>\n",
       "      <td>-4.028579</td>\n",
       "      <td>-1.298598</td>\n",
       "      <td>-0.643773</td>\n",
       "      <td>0.582515</td>\n",
       "      <td>0.501275</td>\n",
       "      <td>-2.346089</td>\n",
       "      <td>1.346359</td>\n",
       "      <td>-7.150319</td>\n",
       "      <td>1.285460</td>\n",
       "      <td>-0.583776</td>\n",
       "    </tr>\n",
       "  </tbody>\n",
       "</table>\n",
       "<p>120 rows × 13 columns</p>\n",
       "</div>"
      ],
      "text/plain": [
       "         1880      1890      1900      1910      1920      1930      1940  \\\n",
       "0    4.261509  3.531085  0.689434  0.172616 -4.282623  0.911929 -3.889661   \n",
       "1    1.443314  2.421546 -1.114373 -1.583678 -2.626615  1.526110 -0.606930   \n",
       "2   -2.249344 -3.084792 -3.588025  1.790048 -1.257227 -0.668928 -4.103720   \n",
       "3   -0.595870 -1.300084 -0.383050  1.319891 -2.365073 -1.689520 -3.092792   \n",
       "4    3.197271 -0.586998 -0.493068 -0.764305 -1.834561  0.883802 -0.674281   \n",
       "..        ...       ...       ...       ...       ...       ...       ...   \n",
       "115 -2.007107 -0.718337 -1.910961 -2.184948 -1.882680  1.235238  0.644440   \n",
       "116 -0.442971 -0.913744 -0.815740  0.021587  0.987989  0.118893 -0.977488   \n",
       "117 -3.143434  0.501068 -1.921047  1.304142 -1.526016 -0.417088  2.521849   \n",
       "118 -0.170117 -1.156054  0.735721 -0.856442 -0.414454 -2.302322 -0.773148   \n",
       "119  1.984012 -0.039833 -3.089025 -4.028579 -1.298598 -0.643773  0.582515   \n",
       "\n",
       "         1950      1960      1970      1980      1990      2000  \n",
       "0    4.917003  1.012034 -4.207899  1.114136  4.821341 -0.414991  \n",
       "1   -1.141285  1.872413 -0.351819 -2.179305  2.558628  1.570683  \n",
       "2   -3.118717 -4.754314 -1.944160 -1.373596  1.193079  2.419369  \n",
       "3   -2.100600  1.049906 -0.595600  0.090862  0.047248 -0.929308  \n",
       "4   -1.159553  0.198342  0.563151  0.946708 -1.195674  0.388472  \n",
       "..        ...       ...       ...       ...       ...       ...  \n",
       "115  1.134770  0.532414 -0.225196 -0.315794 -0.048904  0.809944  \n",
       "116  2.145750  0.390582  0.049317  0.534687  1.454548 -0.368313  \n",
       "117  1.145235 -0.345960 -0.431398  0.334591 -0.738785 -0.983867  \n",
       "118 -0.244824 -0.419694  2.333641 -0.560324  2.303842  2.687517  \n",
       "119  0.501275 -2.346089  1.346359 -7.150319  1.285460 -0.583776  \n",
       "\n",
       "[120 rows x 13 columns]"
      ]
     },
     "execution_count": 88,
     "metadata": {},
     "output_type": "execute_result"
    }
   ],
   "source": [
    "y"
   ]
  },
  {
   "cell_type": "code",
   "execution_count": 89,
   "metadata": {},
   "outputs": [],
   "source": [
    "data = y.corr()"
   ]
  },
  {
   "cell_type": "code",
   "execution_count": 90,
   "metadata": {},
   "outputs": [
    {
     "data": {
      "text/html": [
       "<div>\n",
       "<style scoped>\n",
       "    .dataframe tbody tr th:only-of-type {\n",
       "        vertical-align: middle;\n",
       "    }\n",
       "\n",
       "    .dataframe tbody tr th {\n",
       "        vertical-align: top;\n",
       "    }\n",
       "\n",
       "    .dataframe thead th {\n",
       "        text-align: right;\n",
       "    }\n",
       "</style>\n",
       "<table border=\"1\" class=\"dataframe\">\n",
       "  <thead>\n",
       "    <tr style=\"text-align: right;\">\n",
       "      <th></th>\n",
       "      <th>1880</th>\n",
       "      <th>1890</th>\n",
       "      <th>1900</th>\n",
       "      <th>1910</th>\n",
       "      <th>1920</th>\n",
       "      <th>1930</th>\n",
       "      <th>1940</th>\n",
       "      <th>1950</th>\n",
       "      <th>1960</th>\n",
       "      <th>1970</th>\n",
       "      <th>1980</th>\n",
       "      <th>1990</th>\n",
       "      <th>2000</th>\n",
       "    </tr>\n",
       "  </thead>\n",
       "  <tbody>\n",
       "    <tr>\n",
       "      <th>1880</th>\n",
       "      <td>1.000000</td>\n",
       "      <td>0.360705</td>\n",
       "      <td>0.052135</td>\n",
       "      <td>0.030606</td>\n",
       "      <td>-0.158221</td>\n",
       "      <td>0.102972</td>\n",
       "      <td>0.009433</td>\n",
       "      <td>0.016793</td>\n",
       "      <td>0.158263</td>\n",
       "      <td>0.105500</td>\n",
       "      <td>0.017235</td>\n",
       "      <td>0.002576</td>\n",
       "      <td>0.093344</td>\n",
       "    </tr>\n",
       "    <tr>\n",
       "      <th>1890</th>\n",
       "      <td>0.360705</td>\n",
       "      <td>1.000000</td>\n",
       "      <td>0.057893</td>\n",
       "      <td>-0.034804</td>\n",
       "      <td>0.000216</td>\n",
       "      <td>0.085269</td>\n",
       "      <td>-0.042447</td>\n",
       "      <td>0.014445</td>\n",
       "      <td>0.294427</td>\n",
       "      <td>-0.064521</td>\n",
       "      <td>-0.165136</td>\n",
       "      <td>0.042237</td>\n",
       "      <td>0.143368</td>\n",
       "    </tr>\n",
       "    <tr>\n",
       "      <th>1900</th>\n",
       "      <td>0.052135</td>\n",
       "      <td>0.057893</td>\n",
       "      <td>1.000000</td>\n",
       "      <td>0.258373</td>\n",
       "      <td>-0.007088</td>\n",
       "      <td>0.064244</td>\n",
       "      <td>0.050551</td>\n",
       "      <td>-0.067326</td>\n",
       "      <td>0.223629</td>\n",
       "      <td>-0.133229</td>\n",
       "      <td>0.008239</td>\n",
       "      <td>0.021583</td>\n",
       "      <td>-0.008295</td>\n",
       "    </tr>\n",
       "    <tr>\n",
       "      <th>1910</th>\n",
       "      <td>0.030606</td>\n",
       "      <td>-0.034804</td>\n",
       "      <td>0.258373</td>\n",
       "      <td>1.000000</td>\n",
       "      <td>0.078969</td>\n",
       "      <td>0.100298</td>\n",
       "      <td>0.081893</td>\n",
       "      <td>-0.027016</td>\n",
       "      <td>0.076282</td>\n",
       "      <td>-0.008603</td>\n",
       "      <td>0.197422</td>\n",
       "      <td>0.005508</td>\n",
       "      <td>-0.100685</td>\n",
       "    </tr>\n",
       "    <tr>\n",
       "      <th>1920</th>\n",
       "      <td>-0.158221</td>\n",
       "      <td>0.000216</td>\n",
       "      <td>-0.007088</td>\n",
       "      <td>0.078969</td>\n",
       "      <td>1.000000</td>\n",
       "      <td>-0.029846</td>\n",
       "      <td>0.080267</td>\n",
       "      <td>-0.030760</td>\n",
       "      <td>-0.091146</td>\n",
       "      <td>-0.008652</td>\n",
       "      <td>-0.082233</td>\n",
       "      <td>0.058960</td>\n",
       "      <td>-0.089727</td>\n",
       "    </tr>\n",
       "    <tr>\n",
       "      <th>1930</th>\n",
       "      <td>0.102972</td>\n",
       "      <td>0.085269</td>\n",
       "      <td>0.064244</td>\n",
       "      <td>0.100298</td>\n",
       "      <td>-0.029846</td>\n",
       "      <td>1.000000</td>\n",
       "      <td>0.238928</td>\n",
       "      <td>-0.064163</td>\n",
       "      <td>0.162748</td>\n",
       "      <td>-0.072283</td>\n",
       "      <td>-0.098179</td>\n",
       "      <td>0.270247</td>\n",
       "      <td>0.071568</td>\n",
       "    </tr>\n",
       "    <tr>\n",
       "      <th>1940</th>\n",
       "      <td>0.009433</td>\n",
       "      <td>-0.042447</td>\n",
       "      <td>0.050551</td>\n",
       "      <td>0.081893</td>\n",
       "      <td>0.080267</td>\n",
       "      <td>0.238928</td>\n",
       "      <td>1.000000</td>\n",
       "      <td>-0.121613</td>\n",
       "      <td>0.203301</td>\n",
       "      <td>-0.149099</td>\n",
       "      <td>0.066667</td>\n",
       "      <td>-0.186098</td>\n",
       "      <td>0.066464</td>\n",
       "    </tr>\n",
       "    <tr>\n",
       "      <th>1950</th>\n",
       "      <td>0.016793</td>\n",
       "      <td>0.014445</td>\n",
       "      <td>-0.067326</td>\n",
       "      <td>-0.027016</td>\n",
       "      <td>-0.030760</td>\n",
       "      <td>-0.064163</td>\n",
       "      <td>-0.121613</td>\n",
       "      <td>1.000000</td>\n",
       "      <td>-0.005618</td>\n",
       "      <td>0.062415</td>\n",
       "      <td>0.105682</td>\n",
       "      <td>0.099265</td>\n",
       "      <td>-0.025641</td>\n",
       "    </tr>\n",
       "    <tr>\n",
       "      <th>1960</th>\n",
       "      <td>0.158263</td>\n",
       "      <td>0.294427</td>\n",
       "      <td>0.223629</td>\n",
       "      <td>0.076282</td>\n",
       "      <td>-0.091146</td>\n",
       "      <td>0.162748</td>\n",
       "      <td>0.203301</td>\n",
       "      <td>-0.005618</td>\n",
       "      <td>1.000000</td>\n",
       "      <td>0.005702</td>\n",
       "      <td>0.000718</td>\n",
       "      <td>-0.078015</td>\n",
       "      <td>0.101445</td>\n",
       "    </tr>\n",
       "    <tr>\n",
       "      <th>1970</th>\n",
       "      <td>0.105500</td>\n",
       "      <td>-0.064521</td>\n",
       "      <td>-0.133229</td>\n",
       "      <td>-0.008603</td>\n",
       "      <td>-0.008652</td>\n",
       "      <td>-0.072283</td>\n",
       "      <td>-0.149099</td>\n",
       "      <td>0.062415</td>\n",
       "      <td>0.005702</td>\n",
       "      <td>1.000000</td>\n",
       "      <td>-0.009046</td>\n",
       "      <td>-0.138399</td>\n",
       "      <td>-0.184529</td>\n",
       "    </tr>\n",
       "    <tr>\n",
       "      <th>1980</th>\n",
       "      <td>0.017235</td>\n",
       "      <td>-0.165136</td>\n",
       "      <td>0.008239</td>\n",
       "      <td>0.197422</td>\n",
       "      <td>-0.082233</td>\n",
       "      <td>-0.098179</td>\n",
       "      <td>0.066667</td>\n",
       "      <td>0.105682</td>\n",
       "      <td>0.000718</td>\n",
       "      <td>-0.009046</td>\n",
       "      <td>1.000000</td>\n",
       "      <td>-0.093643</td>\n",
       "      <td>-0.136966</td>\n",
       "    </tr>\n",
       "    <tr>\n",
       "      <th>1990</th>\n",
       "      <td>0.002576</td>\n",
       "      <td>0.042237</td>\n",
       "      <td>0.021583</td>\n",
       "      <td>0.005508</td>\n",
       "      <td>0.058960</td>\n",
       "      <td>0.270247</td>\n",
       "      <td>-0.186098</td>\n",
       "      <td>0.099265</td>\n",
       "      <td>-0.078015</td>\n",
       "      <td>-0.138399</td>\n",
       "      <td>-0.093643</td>\n",
       "      <td>1.000000</td>\n",
       "      <td>0.060406</td>\n",
       "    </tr>\n",
       "    <tr>\n",
       "      <th>2000</th>\n",
       "      <td>0.093344</td>\n",
       "      <td>0.143368</td>\n",
       "      <td>-0.008295</td>\n",
       "      <td>-0.100685</td>\n",
       "      <td>-0.089727</td>\n",
       "      <td>0.071568</td>\n",
       "      <td>0.066464</td>\n",
       "      <td>-0.025641</td>\n",
       "      <td>0.101445</td>\n",
       "      <td>-0.184529</td>\n",
       "      <td>-0.136966</td>\n",
       "      <td>0.060406</td>\n",
       "      <td>1.000000</td>\n",
       "    </tr>\n",
       "  </tbody>\n",
       "</table>\n",
       "</div>"
      ],
      "text/plain": [
       "          1880      1890      1900      1910      1920      1930      1940  \\\n",
       "1880  1.000000  0.360705  0.052135  0.030606 -0.158221  0.102972  0.009433   \n",
       "1890  0.360705  1.000000  0.057893 -0.034804  0.000216  0.085269 -0.042447   \n",
       "1900  0.052135  0.057893  1.000000  0.258373 -0.007088  0.064244  0.050551   \n",
       "1910  0.030606 -0.034804  0.258373  1.000000  0.078969  0.100298  0.081893   \n",
       "1920 -0.158221  0.000216 -0.007088  0.078969  1.000000 -0.029846  0.080267   \n",
       "1930  0.102972  0.085269  0.064244  0.100298 -0.029846  1.000000  0.238928   \n",
       "1940  0.009433 -0.042447  0.050551  0.081893  0.080267  0.238928  1.000000   \n",
       "1950  0.016793  0.014445 -0.067326 -0.027016 -0.030760 -0.064163 -0.121613   \n",
       "1960  0.158263  0.294427  0.223629  0.076282 -0.091146  0.162748  0.203301   \n",
       "1970  0.105500 -0.064521 -0.133229 -0.008603 -0.008652 -0.072283 -0.149099   \n",
       "1980  0.017235 -0.165136  0.008239  0.197422 -0.082233 -0.098179  0.066667   \n",
       "1990  0.002576  0.042237  0.021583  0.005508  0.058960  0.270247 -0.186098   \n",
       "2000  0.093344  0.143368 -0.008295 -0.100685 -0.089727  0.071568  0.066464   \n",
       "\n",
       "          1950      1960      1970      1980      1990      2000  \n",
       "1880  0.016793  0.158263  0.105500  0.017235  0.002576  0.093344  \n",
       "1890  0.014445  0.294427 -0.064521 -0.165136  0.042237  0.143368  \n",
       "1900 -0.067326  0.223629 -0.133229  0.008239  0.021583 -0.008295  \n",
       "1910 -0.027016  0.076282 -0.008603  0.197422  0.005508 -0.100685  \n",
       "1920 -0.030760 -0.091146 -0.008652 -0.082233  0.058960 -0.089727  \n",
       "1930 -0.064163  0.162748 -0.072283 -0.098179  0.270247  0.071568  \n",
       "1940 -0.121613  0.203301 -0.149099  0.066667 -0.186098  0.066464  \n",
       "1950  1.000000 -0.005618  0.062415  0.105682  0.099265 -0.025641  \n",
       "1960 -0.005618  1.000000  0.005702  0.000718 -0.078015  0.101445  \n",
       "1970  0.062415  0.005702  1.000000 -0.009046 -0.138399 -0.184529  \n",
       "1980  0.105682  0.000718 -0.009046  1.000000 -0.093643 -0.136966  \n",
       "1990  0.099265 -0.078015 -0.138399 -0.093643  1.000000  0.060406  \n",
       "2000 -0.025641  0.101445 -0.184529 -0.136966  0.060406  1.000000  "
      ]
     },
     "execution_count": 90,
     "metadata": {},
     "output_type": "execute_result"
    }
   ],
   "source": [
    "data"
   ]
  },
  {
   "cell_type": "code",
   "execution_count": 91,
   "metadata": {},
   "outputs": [
    {
     "data": {
      "image/png": "[encoded data removed]",
      "text/plain": [
       "<Figure size 864x720 with 2 Axes>"
      ]
     },
     "metadata": {
      "needs_background": "light"
     },
     "output_type": "display_data"
    }
   ],
   "source": [
    "import seaborn as sns\n",
    "import matplotlib.pyplot as plt  \n",
    "\n",
    "data = y.corr() #test_feature => pandas.DataFrame#\n",
    "plt.figure(figsize=(12,10))\n",
    "sns.heatmap(data)\n",
    "\n",
    "# plt.xlabel(\"Day of the Year\", fontsize=20) \n",
    "# plt.ylabel(\"Estimated Surface Temperatue (Celsius)\", fontsize=20)\n",
    "\n",
    "plt.title(\"Anomaly Correlation heatmap of New York since 1880\", fontsize=20)\n",
    "plt.show()"
   ]
  },
  {
   "cell_type": "code",
   "execution_count": 92,
   "metadata": {},
   "outputs": [
    {
     "data": {
      "text/plain": [
       "0.02430977269799169"
      ]
     },
     "execution_count": 92,
     "metadata": {},
     "output_type": "execute_result"
    }
   ],
   "source": [
    "(data.sum().sum()-13)/(12*13)"
   ]
  },
  {
   "cell_type": "code",
   "execution_count": 93,
   "metadata": {},
   "outputs": [
    {
     "data": {
      "text/html": [
       "<div>\n",
       "<style scoped>\n",
       "    .dataframe tbody tr th:only-of-type {\n",
       "        vertical-align: middle;\n",
       "    }\n",
       "\n",
       "    .dataframe tbody tr th {\n",
       "        vertical-align: top;\n",
       "    }\n",
       "\n",
       "    .dataframe thead th {\n",
       "        text-align: right;\n",
       "    }\n",
       "</style>\n",
       "<table border=\"1\" class=\"dataframe\">\n",
       "  <thead>\n",
       "    <tr style=\"text-align: right;\">\n",
       "      <th></th>\n",
       "      <th>1880</th>\n",
       "      <th>1890</th>\n",
       "      <th>1900</th>\n",
       "      <th>1910</th>\n",
       "      <th>1920</th>\n",
       "      <th>1930</th>\n",
       "      <th>1940</th>\n",
       "      <th>1950</th>\n",
       "      <th>1960</th>\n",
       "      <th>1970</th>\n",
       "      <th>1980</th>\n",
       "      <th>1990</th>\n",
       "      <th>2000</th>\n",
       "    </tr>\n",
       "  </thead>\n",
       "  <tbody>\n",
       "    <tr>\n",
       "      <th>count</th>\n",
       "      <td>13.000000</td>\n",
       "      <td>13.000000</td>\n",
       "      <td>13.000000</td>\n",
       "      <td>13.000000</td>\n",
       "      <td>13.000000</td>\n",
       "      <td>13.000000</td>\n",
       "      <td>13.000000</td>\n",
       "      <td>13.000000</td>\n",
       "      <td>13.000000</td>\n",
       "      <td>13.000000</td>\n",
       "      <td>13.000000</td>\n",
       "      <td>13.000000</td>\n",
       "      <td>13.000000</td>\n",
       "    </tr>\n",
       "    <tr>\n",
       "      <th>mean</th>\n",
       "      <td>0.137795</td>\n",
       "      <td>0.130127</td>\n",
       "      <td>0.116978</td>\n",
       "      <td>0.127557</td>\n",
       "      <td>0.055441</td>\n",
       "      <td>0.140908</td>\n",
       "      <td>0.099865</td>\n",
       "      <td>0.073574</td>\n",
       "      <td>0.157826</td>\n",
       "      <td>0.031174</td>\n",
       "      <td>0.062366</td>\n",
       "      <td>0.081895</td>\n",
       "      <td>0.076212</td>\n",
       "    </tr>\n",
       "    <tr>\n",
       "      <th>std</th>\n",
       "      <td>0.284037</td>\n",
       "      <td>0.297809</td>\n",
       "      <td>0.284980</td>\n",
       "      <td>0.279307</td>\n",
       "      <td>0.292448</td>\n",
       "      <td>0.282186</td>\n",
       "      <td>0.298172</td>\n",
       "      <td>0.285897</td>\n",
       "      <td>0.279332</td>\n",
       "      <td>0.303484</td>\n",
       "      <td>0.299398</td>\n",
       "      <td>0.299131</td>\n",
       "      <td>0.295658</td>\n",
       "    </tr>\n",
       "    <tr>\n",
       "      <th>min</th>\n",
       "      <td>-0.158221</td>\n",
       "      <td>-0.165136</td>\n",
       "      <td>-0.133229</td>\n",
       "      <td>-0.100685</td>\n",
       "      <td>-0.158221</td>\n",
       "      <td>-0.098179</td>\n",
       "      <td>-0.186098</td>\n",
       "      <td>-0.121613</td>\n",
       "      <td>-0.091146</td>\n",
       "      <td>-0.184529</td>\n",
       "      <td>-0.165136</td>\n",
       "      <td>-0.186098</td>\n",
       "      <td>-0.184529</td>\n",
       "    </tr>\n",
       "    <tr>\n",
       "      <th>25%</th>\n",
       "      <td>0.016793</td>\n",
       "      <td>-0.034804</td>\n",
       "      <td>-0.007088</td>\n",
       "      <td>-0.008603</td>\n",
       "      <td>-0.082233</td>\n",
       "      <td>-0.029846</td>\n",
       "      <td>-0.042447</td>\n",
       "      <td>-0.030760</td>\n",
       "      <td>0.000718</td>\n",
       "      <td>-0.133229</td>\n",
       "      <td>-0.093643</td>\n",
       "      <td>-0.078015</td>\n",
       "      <td>-0.089727</td>\n",
       "    </tr>\n",
       "    <tr>\n",
       "      <th>50%</th>\n",
       "      <td>0.052135</td>\n",
       "      <td>0.042237</td>\n",
       "      <td>0.050551</td>\n",
       "      <td>0.076282</td>\n",
       "      <td>-0.008652</td>\n",
       "      <td>0.085269</td>\n",
       "      <td>0.066464</td>\n",
       "      <td>-0.005618</td>\n",
       "      <td>0.101445</td>\n",
       "      <td>-0.009046</td>\n",
       "      <td>0.000718</td>\n",
       "      <td>0.021583</td>\n",
       "      <td>0.060406</td>\n",
       "    </tr>\n",
       "    <tr>\n",
       "      <th>75%</th>\n",
       "      <td>0.105500</td>\n",
       "      <td>0.143368</td>\n",
       "      <td>0.064244</td>\n",
       "      <td>0.100298</td>\n",
       "      <td>0.058960</td>\n",
       "      <td>0.162748</td>\n",
       "      <td>0.081893</td>\n",
       "      <td>0.062415</td>\n",
       "      <td>0.203301</td>\n",
       "      <td>0.005702</td>\n",
       "      <td>0.066667</td>\n",
       "      <td>0.060406</td>\n",
       "      <td>0.093344</td>\n",
       "    </tr>\n",
       "    <tr>\n",
       "      <th>max</th>\n",
       "      <td>1.000000</td>\n",
       "      <td>1.000000</td>\n",
       "      <td>1.000000</td>\n",
       "      <td>1.000000</td>\n",
       "      <td>1.000000</td>\n",
       "      <td>1.000000</td>\n",
       "      <td>1.000000</td>\n",
       "      <td>1.000000</td>\n",
       "      <td>1.000000</td>\n",
       "      <td>1.000000</td>\n",
       "      <td>1.000000</td>\n",
       "      <td>1.000000</td>\n",
       "      <td>1.000000</td>\n",
       "    </tr>\n",
       "  </tbody>\n",
       "</table>\n",
       "</div>"
      ],
      "text/plain": [
       "            1880       1890       1900       1910       1920       1930  \\\n",
       "count  13.000000  13.000000  13.000000  13.000000  13.000000  13.000000   \n",
       "mean    0.137795   0.130127   0.116978   0.127557   0.055441   0.140908   \n",
       "std     0.284037   0.297809   0.284980   0.279307   0.292448   0.282186   \n",
       "min    -0.158221  -0.165136  -0.133229  -0.100685  -0.158221  -0.098179   \n",
       "25%     0.016793  -0.034804  -0.007088  -0.008603  -0.082233  -0.029846   \n",
       "50%     0.052135   0.042237   0.050551   0.076282  -0.008652   0.085269   \n",
       "75%     0.105500   0.143368   0.064244   0.100298   0.058960   0.162748   \n",
       "max     1.000000   1.000000   1.000000   1.000000   1.000000   1.000000   \n",
       "\n",
       "            1940       1950       1960       1970       1980       1990  \\\n",
       "count  13.000000  13.000000  13.000000  13.000000  13.000000  13.000000   \n",
       "mean    0.099865   0.073574   0.157826   0.031174   0.062366   0.081895   \n",
       "std     0.298172   0.285897   0.279332   0.303484   0.299398   0.299131   \n",
       "min    -0.186098  -0.121613  -0.091146  -0.184529  -0.165136  -0.186098   \n",
       "25%    -0.042447  -0.030760   0.000718  -0.133229  -0.093643  -0.078015   \n",
       "50%     0.066464  -0.005618   0.101445  -0.009046   0.000718   0.021583   \n",
       "75%     0.081893   0.062415   0.203301   0.005702   0.066667   0.060406   \n",
       "max     1.000000   1.000000   1.000000   1.000000   1.000000   1.000000   \n",
       "\n",
       "            2000  \n",
       "count  13.000000  \n",
       "mean    0.076212  \n",
       "std     0.295658  \n",
       "min    -0.184529  \n",
       "25%    -0.089727  \n",
       "50%     0.060406  \n",
       "75%     0.093344  \n",
       "max     1.000000  "
      ]
     },
     "execution_count": 93,
     "metadata": {},
     "output_type": "execute_result"
    }
   ],
   "source": [
    "data.describe()"
   ]
  }
 ],
 "metadata": {
  "kernelspec": {
   "display_name": "Python 3",
   "language": "python",
   "name": "python3"
  },
  "language_info": {
   "codemirror_mode": {
    "name": "ipython",
    "version": 3
   },
   "file_extension": ".py",
   "mimetype": "text/x-python",
   "name": "python",
   "nbconvert_exporter": "python",
   "pygments_lexer": "ipython3",
   "version": "3.7.0"
  }
 },
 "nbformat": 4,
 "nbformat_minor": 2
}
