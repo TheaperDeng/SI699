{
 "cells": [
  {
   "cell_type": "code",
   "execution_count": 22,
   "metadata": {},
   "outputs": [],
   "source": [
    "import numpy as np\n",
    "import netCDF4 as nc"
   ]
  },
  {
   "cell_type": "code",
   "execution_count": 23,
   "metadata": {},
   "outputs": [],
   "source": [
    "file_obj = nc.Dataset(\"Complete_TAVG_Daily_LatLong1_2000.nc\",encoding=\"utf-8\")"
   ]
  },
  {
   "cell_type": "code",
   "execution_count": 24,
   "metadata": {},
   "outputs": [
    {
     "data": {
      "text/plain": [
       "<class 'netCDF4._netCDF4.Dataset'>\n",
       "root group (NETCDF4 data model, file format HDF5):\n",
       "    Conventions: Berkeley Earth Internal Convention (based on CF-1.5)\n",
       "    title: Gridded Berkeley Earth Surface Temperature Anomaly Field\n",
       "    history: 17-Jun-2018 21:13:13\n",
       "    institution: Berkeley Earth Surface Temperature Project\n",
       "    source_history: 17-Jun-2018 16:15:15\n",
       "    comment: This file contains surface temperature anomaly field gridded on a 1� (longitude) by 1� (latitude) grid-box basis.\n",
       "    dimensions(sizes): longitude(360), latitude(180), time(3653), day_number(365)\n",
       "    variables(dimensions): float32 longitude(longitude), float32 latitude(latitude), float64 date_number(time), float64 year(time), float64 month(time), float64 day(time), float64 day_of_year(time), float64 land_mask(latitude, longitude), float32 temperature(time, latitude, longitude), float32 climatology(day_number, latitude, longitude)\n",
       "    groups: "
      ]
     },
     "execution_count": 24,
     "metadata": {},
     "output_type": "execute_result"
    }
   ],
   "source": [
    "file_obj"
   ]
  },
  {
   "cell_type": "code",
   "execution_count": 25,
   "metadata": {},
   "outputs": [
    {
     "data": {
      "text/plain": [
       "dict_keys(['longitude', 'latitude', 'date_number', 'year', 'month', 'day', 'day_of_year', 'land_mask', 'temperature', 'climatology'])"
      ]
     },
     "execution_count": 25,
     "metadata": {},
     "output_type": "execute_result"
    }
   ],
   "source": [
    "file_obj.variables.keys()"
   ]
  },
  {
   "cell_type": "markdown",
   "metadata": {},
   "source": [
    "## Explanation of columns"
   ]
  },
  {
   "cell_type": "markdown",
   "metadata": {},
   "source": [
    "### Longitude\n",
    "\n",
    "A list of longitude values indicating grid box centers. \n",
    "Values are in degrees, with positive values used for the Eastern Hemisphere.\n"
   ]
  },
  {
   "cell_type": "code",
   "execution_count": 26,
   "metadata": {},
   "outputs": [
    {
     "data": {
      "text/plain": [
       "masked_array(data=[-179.5, -178.5, -177.5, -176.5, -175.5, -174.5, -173.5,\n",
       "                   -172.5, -171.5, -170.5, -169.5, -168.5, -167.5, -166.5,\n",
       "                   -165.5, -164.5, -163.5, -162.5, -161.5, -160.5, -159.5,\n",
       "                   -158.5, -157.5, -156.5, -155.5, -154.5, -153.5, -152.5,\n",
       "                   -151.5, -150.5, -149.5, -148.5, -147.5, -146.5, -145.5,\n",
       "                   -144.5, -143.5, -142.5, -141.5, -140.5, -139.5, -138.5,\n",
       "                   -137.5, -136.5, -135.5, -134.5, -133.5, -132.5, -131.5,\n",
       "                   -130.5, -129.5, -128.5, -127.5, -126.5, -125.5, -124.5,\n",
       "                   -123.5, -122.5, -121.5, -120.5, -119.5, -118.5, -117.5,\n",
       "                   -116.5, -115.5, -114.5, -113.5, -112.5, -111.5, -110.5,\n",
       "                   -109.5, -108.5, -107.5, -106.5, -105.5, -104.5, -103.5,\n",
       "                   -102.5, -101.5, -100.5,  -99.5,  -98.5,  -97.5,  -96.5,\n",
       "                    -95.5,  -94.5,  -93.5,  -92.5,  -91.5,  -90.5,  -89.5,\n",
       "                    -88.5,  -87.5,  -86.5,  -85.5,  -84.5,  -83.5,  -82.5,\n",
       "                    -81.5,  -80.5,  -79.5,  -78.5,  -77.5,  -76.5,  -75.5,\n",
       "                    -74.5,  -73.5,  -72.5,  -71.5,  -70.5,  -69.5,  -68.5,\n",
       "                    -67.5,  -66.5,  -65.5,  -64.5,  -63.5,  -62.5,  -61.5,\n",
       "                    -60.5,  -59.5,  -58.5,  -57.5,  -56.5,  -55.5,  -54.5,\n",
       "                    -53.5,  -52.5,  -51.5,  -50.5,  -49.5,  -48.5,  -47.5,\n",
       "                    -46.5,  -45.5,  -44.5,  -43.5,  -42.5,  -41.5,  -40.5,\n",
       "                    -39.5,  -38.5,  -37.5,  -36.5,  -35.5,  -34.5,  -33.5,\n",
       "                    -32.5,  -31.5,  -30.5,  -29.5,  -28.5,  -27.5,  -26.5,\n",
       "                    -25.5,  -24.5,  -23.5,  -22.5,  -21.5,  -20.5,  -19.5,\n",
       "                    -18.5,  -17.5,  -16.5,  -15.5,  -14.5,  -13.5,  -12.5,\n",
       "                    -11.5,  -10.5,   -9.5,   -8.5,   -7.5,   -6.5,   -5.5,\n",
       "                     -4.5,   -3.5,   -2.5,   -1.5,   -0.5,    0.5,    1.5,\n",
       "                      2.5,    3.5,    4.5,    5.5,    6.5,    7.5,    8.5,\n",
       "                      9.5,   10.5,   11.5,   12.5,   13.5,   14.5,   15.5,\n",
       "                     16.5,   17.5,   18.5,   19.5,   20.5,   21.5,   22.5,\n",
       "                     23.5,   24.5,   25.5,   26.5,   27.5,   28.5,   29.5,\n",
       "                     30.5,   31.5,   32.5,   33.5,   34.5,   35.5,   36.5,\n",
       "                     37.5,   38.5,   39.5,   40.5,   41.5,   42.5,   43.5,\n",
       "                     44.5,   45.5,   46.5,   47.5,   48.5,   49.5,   50.5,\n",
       "                     51.5,   52.5,   53.5,   54.5,   55.5,   56.5,   57.5,\n",
       "                     58.5,   59.5,   60.5,   61.5,   62.5,   63.5,   64.5,\n",
       "                     65.5,   66.5,   67.5,   68.5,   69.5,   70.5,   71.5,\n",
       "                     72.5,   73.5,   74.5,   75.5,   76.5,   77.5,   78.5,\n",
       "                     79.5,   80.5,   81.5,   82.5,   83.5,   84.5,   85.5,\n",
       "                     86.5,   87.5,   88.5,   89.5,   90.5,   91.5,   92.5,\n",
       "                     93.5,   94.5,   95.5,   96.5,   97.5,   98.5,   99.5,\n",
       "                    100.5,  101.5,  102.5,  103.5,  104.5,  105.5,  106.5,\n",
       "                    107.5,  108.5,  109.5,  110.5,  111.5,  112.5,  113.5,\n",
       "                    114.5,  115.5,  116.5,  117.5,  118.5,  119.5,  120.5,\n",
       "                    121.5,  122.5,  123.5,  124.5,  125.5,  126.5,  127.5,\n",
       "                    128.5,  129.5,  130.5,  131.5,  132.5,  133.5,  134.5,\n",
       "                    135.5,  136.5,  137.5,  138.5,  139.5,  140.5,  141.5,\n",
       "                    142.5,  143.5,  144.5,  145.5,  146.5,  147.5,  148.5,\n",
       "                    149.5,  150.5,  151.5,  152.5,  153.5,  154.5,  155.5,\n",
       "                    156.5,  157.5,  158.5,  159.5,  160.5,  161.5,  162.5,\n",
       "                    163.5,  164.5,  165.5,  166.5,  167.5,  168.5,  169.5,\n",
       "                    170.5,  171.5,  172.5,  173.5,  174.5,  175.5,  176.5,\n",
       "                    177.5,  178.5,  179.5],\n",
       "             mask=False,\n",
       "       fill_value=1e+20,\n",
       "            dtype=float32)"
      ]
     },
     "execution_count": 26,
     "metadata": {},
     "output_type": "execute_result"
    }
   ],
   "source": [
    "file_obj.variables['longitude'][:]"
   ]
  },
  {
   "cell_type": "markdown",
   "metadata": {},
   "source": [
    "### Latitude\n",
    "\n",
    "A list of latitude values indicating grid box centers. \n",
    "Values are in degrees, with positive values used for the Northern Hemisphere."
   ]
  },
  {
   "cell_type": "code",
   "execution_count": 27,
   "metadata": {},
   "outputs": [
    {
     "data": {
      "text/plain": [
       "masked_array(data=[-89.5, -88.5, -87.5, -86.5, -85.5, -84.5, -83.5, -82.5,\n",
       "                   -81.5, -80.5, -79.5, -78.5, -77.5, -76.5, -75.5, -74.5,\n",
       "                   -73.5, -72.5, -71.5, -70.5, -69.5, -68.5, -67.5, -66.5,\n",
       "                   -65.5, -64.5, -63.5, -62.5, -61.5, -60.5, -59.5, -58.5,\n",
       "                   -57.5, -56.5, -55.5, -54.5, -53.5, -52.5, -51.5, -50.5,\n",
       "                   -49.5, -48.5, -47.5, -46.5, -45.5, -44.5, -43.5, -42.5,\n",
       "                   -41.5, -40.5, -39.5, -38.5, -37.5, -36.5, -35.5, -34.5,\n",
       "                   -33.5, -32.5, -31.5, -30.5, -29.5, -28.5, -27.5, -26.5,\n",
       "                   -25.5, -24.5, -23.5, -22.5, -21.5, -20.5, -19.5, -18.5,\n",
       "                   -17.5, -16.5, -15.5, -14.5, -13.5, -12.5, -11.5, -10.5,\n",
       "                    -9.5,  -8.5,  -7.5,  -6.5,  -5.5,  -4.5,  -3.5,  -2.5,\n",
       "                    -1.5,  -0.5,   0.5,   1.5,   2.5,   3.5,   4.5,   5.5,\n",
       "                     6.5,   7.5,   8.5,   9.5,  10.5,  11.5,  12.5,  13.5,\n",
       "                    14.5,  15.5,  16.5,  17.5,  18.5,  19.5,  20.5,  21.5,\n",
       "                    22.5,  23.5,  24.5,  25.5,  26.5,  27.5,  28.5,  29.5,\n",
       "                    30.5,  31.5,  32.5,  33.5,  34.5,  35.5,  36.5,  37.5,\n",
       "                    38.5,  39.5,  40.5,  41.5,  42.5,  43.5,  44.5,  45.5,\n",
       "                    46.5,  47.5,  48.5,  49.5,  50.5,  51.5,  52.5,  53.5,\n",
       "                    54.5,  55.5,  56.5,  57.5,  58.5,  59.5,  60.5,  61.5,\n",
       "                    62.5,  63.5,  64.5,  65.5,  66.5,  67.5,  68.5,  69.5,\n",
       "                    70.5,  71.5,  72.5,  73.5,  74.5,  75.5,  76.5,  77.5,\n",
       "                    78.5,  79.5,  80.5,  81.5,  82.5,  83.5,  84.5,  85.5,\n",
       "                    86.5,  87.5,  88.5,  89.5],\n",
       "             mask=False,\n",
       "       fill_value=1e+20,\n",
       "            dtype=float32)"
      ]
     },
     "execution_count": 27,
     "metadata": {},
     "output_type": "execute_result"
    }
   ],
   "source": [
    "file_obj.variables['latitude'][:]"
   ]
  },
  {
   "cell_type": "markdown",
   "metadata": {},
   "source": [
    "### Date_number\n",
    "\n",
    "A list of dates at which data is reported.  \n",
    "Data format is decimal with year plus fraction of year reported, with each value corresponding to the midpoint of the respective day.  \n",
    "For example, 2000.0123 indicates January 5, 2000.  "
   ]
  },
  {
   "cell_type": "code",
   "execution_count": 28,
   "metadata": {},
   "outputs": [
    {
     "data": {
      "text/plain": [
       "masked_array(data=[2000.00136612, 2000.00409836, 2000.0068306 , ...,\n",
       "                   2009.99315068, 2009.99589041, 2009.99863014],\n",
       "             mask=False,\n",
       "       fill_value=1e+20)"
      ]
     },
     "execution_count": 28,
     "metadata": {},
     "output_type": "execute_result"
    }
   ],
   "source": [
    "file_obj.variables['date_number'][:]"
   ]
  },
  {
   "cell_type": "code",
   "execution_count": 29,
   "metadata": {},
   "outputs": [
    {
     "data": {
      "text/plain": [
       "(3653,)"
      ]
     },
     "execution_count": 29,
     "metadata": {},
     "output_type": "execute_result"
    }
   ],
   "source": [
    "file_obj.variables['date_number'][:].shape"
   ]
  },
  {
   "cell_type": "code",
   "execution_count": 30,
   "metadata": {},
   "outputs": [
    {
     "name": "stdout",
     "output_type": "stream",
     "text": [
      "0.4986338797755252\n",
      "1.4959016393265756\n",
      "2.493169398877626\n",
      "3.4904371584286764\n",
      "4.487704918062718\n"
     ]
    }
   ],
   "source": [
    "for i in file_obj.variables['date_number'][:].data[:5]:\n",
    "    print((i-int(i))*365)"
   ]
  },
  {
   "cell_type": "markdown",
   "metadata": {},
   "source": [
    "### Year\n",
    "\n",
    "A list of years at which data is reported. \n",
    "Combine with \"month\" and \"day\" to form a full date."
   ]
  },
  {
   "cell_type": "code",
   "execution_count": 31,
   "metadata": {},
   "outputs": [
    {
     "data": {
      "text/plain": [
       "masked_array(data=[2000., 2000., 2000., ..., 2009., 2009., 2009.],\n",
       "             mask=False,\n",
       "       fill_value=1e+20)"
      ]
     },
     "execution_count": 31,
     "metadata": {},
     "output_type": "execute_result"
    }
   ],
   "source": [
    "file_obj.variables['year'][:]"
   ]
  },
  {
   "cell_type": "markdown",
   "metadata": {},
   "source": [
    "### Month\n",
    "A list of months at which data is reported. \n",
    "Combine with \"year\" and \"day\" to form a full date."
   ]
  },
  {
   "cell_type": "code",
   "execution_count": 32,
   "metadata": {},
   "outputs": [
    {
     "data": {
      "text/plain": [
       "masked_array(data=[ 1.,  1.,  1., ..., 12., 12., 12.],\n",
       "             mask=False,\n",
       "       fill_value=1e+20)"
      ]
     },
     "execution_count": 32,
     "metadata": {},
     "output_type": "execute_result"
    }
   ],
   "source": [
    "file_obj.variables['month'][:]"
   ]
  },
  {
   "cell_type": "markdown",
   "metadata": {},
   "source": [
    "### Day\n",
    "A list of days at which data is reported. \n",
    "Combine with \"year\" and \"month\" to form a full date."
   ]
  },
  {
   "cell_type": "code",
   "execution_count": 33,
   "metadata": {},
   "outputs": [
    {
     "data": {
      "text/plain": [
       "masked_array(data=[ 1.,  2.,  3., ..., 29., 30., 31.],\n",
       "             mask=False,\n",
       "       fill_value=1e+20)"
      ]
     },
     "execution_count": 33,
     "metadata": {},
     "output_type": "execute_result"
    }
   ],
   "source": [
    "file_obj.variables['day'][:]"
   ]
  },
  {
   "cell_type": "markdown",
   "metadata": {},
   "source": [
    "### Day_of_year\n",
    "A list of the day of year (1-365) at which data is reported.  \n",
    "This can be used with the \"climatology\" to select the appropriate climatology day to use with each day of temperature anomalies."
   ]
  },
  {
   "cell_type": "code",
   "execution_count": 35,
   "metadata": {},
   "outputs": [
    {
     "data": {
      "text/plain": [
       "masked_array(data=[  1.,   2.,   3., ..., 363., 364., 365.],\n",
       "             mask=False,\n",
       "       fill_value=1e+20)"
      ]
     },
     "execution_count": 35,
     "metadata": {},
     "output_type": "execute_result"
    }
   ],
   "source": [
    "file_obj.variables['day_of_year'][:]"
   ]
  },
  {
   "cell_type": "markdown",
   "metadata": {},
   "source": [
    "During leap years, there will be one duplicated day_of_year value."
   ]
  },
  {
   "cell_type": "code",
   "execution_count": 43,
   "metadata": {},
   "outputs": [
    {
     "name": "stdout",
     "output_type": "stream",
     "text": [
      "13\n",
      "10\n"
     ]
    }
   ],
   "source": [
    "from collections import Counter\n",
    "\n",
    "print(max(Counter(file_obj.variables['day_of_year'][:].data).values()))\n",
    "print(min(Counter(file_obj.variables['day_of_year'][:].data).values()))"
   ]
  },
  {
   "cell_type": "markdown",
   "metadata": {},
   "source": [
    "### Land_mask\n",
    "\n",
    "For each grid cell, the fraction of the cell which corresponds to land (as opposed to ocean or other large water bodies).  "
   ]
  },
  {
   "cell_type": "code",
   "execution_count": 46,
   "metadata": {},
   "outputs": [
    {
     "data": {
      "text/plain": [
       "masked_array(\n",
       "  data=[[1., 1., 1., ..., 1., 1., 1.],\n",
       "        [1., 1., 1., ..., 1., 1., 1.],\n",
       "        [1., 1., 1., ..., 1., 1., 1.],\n",
       "        ...,\n",
       "        [0., 0., 0., ..., 0., 0., 0.],\n",
       "        [0., 0., 0., ..., 0., 0., 0.],\n",
       "        [0., 0., 0., ..., 0., 0., 0.]],\n",
       "  mask=False,\n",
       "  fill_value=1e+20)"
      ]
     },
     "execution_count": 46,
     "metadata": {},
     "output_type": "execute_result"
    }
   ],
   "source": [
    "file_obj.variables['land_mask'][:]"
   ]
  },
  {
   "cell_type": "markdown",
   "metadata": {},
   "source": [
    "### Temperature\n",
    "\n",
    "A surface air temperature anomaly field.  \n",
    "The dimension are latitude x longitude x date.   \n",
    "Each element measures the local temperature anomaly, in degrees C, for the corresponding location and date.  \n",
    "Missing values are reported as NaN.  \n",
    "A value is reported as missing if the grid cell is less than 5% land or if the coverage diagnostic indicates that the locally available data provides less than a 20% constraint on the anomaly."
   ]
  },
  {
   "cell_type": "code",
   "execution_count": 44,
   "metadata": {},
   "outputs": [
    {
     "name": "stderr",
     "output_type": "stream",
     "text": [
      "C:\\Users\\39402\\Anaconda3\\lib\\site-packages\\ipykernel_launcher.py:1: UserWarning: WARNING: valid_min not used since it\n",
      "cannot be safely cast to variable data type\n",
      "  \"\"\"Entry point for launching an IPython kernel.\n",
      "C:\\Users\\39402\\Anaconda3\\lib\\site-packages\\ipykernel_launcher.py:1: UserWarning: WARNING: valid_max not used since it\n",
      "cannot be safely cast to variable data type\n",
      "  \"\"\"Entry point for launching an IPython kernel.\n"
     ]
    },
    {
     "data": {
      "text/plain": [
       "masked_array(\n",
       "  data=[[[-2.614938974380493, -2.614286184310913, -2.613651752471924,\n",
       "          ..., -2.617009162902832, -2.616300582885742,\n",
       "          -2.615610361099243],\n",
       "         [-2.4770781993865967, -2.476513147354126, -2.4760098457336426,\n",
       "          ..., -2.479161024093628, -2.478400707244873,\n",
       "          -2.4777069091796875],\n",
       "         [-2.3174619674682617, -2.3183095455169678, -2.319305419921875,\n",
       "          ..., -2.3158364295959473, -2.316222906112671,\n",
       "          -2.316765546798706],\n",
       "         ...,\n",
       "         [--, --, --, ..., --, --, --],\n",
       "         [--, --, --, ..., --, --, --],\n",
       "         [--, --, --, ..., --, --, --]],\n",
       "\n",
       "        [[-1.093410611152649, -1.0945838689804077, -1.0957797765731812,\n",
       "          ..., -1.0900306701660156, -1.0911335945129395,\n",
       "          -1.0922603607177734],\n",
       "         [-0.9042283892631531, -0.9081172347068787, -0.9120954871177673,\n",
       "          ..., -0.893113911151886, -0.8967251181602478,\n",
       "          -0.90043044090271],\n",
       "         [-0.6810401082038879, -0.687728762626648, -0.6946268081665039,\n",
       "          ..., -0.6622342467308044, -0.6682927012443542,\n",
       "          -0.6745613217353821],\n",
       "         ...,\n",
       "         [--, --, --, ..., --, --, --],\n",
       "         [--, --, --, ..., --, --, --],\n",
       "         [--, --, --, ..., --, --, --]],\n",
       "\n",
       "        [[-1.4375159740447998, -1.438000202178955, -1.4385356903076172,\n",
       "          ..., -1.4363733530044556, -1.4367022514343262,\n",
       "          -1.4370832443237305],\n",
       "         [-1.1064252853393555, -1.1090465784072876, -1.1118139028549194,\n",
       "          ..., -1.0994610786437988, -1.1016303300857544,\n",
       "          -1.1039525270462036],\n",
       "         [-0.7786251306533813, -0.7846943140029907, -0.791000485420227,\n",
       "          ..., -0.7618969082832336, -0.7672207355499268,\n",
       "          -0.7727986574172974],\n",
       "         ...,\n",
       "         [--, --, --, ..., --, --, --],\n",
       "         [--, --, --, ..., --, --, --],\n",
       "         [--, --, --, ..., --, --, --]],\n",
       "\n",
       "        ...,\n",
       "\n",
       "        [[-1.9391130208969116, -1.9399547576904297, -1.9408423900604248,\n",
       "          ..., -1.936861515045166, -1.9375665187835693,\n",
       "          -1.9383169412612915],\n",
       "         [-1.6185177564620972, -1.618165373802185, -1.6179670095443726,\n",
       "          ..., -1.6204593181610107, -1.6196686029434204,\n",
       "          -1.6190201044082642],\n",
       "         [-1.3042758703231812, -1.3006597757339478, -1.2972475290298462,\n",
       "          ..., -1.316348671913147, -1.3121200799942017,\n",
       "          -1.3080958127975464],\n",
       "         ...,\n",
       "         [--, --, --, ..., --, --, --],\n",
       "         [--, --, --, ..., --, --, --],\n",
       "         [--, --, --, ..., --, --, --]],\n",
       "\n",
       "        [[-1.4613975286483765, -1.4604371786117554, -1.45955228805542,\n",
       "          ..., -1.464726448059082, -1.4635426998138428,\n",
       "          -1.462432861328125],\n",
       "         [-0.9224018454551697, -0.9180037975311279, -0.9138622283935547,\n",
       "          ..., -0.9371008276939392, -0.9319538474082947,\n",
       "          -0.9270529747009277],\n",
       "         [-0.39054763317108154, -0.38158103823661804,\n",
       "          -0.372967392206192, ..., -0.4195467233657837,\n",
       "          -0.40953218936920166, -0.3998652696609497],\n",
       "         ...,\n",
       "         [--, --, --, ..., --, --, --],\n",
       "         [--, --, --, ..., --, --, --],\n",
       "         [--, --, --, ..., --, --, --]],\n",
       "\n",
       "        [[-2.1049978733062744, -2.103978395462036, -2.1030077934265137,\n",
       "          ..., -2.108344078063965, -2.1071808338165283,\n",
       "          -2.106065273284912],\n",
       "         [-1.764774203300476, -1.7615211009979248, -1.7584271430969238,\n",
       "          ..., -1.775476336479187, -1.771753191947937,\n",
       "          -1.7681853771209717],\n",
       "         [-1.4009348154067993, -1.3954404592514038, -1.390250325202942,\n",
       "          ..., -1.4192392826080322, -1.4128350019454956,\n",
       "          -1.4067331552505493],\n",
       "         ...,\n",
       "         [--, --, --, ..., --, --, --],\n",
       "         [--, --, --, ..., --, --, --],\n",
       "         [--, --, --, ..., --, --, --]]],\n",
       "  mask=[[[False, False, False, ..., False, False, False],\n",
       "         [False, False, False, ..., False, False, False],\n",
       "         [False, False, False, ..., False, False, False],\n",
       "         ...,\n",
       "         [ True,  True,  True, ...,  True,  True,  True],\n",
       "         [ True,  True,  True, ...,  True,  True,  True],\n",
       "         [ True,  True,  True, ...,  True,  True,  True]],\n",
       "\n",
       "        [[False, False, False, ..., False, False, False],\n",
       "         [False, False, False, ..., False, False, False],\n",
       "         [False, False, False, ..., False, False, False],\n",
       "         ...,\n",
       "         [ True,  True,  True, ...,  True,  True,  True],\n",
       "         [ True,  True,  True, ...,  True,  True,  True],\n",
       "         [ True,  True,  True, ...,  True,  True,  True]],\n",
       "\n",
       "        [[False, False, False, ..., False, False, False],\n",
       "         [False, False, False, ..., False, False, False],\n",
       "         [False, False, False, ..., False, False, False],\n",
       "         ...,\n",
       "         [ True,  True,  True, ...,  True,  True,  True],\n",
       "         [ True,  True,  True, ...,  True,  True,  True],\n",
       "         [ True,  True,  True, ...,  True,  True,  True]],\n",
       "\n",
       "        ...,\n",
       "\n",
       "        [[False, False, False, ..., False, False, False],\n",
       "         [False, False, False, ..., False, False, False],\n",
       "         [False, False, False, ..., False, False, False],\n",
       "         ...,\n",
       "         [ True,  True,  True, ...,  True,  True,  True],\n",
       "         [ True,  True,  True, ...,  True,  True,  True],\n",
       "         [ True,  True,  True, ...,  True,  True,  True]],\n",
       "\n",
       "        [[False, False, False, ..., False, False, False],\n",
       "         [False, False, False, ..., False, False, False],\n",
       "         [False, False, False, ..., False, False, False],\n",
       "         ...,\n",
       "         [ True,  True,  True, ...,  True,  True,  True],\n",
       "         [ True,  True,  True, ...,  True,  True,  True],\n",
       "         [ True,  True,  True, ...,  True,  True,  True]],\n",
       "\n",
       "        [[False, False, False, ..., False, False, False],\n",
       "         [False, False, False, ..., False, False, False],\n",
       "         [False, False, False, ..., False, False, False],\n",
       "         ...,\n",
       "         [ True,  True,  True, ...,  True,  True,  True],\n",
       "         [ True,  True,  True, ...,  True,  True,  True],\n",
       "         [ True,  True,  True, ...,  True,  True,  True]]],\n",
       "  fill_value=nan,\n",
       "  dtype=float32)"
      ]
     },
     "execution_count": 44,
     "metadata": {},
     "output_type": "execute_result"
    }
   ],
   "source": [
    "file_obj.variables['temperature'][:]"
   ]
  },
  {
   "cell_type": "markdown",
   "metadata": {},
   "source": [
    "### Climatology\n",
    "For each grid cell, an estimate of the true surface temperature for each day of year (1-365) during the period January 1951 to December 1980 reported in degrees C.  \n",
    "The dimensions are latitude x longitude x day_of_year, where day_of_year has length 365."
   ]
  },
  {
   "cell_type": "code",
   "execution_count": 47,
   "metadata": {},
   "outputs": [
    {
     "data": {
      "text/plain": [
       "masked_array(\n",
       "  data=[[[-24.57350730895996, -24.559814453125, -24.55699348449707, ...,\n",
       "          -24.623008728027344, -24.60049057006836, -24.58745002746582],\n",
       "         [-26.85073471069336, -26.88797950744629, -26.942461013793945,\n",
       "          ..., -26.85883140563965, -26.839111328125,\n",
       "          -26.835569381713867],\n",
       "         [-26.22846794128418, -26.264320373535156, -26.259254455566406,\n",
       "          ..., -26.309627532958984, -26.278331756591797,\n",
       "          -26.231531143188477],\n",
       "         ...,\n",
       "         [--, --, --, ..., --, --, --],\n",
       "         [--, --, --, ..., --, --, --],\n",
       "         [--, --, --, ..., --, --, --]],\n",
       "\n",
       "        [[-24.640592575073242, -24.626792907714844, -24.62378692626953,\n",
       "          ..., -24.690349578857422, -24.66779327392578,\n",
       "          -24.654644012451172],\n",
       "         [-26.9128360748291, -26.949647903442383, -27.003568649291992,\n",
       "          ..., -26.92136573791504, -26.901626586914062,\n",
       "          -26.897947311401367],\n",
       "         [-26.28684425354004, -26.32185173034668, -26.31598663330078,\n",
       "          ..., -26.368515014648438, -26.3371524810791,\n",
       "          -26.290328979492188],\n",
       "         ...,\n",
       "         [--, --, --, ..., --, --, --],\n",
       "         [--, --, --, ..., --, --, --],\n",
       "         [--, --, --, ..., --, --, --]],\n",
       "\n",
       "        [[-24.724271774291992, -24.710357666015625, -24.707157135009766,\n",
       "          ..., -24.774293899536133, -24.751699447631836,\n",
       "          -24.73843765258789],\n",
       "         [-26.990394592285156, -27.0267391204834, -27.080049514770508,\n",
       "          ..., -26.999378204345703, -26.979625701904297,\n",
       "          -26.97580337524414],\n",
       "         [-26.359577178955078, -26.393665313720703, -26.386926651000977,\n",
       "          ..., -26.441791534423828, -26.41036033630371,\n",
       "          -26.363521575927734],\n",
       "         ...,\n",
       "         [--, --, --, ..., --, --, --],\n",
       "         [--, --, --, ..., --, --, --],\n",
       "         [--, --, --, ..., --, --, --]],\n",
       "\n",
       "        ...,\n",
       "\n",
       "        [[-24.472431182861328, -24.459022521972656, -24.456668853759766,\n",
       "          ..., -24.521238327026367, -24.498842239379883,\n",
       "          -24.486087799072266],\n",
       "         [-26.757719039916992, -26.796049118041992, -26.8519229888916,\n",
       "          ..., -26.76465606689453, -26.745025634765625,\n",
       "          -26.741846084594727],\n",
       "         [-26.139970779418945, -26.177888870239258, -26.174789428710938,\n",
       "          ..., -26.219806671142578, -26.188701629638672,\n",
       "          -26.141983032226562],\n",
       "         ...,\n",
       "         [--, --, --, ..., --, --, --],\n",
       "         [--, --, --, ..., --, --, --],\n",
       "         [--, --, --, ..., --, --, --]],\n",
       "\n",
       "        [[-24.4893856048584, -24.475889205932617, -24.4733943939209,\n",
       "          ..., -24.538410186767578, -24.515975952148438,\n",
       "          -24.50313377380371],\n",
       "         [-26.773141860961914, -26.811145782470703, -26.86660385131836,\n",
       "          ..., -26.780441284179688, -26.760774612426758,\n",
       "          -26.757482528686523],\n",
       "         [-26.155000686645508, -26.19230842590332, -26.188627243041992,\n",
       "          ..., -26.235240936279297, -26.204072952270508,\n",
       "          -26.157325744628906],\n",
       "         ...,\n",
       "         [--, --, --, ..., --, --, --],\n",
       "         [--, --, --, ..., --, --, --],\n",
       "         [--, --, --, ..., --, --, --]],\n",
       "\n",
       "        [[-24.523088455200195, -24.509496688842773, -24.50684356689453,\n",
       "          ..., -24.572343826293945, -24.549869537353516,\n",
       "          -24.536930084228516],\n",
       "         [-26.804153442382812, -26.841798782348633, -26.896793365478516,\n",
       "          ..., -26.81184196472168, -26.792146682739258,\n",
       "          -26.788734436035156],\n",
       "         [-26.184507369995117, -26.221126556396484, -26.21678924560547,\n",
       "          ..., -26.265188217163086, -26.233957290649414,\n",
       "          -26.187183380126953],\n",
       "         ...,\n",
       "         [--, --, --, ..., --, --, --],\n",
       "         [--, --, --, ..., --, --, --],\n",
       "         [--, --, --, ..., --, --, --]]],\n",
       "  mask=[[[False, False, False, ..., False, False, False],\n",
       "         [False, False, False, ..., False, False, False],\n",
       "         [False, False, False, ..., False, False, False],\n",
       "         ...,\n",
       "         [ True,  True,  True, ...,  True,  True,  True],\n",
       "         [ True,  True,  True, ...,  True,  True,  True],\n",
       "         [ True,  True,  True, ...,  True,  True,  True]],\n",
       "\n",
       "        [[False, False, False, ..., False, False, False],\n",
       "         [False, False, False, ..., False, False, False],\n",
       "         [False, False, False, ..., False, False, False],\n",
       "         ...,\n",
       "         [ True,  True,  True, ...,  True,  True,  True],\n",
       "         [ True,  True,  True, ...,  True,  True,  True],\n",
       "         [ True,  True,  True, ...,  True,  True,  True]],\n",
       "\n",
       "        [[False, False, False, ..., False, False, False],\n",
       "         [False, False, False, ..., False, False, False],\n",
       "         [False, False, False, ..., False, False, False],\n",
       "         ...,\n",
       "         [ True,  True,  True, ...,  True,  True,  True],\n",
       "         [ True,  True,  True, ...,  True,  True,  True],\n",
       "         [ True,  True,  True, ...,  True,  True,  True]],\n",
       "\n",
       "        ...,\n",
       "\n",
       "        [[False, False, False, ..., False, False, False],\n",
       "         [False, False, False, ..., False, False, False],\n",
       "         [False, False, False, ..., False, False, False],\n",
       "         ...,\n",
       "         [ True,  True,  True, ...,  True,  True,  True],\n",
       "         [ True,  True,  True, ...,  True,  True,  True],\n",
       "         [ True,  True,  True, ...,  True,  True,  True]],\n",
       "\n",
       "        [[False, False, False, ..., False, False, False],\n",
       "         [False, False, False, ..., False, False, False],\n",
       "         [False, False, False, ..., False, False, False],\n",
       "         ...,\n",
       "         [ True,  True,  True, ...,  True,  True,  True],\n",
       "         [ True,  True,  True, ...,  True,  True,  True],\n",
       "         [ True,  True,  True, ...,  True,  True,  True]],\n",
       "\n",
       "        [[False, False, False, ..., False, False, False],\n",
       "         [False, False, False, ..., False, False, False],\n",
       "         [False, False, False, ..., False, False, False],\n",
       "         ...,\n",
       "         [ True,  True,  True, ...,  True,  True,  True],\n",
       "         [ True,  True,  True, ...,  True,  True,  True],\n",
       "         [ True,  True,  True, ...,  True,  True,  True]]],\n",
       "  fill_value=nan,\n",
       "  dtype=float32)"
      ]
     },
     "execution_count": 47,
     "metadata": {},
     "output_type": "execute_result"
    }
   ],
   "source": [
    "file_obj.variables['climatology'][:]"
   ]
  },
  {
   "cell_type": "code",
   "execution_count": null,
   "metadata": {},
   "outputs": [],
   "source": []
  },
  {
   "cell_type": "markdown",
   "metadata": {},
   "source": [
    "## Utility functions"
   ]
  },
  {
   "cell_type": "code",
   "execution_count": 57,
   "metadata": {},
   "outputs": [],
   "source": [
    "# global var\n",
    "DATASET=dict()\n",
    "DATASET_PREFIX=\"Complete_TAVG_Daily_LatLong1_\"\n",
    "\n",
    "def loadDatasets(decade=None):\n",
    "    if not decade:\n",
    "        for i in range(1880,2020,10):\n",
    "            fileName=\"{prefix}{decd}.nc\".format(prefix = DATASET_PREFIX, decd = i)\n",
    "            DATASET[str(i)]=nc.Dataset(fileName,encoding=\"utf-8\")\n",
    "    else:\n",
    "        try:\n",
    "            fileName=\"{prefix}{decd}.nc\".format(prefix = DATASET_PREFIX, decd = decade)\n",
    "            DATASET[str(decade)]=nc.Dataset(fileName,encoding=\"utf-8\")\n",
    "        except:\n",
    "            raise NameError(\"Wrong input parameters for func loadDatasets()\")"
   ]
  },
  {
   "cell_type": "code",
   "execution_count": 60,
   "metadata": {},
   "outputs": [],
   "source": [
    "# examples\n",
    "\n",
    "loadDatasets() # load all\n",
    "\n",
    "loadDatasets(1990)  # load only target decades\n",
    "loadDatasets(\"1990\")"
   ]
  },
  {
   "cell_type": "code",
   "execution_count": null,
   "metadata": {},
   "outputs": [],
   "source": []
  },
  {
   "cell_type": "code",
   "execution_count": 90,
   "metadata": {},
   "outputs": [],
   "source": [
    "def getCoord(lat,lng):\n",
    "    # eg. Coord for New York: 40.7128° N, 74.0060° W\n",
    "    # input format: 41N, 74W\n",
    "    # output format: target indices for the fields that require lat/long, such as teperature/climatology\n",
    "    targetIndices=[0,0]\n",
    "    \n",
    "    if lat.endswith(\"N\") or lat.endswith(\"n\"):\n",
    "        targetIndices[0]=90+int(lat[:-1])\n",
    "        if targetIndices[0]==180:\n",
    "            targetIndices[0]=179\n",
    "    elif lat.endswith(\"S\") or lat.endswith(\"s\"):\n",
    "        targetIndices[0]=90-int(lat[:-1])\n",
    "    else:\n",
    "        raise NameError(\"Wrong input parameters for func getCoord() in lat\")\n",
    "        \n",
    "    if lng.endswith(\"E\") or lng.endswith(\"e\"):\n",
    "        targetIndices[1]=180+int(lng[:-1])\n",
    "        if targetIndices[1]==360:\n",
    "            targetIndices[1]=359\n",
    "    elif lng.endswith(\"W\") or lng.endswith(\"w\"):\n",
    "        targetIndices[1]=180-int(lng[:-1])\n",
    "    else:\n",
    "        raise NameError(\"Wrong input parameters for func getCoord() in lng\")\n",
    "        \n",
    "    return targetIndices"
   ]
  },
  {
   "cell_type": "code",
   "execution_count": null,
   "metadata": {},
   "outputs": [],
   "source": []
  },
  {
   "cell_type": "markdown",
   "metadata": {},
   "source": [
    "## Examples (plotting)"
   ]
  },
  {
   "cell_type": "code",
   "execution_count": 84,
   "metadata": {},
   "outputs": [
    {
     "name": "stderr",
     "output_type": "stream",
     "text": [
      "C:\\Users\\39402\\Anaconda3\\lib\\site-packages\\ipykernel_launcher.py:2: UserWarning: WARNING: valid_min not used since it\n",
      "cannot be safely cast to variable data type\n",
      "  \n",
      "C:\\Users\\39402\\Anaconda3\\lib\\site-packages\\ipykernel_launcher.py:2: UserWarning: WARNING: valid_max not used since it\n",
      "cannot be safely cast to variable data type\n",
      "  \n"
     ]
    }
   ],
   "source": [
    "loadDatasets()\n",
    "tarCoord=getCoord(\"41N\",\"74W\")"
   ]
  },
  {
   "cell_type": "code",
   "execution_count": 97,
   "metadata": {},
   "outputs": [],
   "source": [
    "temper2000=DATASET[\"2000\"].variables['temperature'][:]\n",
    "newYork2000=temper2000[:,tarCoord[0],tarCoord[1]].data\n",
    "\n",
    "newYork2000Avg=[0]*365\n",
    "for i in range(10):\n",
    "    for j in range(365):\n",
    "        newYork2000Avg[j]+=newYork2000[i*365+j]\n",
    "\n",
    "newYork2000Avg=[i/10 for i in newYork2000Avg]"
   ]
  },
  {
   "cell_type": "code",
   "execution_count": 101,
   "metadata": {},
   "outputs": [
    {
     "name": "stderr",
     "output_type": "stream",
     "text": [
      "C:\\Users\\39402\\Anaconda3\\lib\\site-packages\\ipykernel_launcher.py:1: UserWarning: WARNING: valid_min not used since it\n",
      "cannot be safely cast to variable data type\n",
      "  \"\"\"Entry point for launching an IPython kernel.\n",
      "C:\\Users\\39402\\Anaconda3\\lib\\site-packages\\ipykernel_launcher.py:1: UserWarning: WARNING: valid_max not used since it\n",
      "cannot be safely cast to variable data type\n",
      "  \"\"\"Entry point for launching an IPython kernel.\n"
     ]
    }
   ],
   "source": [
    "temper1900=DATASET[\"1900\"].variables['temperature'][:]\n",
    "newYork1900=temper1900[:,tarCoord[0],tarCoord[1]].data\n",
    "\n",
    "newYork1900Avg=[0]*365\n",
    "for i in range(10):\n",
    "    for j in range(365):\n",
    "        newYork1900Avg[j]+=newYork1900[i*365+j]\n",
    "\n",
    "newYork1900Avg=[i/10 for i in newYork1900Avg]"
   ]
  },
  {
   "cell_type": "code",
   "execution_count": 104,
   "metadata": {},
   "outputs": [
    {
     "data": {
      "text/plain": [
       "<matplotlib.legend.Legend at 0x1ead48ceda0>"
      ]
     },
     "execution_count": 104,
     "metadata": {},
     "output_type": "execute_result"
    },
    {
     "data": {
      "image/png": "[encoded data removed]",
      "text/plain": [
       "<Figure size 720x720 with 1 Axes>"
      ]
     },
     "metadata": {
      "needs_background": "light"
     },
     "output_type": "display_data"
    }
   ],
   "source": [
    "import matplotlib.pyplot as plt  \n",
    "\n",
    "plt.figure(figsize=(10,10))\n",
    "\n",
    "plt.plot(newYork1900Avg,label=\"1900s\")\n",
    "plt.plot(newYork2000Avg,label=\"2000s\")\n",
    "\n",
    "plt.xlabel(\"Day of the Year\", fontsize=20) \n",
    "plt.ylabel(\"Anomly (Celsius)\", fontsize=20)\n",
    "plt.title(\"Temperature Anomly in 1900s Vs. in 2000s\", fontsize=20)\n",
    "plt.legend(fontsize=15)"
   ]
  },
  {
   "cell_type": "code",
   "execution_count": 103,
   "metadata": {},
   "outputs": [],
   "source": [
    "plt.show()"
   ]
  },
  {
   "cell_type": "code",
   "execution_count": 105,
   "metadata": {},
   "outputs": [
    {
     "name": "stdout",
     "output_type": "stream",
     "text": [
      "0.2562383983257126\n"
     ]
    }
   ],
   "source": [
    "print(sum(newYork2000Avg)/len(newYork2000Avg))"
   ]
  },
  {
   "cell_type": "code",
   "execution_count": 106,
   "metadata": {},
   "outputs": [
    {
     "name": "stdout",
     "output_type": "stream",
     "text": [
      "-1.005385028937396\n"
     ]
    }
   ],
   "source": [
    "print(sum(newYork1900Avg)/len(newYork1900Avg))"
   ]
  }
 ],
 "metadata": {
  "kernelspec": {
   "display_name": "Python 3",
   "language": "python",
   "name": "python3"
  },
  "language_info": {
   "codemirror_mode": {
    "name": "ipython",
    "version": 3
   },
   "file_extension": ".py",
   "mimetype": "text/x-python",
   "name": "python",
   "nbconvert_exporter": "python",
   "pygments_lexer": "ipython3",
   "version": "3.7.0"
  }
 },
 "nbformat": 4,
 "nbformat_minor": 2
}
